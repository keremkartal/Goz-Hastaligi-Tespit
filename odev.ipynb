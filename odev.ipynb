{
 "cells": [
  {
   "cell_type": "markdown",
   "metadata": {},
   "source": [
    "## 1. Kütüphaneleri ve Modülleri İçe Aktarma\n",
    "\n",
    "Aşağıdaki satırlar, projenizde kullanacağınız temel işlevsellikleri sağlayacak Python kütüphanelerini içe aktarır:\n",
    "\n",
    "```python\n",
    "import os\n",
    "````\n",
    "\n",
    "* **os**: İşletim sistemiyle etkileşim kurmak için (dosya/dizin işlemleri, ortam değişkenleri vb.).\n",
    "\n",
    "```python\n",
    "# Random Module\n",
    "import random\n",
    "```\n",
    "\n",
    "* **random**: Rastgele sayı ve seçim işlemleri yapmak için.\n",
    "\n",
    "```python\n",
    "# Data manipulation and linear algebra\n",
    "import numpy as np\n",
    "import pandas as pd\n",
    "```\n",
    "\n",
    "* **numpy (np)**: Yüksek performanslı çok boyutlu dizi (array) işlemleri ve lineer cebir fonksiyonları.\n",
    "* **pandas (pd)**: Veri yükleme, temizleme ve analiz için DataFrame yapısı.\n",
    "\n",
    "```python\n",
    "# Visualization\n",
    "import matplotlib.pyplot as plt\n",
    "import matplotlib.image as mpimage\n",
    "import cv2\n",
    "```\n",
    "\n",
    "* **matplotlib.pyplot (plt)**: Grafik çizimleri (çizgi grafiği, histogram, scatter, vb.).\n",
    "* **matplotlib.image (mpimage)**: Görüntü dosyalarını okuyup göstermeye yarar.\n",
    "* **cv2**: OpenCV kütüphanesi; görüntü işleme ve bilgisayarlı görü fonksiyonları için.\n",
    "\n",
    "```python\n",
    "# Neural network API\n",
    "import tensorflow as tf\n",
    "from tensorflow.keras.preprocessing.image import (\n",
    "    ImageDataGenerator,\n",
    "    array_to_img,\n",
    "    img_to_array,\n",
    "    load_img\n",
    ")\n",
    "```\n",
    "\n",
    "* **tensorflow (tf)**: Derin öğrenme modellerini tanımlamak ve eğitmek için Google’ın geliştirdiği API.\n",
    "* **ImageDataGenerator**: Görüntüleri gerçek zamanlı olarak augmentasyon (çeşitleme) ve besleme için.\n",
    "* **array\\_to\\_img, img\\_to\\_array, load\\_img**:\n",
    "\n",
    "  * `load_img()`: Diskten görüntü dosyasını okur.\n",
    "  * `img_to_array()`: PIL veya benzeri bir görüntüyü NumPy dizisine çevirir.\n",
    "  * `array_to_img()`: Tersi yönde NumPy dizisini görüntü objesine dönüştürür.\n",
    "\n",
    "```python\n",
    "from sklearn.model_selection import train_test_split\n",
    "```\n",
    "\n",
    "* **train\\_test\\_split**: Veri setini eğitim ve test (ve/veya doğrulama) olarak rastgele ayırmak için.\n",
    "\n",
    "---\n",
    "\n",
    "Bu ilk adım, veri yükleme, işleme, görselleştirme ve model eğitimi için gerekli tüm temel kütüphaneleri hazırlar. Bir sonraki adımda bu kütüphanelerin nasıl kullanılacağına dair örnek kodlarla ilerleyeceğiz.\n"
   ]
  },
  {
   "cell_type": "code",
   "execution_count": 2,
   "metadata": {
    "executionInfo": {
     "elapsed": 48,
     "status": "ok",
     "timestamp": 1746521883573,
     "user": {
      "displayName": "Kerem Kartal",
      "userId": "01578238521874098470"
     },
     "user_tz": -180
    },
    "id": "QaZBUhyTmm4d"
   },
   "outputs": [],
   "source": [
    "import os\n",
    "\n",
    "# Random Module\n",
    "import random\n",
    "\n",
    "# Data manipulation and linear algebra\n",
    "import numpy as np\n",
    "import pandas as pd\n",
    "\n",
    "# Visualization\n",
    "import matplotlib.pyplot as plt\n",
    "import matplotlib.image as mpimage\n",
    "import cv2\n",
    "\n",
    "# Neural network API\n",
    "import tensorflow as tf\n",
    "from tensorflow.keras.preprocessing.image import ImageDataGenerator, array_to_img, img_to_array, load_img\n",
    "\n",
    "from sklearn.model_selection import train_test_split"
   ]
  },
  {
   "cell_type": "markdown",
   "metadata": {},
   "source": [
    "## 2. Görüntüleri Yükleme ve Ön İşleme\n",
    "\n",
    "- **`save_images(path_dir)` fonksiyonu**  \n",
    "  1. `os.listdir` ile klasördeki dosya isimlerini alır.  \n",
    "  2. Her bir dosyayı `cv2.imread` ile BGR formatında okur.  \n",
    "  3. `cv2.cvtColor` ile BGR → RGB dönüşümü yapar.  \n",
    "  4. `cv2.resize` ile her görüntüyü 200×200 piksele sabitler.  \n",
    "  5. İşlenen görüntüleri bir listeye ekler ve en sonunda `np.asarray` ile NumPy dizisine çevirir.\n",
    "\n",
    "- **Colab üzerinde klasör yapısının oluşturulması**  \n",
    "  - `mkdir -p` komutu Train ve Test altında dört ayrı hasta sınıfı (cataract, glaucoma, diabetic_retinopathy, normal) için gerekli alt klasörleri bir kerede oluşturur.\n",
    "\n",
    "- **Veri setinin yüklenmesi**  \n",
    "  - `dataset_dir` içindeki her bir alt klasörden (`'cataract'`, `'glaucoma'`, …) `save_images` çağrılarak işlenmiş görüntüler elde edilir.\n",
    "\n",
    "- **Tüm görüntülerin birleştirilmesi**  \n",
    "  - `np.concatenate` ile dört sınıfa ait görüntü dizileri tek bir `eye_diseases_img` dizisinde toplanır.\n",
    "\n",
    "- **Etiket dizisinin oluşturulması**  \n",
    "  - `np.repeat` ile her sınıf için sabit bir tamsayı (0,1,2,3) tekrarlanarak `label_eye_diseases` dizisi oluşturulur.  \n",
    "  - Bu sayede her görüntünün karşısına doğru sınıf etiketi yerleştirilmiş olur.\n",
    "\n",
    "- **Etiket–sınıf adı eşlemesi**  \n",
    "  - `{0: 'cataract', 1: 'glaucoma', 2: 'diabetic_retinopathy', 3: 'normal'}` sözlüğü, model çıktılarını anlaşılır isimlerle eşlemek için kullanılır.\n",
    "\n",
    "---\n",
    "\n",
    "Bu sayede elinizde:\n",
    "\n",
    "1. Sabit boyutlu ve RGB formatındaki görüntü dizisi (`eye_diseases_img`)  \n",
    "2. Karşılık gelen etiket dizisi (`label_eye_diseases`)  \n",
    "3. Etiket–isim eşlemesi (`dict_labels_eye_diseases`)  \n",
    "\n",
    "hazır hale gelmiş oldu. Bundan sonra bu verileri eğitim/test setlerine bölüp modele besleyebiliriz.\n"
   ]
  },
  {
   "cell_type": "code",
   "execution_count": null,
   "metadata": {
    "executionInfo": {
     "elapsed": 197198,
     "status": "ok",
     "timestamp": 1746522082779,
     "user": {
      "displayName": "Kerem Kartal",
      "userId": "01578238521874098470"
     },
     "user_tz": -180
    },
    "id": "NGHieVGxnCr-"
   },
   "outputs": [],
   "source": [
    "import os\n",
    "import cv2\n",
    "import numpy as np\n",
    "\n",
    "def save_images(path_dir):\n",
    "    images = []\n",
    "    for jpg in os.listdir(path_dir):\n",
    "        img_path = os.path.join(path_dir, jpg)\n",
    "        image_high_resolution = cv2.imread(img_path)\n",
    "        image_change_color = cv2.cvtColor(image_high_resolution, cv2.COLOR_BGR2RGB)\n",
    "        image_low_resolution = cv2.resize(image_change_color, (200, 200))\n",
    "        images.append(image_low_resolution)\n",
    "    return np.asarray(images)\n",
    "\n",
    "!mkdir -p /content/drive/MyDrive/model/Train/cataract /content/drive/MyDrive/model/Train/glaucoma \\\n",
    "            /content/drive/MyDrive//model/Train/diabetic_retinopathy /content/drive/MyDrive/model/Train/normal\n",
    "!mkdir -p /content/drive/MyDrive/model/Test/cataract  /content/drive/MyDrive/model/Test/glaucoma \\\n",
    "            /content/drive/MyDrive/model/Test/diabetic_retinopathy  /content/drive/MyDrive/model/Test/normal\n",
    "\n",
    "# Dataset’in olduğu ana dizin\n",
    "dataset_dir = '/content/drive/MyDrive/dataset'\n",
    "\n",
    "# Görselleri yükle\n",
    "cataract_img = save_images(os.path.join(dataset_dir, 'cataract'))\n",
    "glaucoma_img = save_images(os.path.join(dataset_dir, 'glaucoma'))\n",
    "diabetic_retinopathy_img = save_images(os.path.join(dataset_dir, 'diabetic_retinopathy'))\n",
    "normal_img = save_images(os.path.join(dataset_dir, 'normal'))\n",
    "\n",
    "# Hepsini bir araya getir\n",
    "eye_diseases_img = np.concatenate((\n",
    "    cataract_img,\n",
    "    glaucoma_img,\n",
    "    diabetic_retinopathy_img,\n",
    "    normal_img\n",
    "))\n",
    "\n",
    "label_eye_diseases = np.concatenate((\n",
    "    np.repeat(0, cataract_img.shape[0]),            # Cataract etiketleri\n",
    "    np.repeat(1, glaucoma_img.shape[0]),            # Glaucoma etiketleri\n",
    "    np.repeat(2, diabetic_retinopathy_img.shape[0]),# Diabetic Retinopathy etiketleri\n",
    "    np.repeat(3, normal_img.shape[0])               # Normal etiketleri\n",
    "))\n",
    "\n",
    "# Label – isim eşlemesi\n",
    "dict_labels_eye_diseases = {\n",
    "    0: 'cataract',\n",
    "    1: 'glaucoma',\n",
    "    2: 'diabetic_retinopathy',\n",
    "    3: 'normal'\n",
    "}\n"
   ]
  },
  {
   "cell_type": "markdown",
   "metadata": {},
   "source": [
    "## 3. Veri Boyutunu İnceleme\n",
    "\n",
    "- **`eye_diseases_img.shape`** dört elemanlı bir tuple döndürür:  \n",
    "  1. `shape[0]` → Toplam görüntü sayısı  \n",
    "  2. `shape[1]` → Görüntü yüksekliği (piksel)  \n",
    "  3. `shape[2]` → Görüntü genişliği (piksel)  \n",
    "  4. `shape[3]` → Renk kanalı sayısı (RGB için 3)\n",
    "\n",
    "- **F-string kullanımı**  \n",
    "  ```python\n",
    "  print(f'''Total number of images: {eye_diseases_img.shape[0]}\n",
    "          Resolution: {eye_diseases_img.shape[1]} x {eye_diseases_img.shape[2]}\n",
    "          Channels of Color: {eye_diseases_img.shape[3]} (RGB)''')\n"
   ]
  },
  {
   "cell_type": "code",
   "execution_count": 7,
   "metadata": {
    "colab": {
     "base_uri": "https://localhost:8080/"
    },
    "executionInfo": {
     "elapsed": 22,
     "status": "ok",
     "timestamp": 1746522339648,
     "user": {
      "displayName": "Kerem Kartal",
      "userId": "01578238521874098470"
     },
     "user_tz": -180
    },
    "id": "8xbefGyioajk",
    "outputId": "70386952-983b-4732-829a-caef926476d0"
   },
   "outputs": [
    {
     "name": "stdout",
     "output_type": "stream",
     "text": [
      "Total number of images: 4217\n",
      "        Resolution: 200 x 200\n",
      "        Channels of Color: 3 (RGB)\n"
     ]
    }
   ],
   "source": [
    "print(f'''Total number of images: {eye_diseases_img.shape[0]}\n",
    "        Resolution: {eye_diseases_img.shape[1]} x {eye_diseases_img.shape[2]}\n",
    "        Channels of Color: {eye_diseases_img.shape[3]} (RGB)''')\n"
   ]
  },
  {
   "cell_type": "markdown",
   "metadata": {},
   "source": [
    "## 4. Veri Setini Bölme, Kaydetme ve DataGenerator Ayarları\n",
    "\n",
    "- **Veri setini eğitim/test olarak ayırma**  \n",
    "  - `train_test_split` ile verinin %70’i eğitim, %30’u test olarak ayrıldı.  \n",
    "  - `random_state=2184` ile bölme her çalıştırmada aynı sonucu verir.\n",
    "\n",
    "- **Görüntüleri klasörlere kaydetme fonksiyonu**  \n",
    "  - `save_images_directories(x, y, dir_set)` her bir görüntüyü  \n",
    "    - etikete karşılık gelen alt klasöre  \n",
    "    - rastgele isimle (`np.random.randint(1e6)`)  \n",
    "    - JPEG formatında (`plt.imsave`) kaydeder.\n",
    "\n",
    "- **Train/Test klasörlerine kaydetme**  \n",
    "  - `x_train, y_train` → `/model/Train`  \n",
    "  - `x_test,  y_test`  → `/model/Test`\n",
    "\n",
    "- **ImageDataGenerator ile ölçekleme ve augmentasyon**  \n",
    "  - `rescale=1/255` → Piksel değerlerini [0,1] aralığına dönüştürür.  \n",
    "  - `horizontal_flip=True` → Yatay çevirme ile veri çeşitliliği.  \n",
    "  - `validation_split=0.2` (sadece test_datagen’da) → Test dizininden %20’sini doğrulama için ayırır.\n",
    "\n",
    "- **flow_from_directory ile jeneratör oluşturma**  \n",
    "  - **Eğitim**  \n",
    "    - Klasör: `/model/Train`  \n",
    "    - `subset='training'`  \n",
    "    - Batch size: 128  \n",
    "    - Çıktı: 2950 resim, 4 sınıf  \n",
    "  - **Doğrulama**  \n",
    "    - Klasör: `/model/Test`  \n",
    "    - `subset='validation'`  \n",
    "    - Batch size: 128  \n",
    "    - Çıktı: 252 resim, 4 sınıf  \n",
    "  - **Test**  \n",
    "    - Klasör: `/model/Test`  \n",
    "    - `subset` kullanılmaz  \n",
    "    - Batch size: 128  \n",
    "    - Çıktı: 1266 resim, 4 sınıf\n",
    "\n",
    "- **Sınıf isimlerinin listelenmesi**  \n",
    "  - `classes = list(dict_labels_eye_diseases.values())`  \n",
    "  - Sonuç: `['cataract', 'glaucoma', 'diabetic_retinopathy', 'normal']`  \n",
    "\n",
    "---\n",
    "\n",
    "Bu adımda:\n",
    "1. Ham NumPy dizilerini klasörlere dönüştürdük.  \n",
    "2. `ImageDataGenerator` ile ölçekleme ve basit augmentasyon ekledik.  \n",
    "3. `flow_from_directory` ile model eğitimi ve değerlendirmesi için hazır jeneratörler oluşturduk.  \n"
   ]
  },
  {
   "cell_type": "code",
   "execution_count": 8,
   "metadata": {
    "executionInfo": {
     "elapsed": 143,
     "status": "ok",
     "timestamp": 1746522355891,
     "user": {
      "displayName": "Kerem Kartal",
      "userId": "01578238521874098470"
     },
     "user_tz": -180
    },
    "id": "aGFU3aococbW"
   },
   "outputs": [],
   "source": [
    "x_train, x_test, y_train, y_test = train_test_split(eye_diseases_img, label_eye_diseases,\n",
    "                                                    test_size=0.30,\n",
    "                                                   random_state=2184,\n",
    "                                                   )"
   ]
  },
  {
   "cell_type": "code",
   "execution_count": 10,
   "metadata": {
    "executionInfo": {
     "elapsed": 21097,
     "status": "ok",
     "timestamp": 1746522408317,
     "user": {
      "displayName": "Kerem Kartal",
      "userId": "01578238521874098470"
     },
     "user_tz": -180
    },
    "id": "9hZnPOF5od0K"
   },
   "outputs": [],
   "source": [
    "def save_images_directories(x, y, dir_set):\n",
    "    for i in range(x.shape[0]):\n",
    "        plt.imsave(f'{dir_set}/{dict_labels_eye_diseases[y[i]]}/{np.random.randint(1000000)}.jpg', x[i]) # Directorie where the image is going to be save, the array\n",
    "\n",
    "save_images_directories(x_train, y_train, '/content/drive/MyDrive/model/Train')\n",
    "save_images_directories(x_test,  y_test,  '/content/drive/MyDrive/model/Test')\n"
   ]
  },
  {
   "cell_type": "code",
   "execution_count": 11,
   "metadata": {
    "executionInfo": {
     "elapsed": 47,
     "status": "ok",
     "timestamp": 1746522415788,
     "user": {
      "displayName": "Kerem Kartal",
      "userId": "01578238521874098470"
     },
     "user_tz": -180
    },
    "id": "4sN7ERK1q5RU"
   },
   "outputs": [],
   "source": [
    "train_datagen = ImageDataGenerator(rescale = 1/255,\n",
    "                                  horizontal_flip=True,\n",
    "                                  vertical_flip=False)\n",
    "\n",
    "test_datagen = ImageDataGenerator(rescale = 1/255,\n",
    "                                  horizontal_flip=True,\n",
    "                                  vertical_flip=False,\n",
    "                                  validation_split=0.2)"
   ]
  },
  {
   "cell_type": "code",
   "execution_count": 53,
   "metadata": {
    "colab": {
     "base_uri": "https://localhost:8080/"
    },
    "executionInfo": {
     "elapsed": 109,
     "status": "ok",
     "timestamp": 1746531198341,
     "user": {
      "displayName": "Kerem Kartal",
      "userId": "01578238521874098470"
     },
     "user_tz": -180
    },
    "id": "6NXWg27iq-Dg",
    "outputId": "90c42c5b-1db9-4255-eefe-5032c83ea795"
   },
   "outputs": [
    {
     "name": "stdout",
     "output_type": "stream",
     "text": [
      "Training Dataset:\n",
      "Found 2950 images belonging to 4 classes.\n",
      "Validation Dataset:\n",
      "Found 252 images belonging to 4 classes.\n",
      "Test Dataset:\n",
      "Found 1266 images belonging to 4 classes.\n"
     ]
    }
   ],
   "source": [
    "print('Training Dataset:')\n",
    "train_generator = train_datagen.flow_from_directory(\n",
    "    '/content/drive/MyDrive/model/Train',\n",
    "    target_size=(200,200),\n",
    "    batch_size=128,\n",
    "    class_mode='categorical',\n",
    "    color_mode='rgb',\n",
    "    subset='training'\n",
    ")\n",
    "\n",
    "print('Validation Dataset:')\n",
    "validation_generator = test_datagen.flow_from_directory(\n",
    "    '/content/drive/MyDrive/model/Test',\n",
    "    target_size=(200,200),\n",
    "    batch_size=128,\n",
    "    class_mode='categorical',\n",
    "    color_mode='rgb',\n",
    "    subset='validation'\n",
    ")\n",
    "\n",
    "print('Test Dataset:')\n",
    "test_generator = test_datagen.flow_from_directory(\n",
    "    '/content/drive/MyDrive/model/Test',\n",
    "    target_size=(200,200),\n",
    "    batch_size=128,\n",
    "    class_mode='categorical',\n",
    "    color_mode='rgb'\n",
    ")"
   ]
  },
  {
   "cell_type": "code",
   "execution_count": 14,
   "metadata": {
    "executionInfo": {
     "elapsed": 3,
     "status": "ok",
     "timestamp": 1746522440216,
     "user": {
      "displayName": "Kerem Kartal",
      "userId": "01578238521874098470"
     },
     "user_tz": -180
    },
    "id": "hsHslzqBrIvW"
   },
   "outputs": [],
   "source": [
    "# Save the classes in a list\n",
    "classes = list(dict_labels_eye_diseases.values())"
   ]
  },
  {
   "cell_type": "markdown",
   "metadata": {},
   "source": [
    "## 5. Eğitim Sonuçlarını Görselleştirme Fonksiyonu\n",
    "\n",
    "**`results_visualization_fancy(history)`** fonksiyonu, Keras’ın eğitim geçmişini alıp hem doğruluk (accuracy) hem de kayıp (loss) metriklerini şık grafiklerle özetler:\n",
    "\n",
    "1. **Epoch Sayılarını Belirleme**  \n",
    "   - `total_epochs`: Modeli fit ederken planlanan maksimum epoch sayısı (`history.params['epochs']`).  \n",
    "   - `run_epochs`: Gerçekten çalıştırılan epoch sayısı (`len(history.history['accuracy'])`).  \n",
    "   - Eğer erken durdurma (`EarlyStopping`) kullanıldıysa, `run_epochs < total_epochs` olur.\n",
    "\n",
    "2. **Metrik Dizilerini Çıkarma**  \n",
    "   - `train_acc`, `val_acc`: Eğitim ve doğrulama doğruluk değerleri.  \n",
    "   - `train_loss`, `val_loss`: Eğitim ve doğrulama kayıp değerleri.  \n",
    "   - `epochs = range(1, run_epochs+1)`: X ekseni için epoch numaraları.\n",
    "\n",
    "3. **Doğruluk Grafiği (Accuracy Plot)**  \n",
    "   - Noktalar ve çizgiler:\n",
    "     - Eğitim: düz çizgi (`-`), yuvarlak marker (`o`)  \n",
    "     - Doğrulama: kesikli çizgi (`--`), kare marker (`s`)  \n",
    "   - Marker’lar içi beyaz, kenar kalınlığı ayarlı → okunabilirlik artar.  \n",
    "   - Erken durdurma varsa, `plt.axvline` ile dikey bir kesikli çizgi ve etiket eklenir (`Early Stop @run_epochs`).  \n",
    "   - Eksenler 1’den `total_epochs`’a, doğruluk 0–1 aralığına kilitlenir.\n",
    "\n",
    "4. **Kayıp Grafiği (Loss Plot)**  \n",
    "   - Benzer stil:\n",
    "     - Eğitim: düz çizgi, üçgen marker (`^`)  \n",
    "     - Doğrulama: kesikli çizgi, çarpı marker (`x`)  \n",
    "   - Erken durdurma çizgisi tekrar çizilir.  \n",
    "   - Y ekseni otomatik ayarlanır (loss için).\n",
    "\n",
    "5. **Grafik Ayarları**  \n",
    "   - `figsize=(8,6)`: Yeterli büyüklükte figür.  \n",
    "   - `grid(alpha=0.3)`: Hafif ızgara çizgileri.  \n",
    "   - Başlık, eksen etiketleri ve lejant ile okunabilirlik sağlanır.  \n",
    "   - `plt.show()` ile her grafik ayrı pencerede görüntülenir.\n",
    "\n",
    "---\n",
    "\n",
    "**Kullanım Örneği:**  \n",
    "```python\n",
    "history = model.fit(…)\n",
    "results_visualization_fancy(history)\n"
   ]
  },
  {
   "cell_type": "code",
   "execution_count": 58,
   "metadata": {
    "executionInfo": {
     "elapsed": 45,
     "status": "ok",
     "timestamp": 1746531955963,
     "user": {
      "displayName": "Kerem Kartal",
      "userId": "01578238521874098470"
     },
     "user_tz": -180
    },
    "id": "osR0cVxWrTaZ"
   },
   "outputs": [],
   "source": [
    "import matplotlib.pyplot as plt\n",
    "\n",
    "def results_visualization_fancy(history):\n",
    "    # 1) Fit sırasında kaç epoch planladığımıza bakalım\n",
    "    total_epochs = history.params.get('epochs', len(history.history['accuracy']))\n",
    "    # 2) Gerçek kaydedilmiş (çalıştırılmış) epoch sayısı\n",
    "    run_epochs   = len(history.history['accuracy'])\n",
    "\n",
    "    epochs = range(1, run_epochs + 1)\n",
    "    train_acc  = history.history['accuracy']\n",
    "    val_acc    = history.history['val_accuracy']\n",
    "    train_loss = history.history['loss']\n",
    "    val_loss   = history.history['val_loss']\n",
    "\n",
    "    # — Accuracy grafiği —\n",
    "    plt.figure(figsize=(8, 6))\n",
    "    plt.plot(epochs, train_acc, linestyle='-',  marker='o', markersize=6,\n",
    "             markerfacecolor='white', markeredgewidth=1.5, label='Train Acc')\n",
    "    plt.plot(epochs, val_acc,   linestyle='--', marker='s', markersize=6,\n",
    "             markerfacecolor='white', markeredgewidth=1.5, label='Val Acc')\n",
    "\n",
    "    # Eğer erken durdurma olduysa, o epoch'ta bir çizgi çekelim\n",
    "    if run_epochs < total_epochs:\n",
    "        plt.axvline(run_epochs, color='grey', linestyle='--',\n",
    "                    label=f'Early Stop @ {run_epochs}')\n",
    "\n",
    "    # Ekseni 1’den planlanan epoch’a kadar aç\n",
    "    plt.xlim(1, total_epochs)\n",
    "    plt.ylim(0,1)\n",
    "    plt.title('Eğitim ve Doğrulama Doğruluğu', fontsize=14)\n",
    "    plt.xlabel('Epoch')\n",
    "    plt.ylabel('Accuracy')\n",
    "    plt.grid(alpha=0.3)\n",
    "    plt.legend()\n",
    "    plt.show()\n",
    "\n",
    "    # — Loss grafiği —\n",
    "    plt.figure(figsize=(8, 6))\n",
    "    plt.plot(epochs, train_loss, linestyle='-',  marker='^', markersize=6,\n",
    "             markerfacecolor='white', markeredgewidth=1.5, label='Train Loss')\n",
    "    plt.plot(epochs, val_loss,   linestyle='--', marker='x', markersize=7,\n",
    "             markeredgewidth=2, label='Val Loss')\n",
    "\n",
    "    if run_epochs < total_epochs:\n",
    "        plt.axvline(run_epochs, color='grey', linestyle='--')\n",
    "\n",
    "    plt.xlim(1, total_epochs)\n",
    "    plt.title('Eğitim ve Doğrulama Kayıbı', fontsize=14)\n",
    "    plt.xlabel('Epoch')\n",
    "    plt.ylabel('Loss')\n",
    "    plt.grid(alpha=0.3)\n",
    "    plt.legend()\n",
    "    plt.show()\n"
   ]
  },
  {
   "cell_type": "markdown",
   "metadata": {},
   "source": [
    "## 6. ModelCheckpoint ve Özel Eğitim Callback’leri\n",
    "\n",
    "- **`!mkdir -p /content/results`**  \n",
    "  - Kaydedilecek model dosyalarının yolu olarak kullanılan `/content/results` klasörünün varlığını sağlar.\n",
    "\n",
    "- **`callback_best_model(name_version_model)`**  \n",
    "  - `tf.keras.callbacks.ModelCheckpoint` döndürür.  \n",
    "    - `filepath`: `/content/results/{name_version_model}`  \n",
    "    - `save_best_only=True`: Sadece izlenen metriğe göre (örneğin `val_accuracy`) en iyi performans gösteren ağırlıkları saklar.  \n",
    "    - `monitor='val_accuracy'`: Doğrulama doğruluğunu izler.  \n",
    "    - `verbose=1`: Model kaydı sırasında konsola bilgi yazdırır.  \n",
    "    - `save_freq='epoch'`: Her epoch sonunda kaydetme kontrolü yapar.\n",
    "\n",
    "- **`TrainingCallback` sınıfı**  \n",
    "  - `tf.keras.callbacks.Callback`’ten türetilir.  \n",
    "  - `on_epoch_end(self, epoch, logs={})` her epoch sonunda çalışır.  \n",
    "    - `logs.get('accuracy')` ile o epoch’un eğitim doğruluğunu alır.  \n",
    "    - Eğer doğruluk `> 0.90` ise:  \n",
    "      - Konsola `\"The model has reached the accuracy desired (0.90), stop the training!\"` mesajı basar.  \n",
    "      - `self.model.stop_training = True` ile eğitimi erkenden durdurur.\n",
    "\n",
    "---\n",
    "\n",
    "Bu callback’leri eğitim sırasında şöyle kullanabilirsiniz:\n",
    "\n",
    "```python\n",
    "model.fit(\n",
    "    ..., \n",
    "    callbacks=[\n",
    "        callback_best_model('my_model.h5'),\n",
    "        TrainingCallback()\n",
    "    ]\n",
    ")\n"
   ]
  },
  {
   "cell_type": "code",
   "execution_count": null,
   "metadata": {
    "executionInfo": {
     "elapsed": 121,
     "status": "ok",
     "timestamp": 1746522452629,
     "user": {
      "displayName": "Kerem Kartal",
      "userId": "01578238521874098470"
     },
     "user_tz": -180
    },
    "id": "aR_D3zx1rV0o"
   },
   "outputs": [],
   "source": [
    "from tensorflow.keras.callbacks import Callback\n",
    "\n",
    "!mkdir -p /content/results\n",
    "\n",
    "def callback_best_model(name_version_model):\n",
    "    return tf.keras.callbacks.ModelCheckpoint(\n",
    "        filepath=f'/content/results/{name_version_model}',\n",
    "        save_best_only=True,\n",
    "        monitor='val_accuracy',\n",
    "        verbose=1,\n",
    "        save_freq='epoch'    \n",
    "    )\n",
    "\n",
    "\n",
    "class TrainingCallback(Callback):\n",
    "    def on_epoch_end(self, epoch, logs = {}):\n",
    "        if logs.get('accuracy') > 0.90:\n",
    "            print('The model has reached the accuracy desired (0.90), stop the training!')\n",
    "            self.model.stop_training = True"
   ]
  },
  {
   "cell_type": "code",
   "execution_count": null,
   "metadata": {
    "executionInfo": {
     "elapsed": 2,
     "status": "ok",
     "timestamp": 1746522465611,
     "user": {
      "displayName": "Kerem Kartal",
      "userId": "01578238521874098470"
     },
     "user_tz": -180
    },
    "id": "IC_PxfMarX1D"
   },
   "outputs": [],
   "source": [
    "import warnings\n",
    "warnings.filterwarnings(\"ignore\")"
   ]
  },
  {
   "cell_type": "markdown",
   "metadata": {},
   "source": [
    "## 7. Basit Tam Bağlantılı (MLP) Model Tanımı ve Derleme\n",
    "\n",
    "- **Uyarı Filtreleme**  \n",
    "  - `warnings.filterwarnings(\"ignore\")`  \n",
    "    TensorFlow ve diğer kütüphane uyarılarını gizleyerek temiz çıktı sağlar.\n",
    "\n",
    "- **Model Mimarisi**  \n",
    "  1. **Flatten (Giriş Katmanı)**  \n",
    "     - `input_shape=(200,200,3)`  \n",
    "     - 200×200 RGB görüntüyü tek boyutlu 120.000 elemanlı vektöre çevirir.  \n",
    "     - **Parametre**: 0  \n",
    "  2. **Gizli Katman 1**  \n",
    "     - `Dense(50, activation='relu')`  \n",
    "     - 50 nöron, ReLU aktivasyonu.  \n",
    "     - **Parametre**: 120 000×50 + 50 = 6 000 050  \n",
    "  3. **Gizli Katman 2**  \n",
    "     - `Dense(100, activation='relu')`  \n",
    "     - 100 nöron, ReLU aktivasyonu.  \n",
    "     - **Parametre**: 50×100 + 100 = 5 100  \n",
    "  4. **Çıkış Katmanı**  \n",
    "     - `Dense(4, activation='softmax')`  \n",
    "     - 4 sınıf için softmax aktivasyonu.  \n",
    "     - **Parametre**: 100×4 + 4 = 404  \n",
    "\n",
    "- **Model Özeti**  \n",
    "  - **Toplam Parametre**: 6 005 554 (tümü eğitilebilir)  \n",
    "\n",
    "- **Compile Aşaması**  \n",
    "  - `optimizer='adam'`  \n",
    "    Adaptif öğrenme oranlı Adam optimizasyonu.  \n",
    "  - `loss='categorical_crossentropy'`  \n",
    "    Çok sınıflı sınıflandırma için uygun kayıp fonksiyonu.  \n",
    "  - `metrics=['accuracy']`  \n",
    "    Eğitim ve doğrulama doğ­ru­lu­ğu takibi.\n",
    "\n",
    "> **Not:** Bu MLP yapısı bir “baseline” sunar. Görüntü verisinde daha iyi sonuç için konvolüsyonel katmanlar (CNN) eklemeyi düşünebilirsiniz.  \n"
   ]
  },
  {
   "cell_type": "code",
   "execution_count": 20,
   "metadata": {
    "colab": {
     "base_uri": "https://localhost:8080/",
     "height": 257
    },
    "executionInfo": {
     "elapsed": 2141,
     "status": "ok",
     "timestamp": 1746522472365,
     "user": {
      "displayName": "Kerem Kartal",
      "userId": "01578238521874098470"
     },
     "user_tz": -180
    },
    "id": "zrZQV0agrfaQ",
    "outputId": "fc770add-7e04-4b5a-a1a9-9d64d233d714"
   },
   "outputs": [
    {
     "data": {
      "text/html": [
       "<pre style=\"white-space:pre;overflow-x:auto;line-height:normal;font-family:Menlo,'DejaVu Sans Mono',consolas,'Courier New',monospace\"><span style=\"font-weight: bold\">Model: \"sequential\"</span>\n",
       "</pre>\n"
      ],
      "text/plain": [
       "\u001b[1mModel: \"sequential\"\u001b[0m\n"
      ]
     },
     "metadata": {},
     "output_type": "display_data"
    },
    {
     "data": {
      "text/html": [
       "<pre style=\"white-space:pre;overflow-x:auto;line-height:normal;font-family:Menlo,'DejaVu Sans Mono',consolas,'Courier New',monospace\">┏━━━━━━━━━━━━━━━━━━━━━━━━━━━━━━━━━┳━━━━━━━━━━━━━━━━━━━━━━━━┳━━━━━━━━━━━━━━━┓\n",
       "┃<span style=\"font-weight: bold\"> Layer (type)                    </span>┃<span style=\"font-weight: bold\"> Output Shape           </span>┃<span style=\"font-weight: bold\">       Param # </span>┃\n",
       "┡━━━━━━━━━━━━━━━━━━━━━━━━━━━━━━━━━╇━━━━━━━━━━━━━━━━━━━━━━━━╇━━━━━━━━━━━━━━━┩\n",
       "│ flatten (<span style=\"color: #0087ff; text-decoration-color: #0087ff\">Flatten</span>)               │ (<span style=\"color: #00d7ff; text-decoration-color: #00d7ff\">None</span>, <span style=\"color: #00af00; text-decoration-color: #00af00\">120000</span>)         │             <span style=\"color: #00af00; text-decoration-color: #00af00\">0</span> │\n",
       "├─────────────────────────────────┼────────────────────────┼───────────────┤\n",
       "│ dense (<span style=\"color: #0087ff; text-decoration-color: #0087ff\">Dense</span>)                   │ (<span style=\"color: #00d7ff; text-decoration-color: #00d7ff\">None</span>, <span style=\"color: #00af00; text-decoration-color: #00af00\">50</span>)             │     <span style=\"color: #00af00; text-decoration-color: #00af00\">6,000,050</span> │\n",
       "├─────────────────────────────────┼────────────────────────┼───────────────┤\n",
       "│ dense_1 (<span style=\"color: #0087ff; text-decoration-color: #0087ff\">Dense</span>)                 │ (<span style=\"color: #00d7ff; text-decoration-color: #00d7ff\">None</span>, <span style=\"color: #00af00; text-decoration-color: #00af00\">100</span>)            │         <span style=\"color: #00af00; text-decoration-color: #00af00\">5,100</span> │\n",
       "├─────────────────────────────────┼────────────────────────┼───────────────┤\n",
       "│ dense_2 (<span style=\"color: #0087ff; text-decoration-color: #0087ff\">Dense</span>)                 │ (<span style=\"color: #00d7ff; text-decoration-color: #00d7ff\">None</span>, <span style=\"color: #00af00; text-decoration-color: #00af00\">4</span>)              │           <span style=\"color: #00af00; text-decoration-color: #00af00\">404</span> │\n",
       "└─────────────────────────────────┴────────────────────────┴───────────────┘\n",
       "</pre>\n"
      ],
      "text/plain": [
       "┏━━━━━━━━━━━━━━━━━━━━━━━━━━━━━━━━━┳━━━━━━━━━━━━━━━━━━━━━━━━┳━━━━━━━━━━━━━━━┓\n",
       "┃\u001b[1m \u001b[0m\u001b[1mLayer (type)                   \u001b[0m\u001b[1m \u001b[0m┃\u001b[1m \u001b[0m\u001b[1mOutput Shape          \u001b[0m\u001b[1m \u001b[0m┃\u001b[1m \u001b[0m\u001b[1m      Param #\u001b[0m\u001b[1m \u001b[0m┃\n",
       "┡━━━━━━━━━━━━━━━━━━━━━━━━━━━━━━━━━╇━━━━━━━━━━━━━━━━━━━━━━━━╇━━━━━━━━━━━━━━━┩\n",
       "│ flatten (\u001b[38;5;33mFlatten\u001b[0m)               │ (\u001b[38;5;45mNone\u001b[0m, \u001b[38;5;34m120000\u001b[0m)         │             \u001b[38;5;34m0\u001b[0m │\n",
       "├─────────────────────────────────┼────────────────────────┼───────────────┤\n",
       "│ dense (\u001b[38;5;33mDense\u001b[0m)                   │ (\u001b[38;5;45mNone\u001b[0m, \u001b[38;5;34m50\u001b[0m)             │     \u001b[38;5;34m6,000,050\u001b[0m │\n",
       "├─────────────────────────────────┼────────────────────────┼───────────────┤\n",
       "│ dense_1 (\u001b[38;5;33mDense\u001b[0m)                 │ (\u001b[38;5;45mNone\u001b[0m, \u001b[38;5;34m100\u001b[0m)            │         \u001b[38;5;34m5,100\u001b[0m │\n",
       "├─────────────────────────────────┼────────────────────────┼───────────────┤\n",
       "│ dense_2 (\u001b[38;5;33mDense\u001b[0m)                 │ (\u001b[38;5;45mNone\u001b[0m, \u001b[38;5;34m4\u001b[0m)              │           \u001b[38;5;34m404\u001b[0m │\n",
       "└─────────────────────────────────┴────────────────────────┴───────────────┘\n"
      ]
     },
     "metadata": {},
     "output_type": "display_data"
    },
    {
     "data": {
      "text/html": [
       "<pre style=\"white-space:pre;overflow-x:auto;line-height:normal;font-family:Menlo,'DejaVu Sans Mono',consolas,'Courier New',monospace\"><span style=\"font-weight: bold\"> Total params: </span><span style=\"color: #00af00; text-decoration-color: #00af00\">6,005,554</span> (22.91 MB)\n",
       "</pre>\n"
      ],
      "text/plain": [
       "\u001b[1m Total params: \u001b[0m\u001b[38;5;34m6,005,554\u001b[0m (22.91 MB)\n"
      ]
     },
     "metadata": {},
     "output_type": "display_data"
    },
    {
     "data": {
      "text/html": [
       "<pre style=\"white-space:pre;overflow-x:auto;line-height:normal;font-family:Menlo,'DejaVu Sans Mono',consolas,'Courier New',monospace\"><span style=\"font-weight: bold\"> Trainable params: </span><span style=\"color: #00af00; text-decoration-color: #00af00\">6,005,554</span> (22.91 MB)\n",
       "</pre>\n"
      ],
      "text/plain": [
       "\u001b[1m Trainable params: \u001b[0m\u001b[38;5;34m6,005,554\u001b[0m (22.91 MB)\n"
      ]
     },
     "metadata": {},
     "output_type": "display_data"
    },
    {
     "data": {
      "text/html": [
       "<pre style=\"white-space:pre;overflow-x:auto;line-height:normal;font-family:Menlo,'DejaVu Sans Mono',consolas,'Courier New',monospace\"><span style=\"font-weight: bold\"> Non-trainable params: </span><span style=\"color: #00af00; text-decoration-color: #00af00\">0</span> (0.00 B)\n",
       "</pre>\n"
      ],
      "text/plain": [
       "\u001b[1m Non-trainable params: \u001b[0m\u001b[38;5;34m0\u001b[0m (0.00 B)\n"
      ]
     },
     "metadata": {},
     "output_type": "display_data"
    }
   ],
   "source": [
    "model_base = tf.keras.models.Sequential([\n",
    "    # Input layer\n",
    "    tf.keras.layers.Flatten(input_shape=(200,200,3)),\n",
    "\n",
    "    # Layer 1\n",
    "    tf.keras.layers.Dense(50, activation='relu'),\n",
    "\n",
    "    # Layer 2\n",
    "    tf.keras.layers.Dense(100, activation='relu'),\n",
    "\n",
    "    # Output Layer\n",
    "    tf.keras.layers.Dense(4, activation='softmax')\n",
    "]\n",
    ")\n",
    "model_base.summary()\n",
    "\n",
    "# Compile the model with the require settings\n",
    "model_base.compile(\n",
    "    optimizer='adam',\n",
    "    loss='categorical_crossentropy',\n",
    "    metrics=['accuracy']\n",
    ")\n"
   ]
  },
  {
   "cell_type": "markdown",
   "metadata": {},
   "source": [
    "## 8. Model Eğitimi, Değerlendirme ve Sonuç Görselleştirmesi\n",
    "\n",
    "- **Eğitim**  \n",
    "  - `model_base.fit(train_generator, epochs=50, validation_data=validation_generator, callbacks=[callback_best_model('simple_model.h5')])` ile model 50 epoch boyunca eğitildi.  \n",
    "  - Son epoch sonuçları:  \n",
    "    - Eğitim doğruluğu ≈ 79.6%  \n",
    "    - Doğrulama doğruluğu ≈ 75.4%  \n",
    "  - `ModelCheckpoint` yalnızca `val_accuracy` iyileştiğinde en iyi ağırlıkları `/content/results/simple_model.h5`’e kaydetti.\n",
    "\n",
    "- **Test Seti Değerlendirmesi**  \n",
    "  - `model_base.evaluate(test_generator)` ile model test verisinde:  \n",
    "    - Test doğruluğu ≈ 76.3%  \n",
    "    - Test kaybı ≈ 0.58\n",
    "\n",
    "- **Sonuçların Görselleştirilmesi**  \n",
    "  - `results_visualization_fancy(history)` fonksiyonu, epoch bazlı:  \n",
    "    - Eğitim ve doğrulama doğruluk  \n",
    "    - Eğitim ve doğrulama kayıp  \n",
    "    grafiklerini çizdi.  \n",
    "  - Erken durdurma (early stopping) ya da overfitting belirtileri varsa dikey çizgiyle işaretledi,  \n",
    "  - Böylece hem sayısal hem de grafiksel olarak model performansını hızlıca değerlendirdiniz.  \n"
   ]
  },
  {
   "cell_type": "code",
   "execution_count": 21,
   "metadata": {
    "colab": {
     "base_uri": "https://localhost:8080/"
    },
    "executionInfo": {
     "elapsed": 458906,
     "status": "ok",
     "timestamp": 1746522937479,
     "user": {
      "displayName": "Kerem Kartal",
      "userId": "01578238521874098470"
     },
     "user_tz": -180
    },
    "id": "CBjWWWWnri8T",
    "outputId": "83be54f1-09d3-45a8-e505-1c8b8e06d351"
   },
   "outputs": [
    {
     "name": "stdout",
     "output_type": "stream",
     "text": [
      "Epoch 1/50\n",
      "\u001b[1m24/24\u001b[0m \u001b[32m━━━━━━━━━━━━━━━━━━━━\u001b[0m\u001b[37m\u001b[0m \u001b[1m0s\u001b[0m 352ms/step - accuracy: 0.3056 - loss: 10.2096\n",
      "Epoch 1: val_accuracy improved from -inf to 0.56349, saving model to /content/results/simple_model.h5\n"
     ]
    },
    {
     "name": "stderr",
     "output_type": "stream",
     "text": [
      "WARNING:absl:You are saving your model as an HDF5 file via `model.save()` or `keras.saving.save_model(model)`. This file format is considered legacy. We recommend using instead the native Keras format, e.g. `model.save('my_model.keras')` or `keras.saving.save_model(model, 'my_model.keras')`. \n"
     ]
    },
    {
     "name": "stdout",
     "output_type": "stream",
     "text": [
      "\b\b\b\b\b\b\b\b\b\b\b\b\b\b\b\b\b\b\b\b\b\b\b\b\b\b\b\b\b\b\b\b\b\b\b\b\b\b\b\b\b\b\b\b\b\b\b\b\b\b\b\b\b\b\b\b\b\b\b\b\b\b\b\b\b\b\b\b\b\b\b\b\b\b\b\r\u001b[1m24/24\u001b[0m \u001b[32m━━━━━━━━━━━━━━━━━━━━\u001b[0m\u001b[37m\u001b[0m \u001b[1m18s\u001b[0m 517ms/step - accuracy: 0.3079 - loss: 10.0802 - val_accuracy: 0.5635 - val_loss: 2.2304\n",
      "Epoch 2/50\n",
      "\u001b[1m24/24\u001b[0m \u001b[32m━━━━━━━━━━━━━━━━━━━━\u001b[0m\u001b[37m\u001b[0m \u001b[1m0s\u001b[0m 350ms/step - accuracy: 0.4971 - loss: 1.8466\n",
      "Epoch 2: val_accuracy did not improve from 0.56349\n",
      "\u001b[1m24/24\u001b[0m \u001b[32m━━━━━━━━━━━━━━━━━━━━\u001b[0m\u001b[37m\u001b[0m \u001b[1m9s\u001b[0m 386ms/step - accuracy: 0.4977 - loss: 1.8348 - val_accuracy: 0.5238 - val_loss: 1.2233\n",
      "Epoch 3/50\n",
      "\u001b[1m24/24\u001b[0m \u001b[32m━━━━━━━━━━━━━━━━━━━━\u001b[0m\u001b[37m\u001b[0m \u001b[1m0s\u001b[0m 355ms/step - accuracy: 0.5432 - loss: 1.0934\n",
      "Epoch 3: val_accuracy did not improve from 0.56349\n",
      "\u001b[1m24/24\u001b[0m \u001b[32m━━━━━━━━━━━━━━━━━━━━\u001b[0m\u001b[37m\u001b[0m \u001b[1m9s\u001b[0m 387ms/step - accuracy: 0.5440 - loss: 1.0932 - val_accuracy: 0.5159 - val_loss: 1.0542\n",
      "Epoch 4/50\n",
      "\u001b[1m24/24\u001b[0m \u001b[32m━━━━━━━━━━━━━━━━━━━━\u001b[0m\u001b[37m\u001b[0m \u001b[1m0s\u001b[0m 339ms/step - accuracy: 0.6274 - loss: 0.8538\n",
      "Epoch 4: val_accuracy improved from 0.56349 to 0.71429, saving model to /content/results/simple_model.h5\n"
     ]
    },
    {
     "name": "stderr",
     "output_type": "stream",
     "text": [
      "WARNING:absl:You are saving your model as an HDF5 file via `model.save()` or `keras.saving.save_model(model)`. This file format is considered legacy. We recommend using instead the native Keras format, e.g. `model.save('my_model.keras')` or `keras.saving.save_model(model, 'my_model.keras')`. \n"
     ]
    },
    {
     "name": "stdout",
     "output_type": "stream",
     "text": [
      "\b\b\b\b\b\b\b\b\b\b\b\b\b\b\b\b\b\b\b\b\b\b\b\b\b\b\b\b\b\b\b\b\b\b\b\b\b\b\b\b\b\b\b\b\b\b\b\b\b\b\b\b\b\b\b\b\b\b\b\b\b\b\b\b\b\b\b\b\b\b\b\b\b\b\r\u001b[1m24/24\u001b[0m \u001b[32m━━━━━━━━━━━━━━━━━━━━\u001b[0m\u001b[37m\u001b[0m \u001b[1m9s\u001b[0m 378ms/step - accuracy: 0.6277 - loss: 0.8528 - val_accuracy: 0.7143 - val_loss: 0.7027\n",
      "Epoch 5/50\n",
      "\u001b[1m24/24\u001b[0m \u001b[32m━━━━━━━━━━━━━━━━━━━━\u001b[0m\u001b[37m\u001b[0m \u001b[1m0s\u001b[0m 340ms/step - accuracy: 0.6885 - loss: 0.7415\n",
      "Epoch 5: val_accuracy did not improve from 0.71429\n",
      "\u001b[1m24/24\u001b[0m \u001b[32m━━━━━━━━━━━━━━━━━━━━\u001b[0m\u001b[37m\u001b[0m \u001b[1m9s\u001b[0m 376ms/step - accuracy: 0.6878 - loss: 0.7437 - val_accuracy: 0.4960 - val_loss: 1.6070\n",
      "Epoch 6/50\n",
      "\u001b[1m24/24\u001b[0m \u001b[32m━━━━━━━━━━━━━━━━━━━━\u001b[0m\u001b[37m\u001b[0m \u001b[1m0s\u001b[0m 333ms/step - accuracy: 0.6196 - loss: 1.0366\n",
      "Epoch 6: val_accuracy did not improve from 0.71429\n",
      "\u001b[1m24/24\u001b[0m \u001b[32m━━━━━━━━━━━━━━━━━━━━\u001b[0m\u001b[37m\u001b[0m \u001b[1m9s\u001b[0m 365ms/step - accuracy: 0.6208 - loss: 1.0329 - val_accuracy: 0.7024 - val_loss: 0.7295\n",
      "Epoch 7/50\n",
      "\u001b[1m24/24\u001b[0m \u001b[32m━━━━━━━━━━━━━━━━━━━━\u001b[0m\u001b[37m\u001b[0m \u001b[1m0s\u001b[0m 337ms/step - accuracy: 0.6767 - loss: 0.7578\n",
      "Epoch 7: val_accuracy improved from 0.71429 to 0.75397, saving model to /content/results/simple_model.h5\n"
     ]
    },
    {
     "name": "stderr",
     "output_type": "stream",
     "text": [
      "WARNING:absl:You are saving your model as an HDF5 file via `model.save()` or `keras.saving.save_model(model)`. This file format is considered legacy. We recommend using instead the native Keras format, e.g. `model.save('my_model.keras')` or `keras.saving.save_model(model, 'my_model.keras')`. \n"
     ]
    },
    {
     "name": "stdout",
     "output_type": "stream",
     "text": [
      "\b\b\b\b\b\b\b\b\b\b\b\b\b\b\b\b\b\b\b\b\b\b\b\b\b\b\b\b\b\b\b\b\b\b\b\b\b\b\b\b\b\b\b\b\b\b\b\b\b\b\b\b\b\b\b\b\b\b\b\b\b\b\b\b\b\b\b\b\b\b\b\b\b\b\r\u001b[1m24/24\u001b[0m \u001b[32m━━━━━━━━━━━━━━━━━━━━\u001b[0m\u001b[37m\u001b[0m \u001b[1m9s\u001b[0m 383ms/step - accuracy: 0.6767 - loss: 0.7586 - val_accuracy: 0.7540 - val_loss: 0.6258\n",
      "Epoch 8/50\n",
      "\u001b[1m23/24\u001b[0m \u001b[32m━━━━━━━━━━━━━━━━━━━\u001b[0m\u001b[37m━\u001b[0m \u001b[1m0s\u001b[0m 365ms/step - accuracy: 0.7134 - loss: 0.6564\n",
      "Epoch 8: val_accuracy did not improve from 0.75397\n",
      "\u001b[1m24/24\u001b[0m \u001b[32m━━━━━━━━━━━━━━━━━━━━\u001b[0m\u001b[37m\u001b[0m \u001b[1m9s\u001b[0m 380ms/step - accuracy: 0.7146 - loss: 0.6555 - val_accuracy: 0.6905 - val_loss: 0.7718\n",
      "Epoch 9/50\n",
      "\u001b[1m24/24\u001b[0m \u001b[32m━━━━━━━━━━━━━━━━━━━━\u001b[0m\u001b[37m\u001b[0m \u001b[1m0s\u001b[0m 346ms/step - accuracy: 0.6938 - loss: 0.6861\n",
      "Epoch 9: val_accuracy improved from 0.75397 to 0.77381, saving model to /content/results/simple_model.h5\n"
     ]
    },
    {
     "name": "stderr",
     "output_type": "stream",
     "text": [
      "WARNING:absl:You are saving your model as an HDF5 file via `model.save()` or `keras.saving.save_model(model)`. This file format is considered legacy. We recommend using instead the native Keras format, e.g. `model.save('my_model.keras')` or `keras.saving.save_model(model, 'my_model.keras')`. \n"
     ]
    },
    {
     "name": "stdout",
     "output_type": "stream",
     "text": [
      "\b\b\b\b\b\b\b\b\b\b\b\b\b\b\b\b\b\b\b\b\b\b\b\b\b\b\b\b\b\b\b\b\b\b\b\b\b\b\b\b\b\b\b\b\b\b\b\b\b\b\b\b\b\b\b\b\b\b\b\b\b\b\b\b\b\b\b\b\b\b\b\b\b\b\r\u001b[1m24/24\u001b[0m \u001b[32m━━━━━━━━━━━━━━━━━━━━\u001b[0m\u001b[37m\u001b[0m \u001b[1m9s\u001b[0m 387ms/step - accuracy: 0.6941 - loss: 0.6862 - val_accuracy: 0.7738 - val_loss: 0.6349\n",
      "Epoch 10/50\n",
      "\u001b[1m24/24\u001b[0m \u001b[32m━━━━━━━━━━━━━━━━━━━━\u001b[0m\u001b[37m\u001b[0m \u001b[1m0s\u001b[0m 359ms/step - accuracy: 0.6382 - loss: 0.9200\n",
      "Epoch 10: val_accuracy did not improve from 0.77381\n",
      "\u001b[1m24/24\u001b[0m \u001b[32m━━━━━━━━━━━━━━━━━━━━\u001b[0m\u001b[37m\u001b[0m \u001b[1m10s\u001b[0m 393ms/step - accuracy: 0.6384 - loss: 0.9191 - val_accuracy: 0.7063 - val_loss: 0.7720\n",
      "Epoch 11/50\n",
      "\u001b[1m24/24\u001b[0m \u001b[32m━━━━━━━━━━━━━━━━━━━━\u001b[0m\u001b[37m\u001b[0m \u001b[1m0s\u001b[0m 340ms/step - accuracy: 0.6594 - loss: 0.8585\n",
      "Epoch 11: val_accuracy did not improve from 0.77381\n",
      "\u001b[1m24/24\u001b[0m \u001b[32m━━━━━━━━━━━━━━━━━━━━\u001b[0m\u001b[37m\u001b[0m \u001b[1m9s\u001b[0m 375ms/step - accuracy: 0.6586 - loss: 0.8599 - val_accuracy: 0.6825 - val_loss: 0.7264\n",
      "Epoch 12/50\n",
      "\u001b[1m24/24\u001b[0m \u001b[32m━━━━━━━━━━━━━━━━━━━━\u001b[0m\u001b[37m\u001b[0m \u001b[1m0s\u001b[0m 351ms/step - accuracy: 0.6718 - loss: 0.8209\n",
      "Epoch 12: val_accuracy did not improve from 0.77381\n",
      "\u001b[1m24/24\u001b[0m \u001b[32m━━━━━━━━━━━━━━━━━━━━\u001b[0m\u001b[37m\u001b[0m \u001b[1m9s\u001b[0m 383ms/step - accuracy: 0.6714 - loss: 0.8212 - val_accuracy: 0.5198 - val_loss: 1.3000\n",
      "Epoch 13/50\n",
      "\u001b[1m24/24\u001b[0m \u001b[32m━━━━━━━━━━━━━━━━━━━━\u001b[0m\u001b[37m\u001b[0m \u001b[1m0s\u001b[0m 364ms/step - accuracy: 0.5037 - loss: 2.6011\n",
      "Epoch 13: val_accuracy did not improve from 0.77381\n",
      "\u001b[1m24/24\u001b[0m \u001b[32m━━━━━━━━━━━━━━━━━━━━\u001b[0m\u001b[37m\u001b[0m \u001b[1m9s\u001b[0m 396ms/step - accuracy: 0.5061 - loss: 2.5744 - val_accuracy: 0.6944 - val_loss: 0.8133\n",
      "Epoch 14/50\n",
      "\u001b[1m24/24\u001b[0m \u001b[32m━━━━━━━━━━━━━━━━━━━━\u001b[0m\u001b[37m\u001b[0m \u001b[1m0s\u001b[0m 318ms/step - accuracy: 0.6919 - loss: 0.7954\n",
      "Epoch 14: val_accuracy did not improve from 0.77381\n",
      "\u001b[1m24/24\u001b[0m \u001b[32m━━━━━━━━━━━━━━━━━━━━\u001b[0m\u001b[37m\u001b[0m \u001b[1m8s\u001b[0m 353ms/step - accuracy: 0.6920 - loss: 0.7942 - val_accuracy: 0.6984 - val_loss: 0.7289\n",
      "Epoch 15/50\n",
      "\u001b[1m24/24\u001b[0m \u001b[32m━━━━━━━━━━━━━━━━━━━━\u001b[0m\u001b[37m\u001b[0m \u001b[1m0s\u001b[0m 335ms/step - accuracy: 0.7174 - loss: 0.6777\n",
      "Epoch 15: val_accuracy did not improve from 0.77381\n",
      "\u001b[1m24/24\u001b[0m \u001b[32m━━━━━━━━━━━━━━━━━━━━\u001b[0m\u001b[37m\u001b[0m \u001b[1m9s\u001b[0m 365ms/step - accuracy: 0.7167 - loss: 0.6800 - val_accuracy: 0.6944 - val_loss: 0.7699\n",
      "Epoch 16/50\n",
      "\u001b[1m23/24\u001b[0m \u001b[32m━━━━━━━━━━━━━━━━━━━\u001b[0m\u001b[37m━\u001b[0m \u001b[1m0s\u001b[0m 356ms/step - accuracy: 0.7207 - loss: 0.6705\n",
      "Epoch 16: val_accuracy did not improve from 0.77381\n",
      "\u001b[1m24/24\u001b[0m \u001b[32m━━━━━━━━━━━━━━━━━━━━\u001b[0m\u001b[37m\u001b[0m \u001b[1m9s\u001b[0m 375ms/step - accuracy: 0.7216 - loss: 0.6681 - val_accuracy: 0.6310 - val_loss: 0.8447\n",
      "Epoch 17/50\n",
      "\u001b[1m24/24\u001b[0m \u001b[32m━━━━━━━━━━━━━━━━━━━━\u001b[0m\u001b[37m\u001b[0m \u001b[1m0s\u001b[0m 363ms/step - accuracy: 0.6573 - loss: 0.8858\n",
      "Epoch 17: val_accuracy did not improve from 0.77381\n",
      "\u001b[1m24/24\u001b[0m \u001b[32m━━━━━━━━━━━━━━━━━━━━\u001b[0m\u001b[37m\u001b[0m \u001b[1m9s\u001b[0m 393ms/step - accuracy: 0.6570 - loss: 0.8873 - val_accuracy: 0.7579 - val_loss: 0.6741\n",
      "Epoch 18/50\n",
      "\u001b[1m24/24\u001b[0m \u001b[32m━━━━━━━━━━━━━━━━━━━━\u001b[0m\u001b[37m\u001b[0m \u001b[1m0s\u001b[0m 330ms/step - accuracy: 0.7143 - loss: 0.6638\n",
      "Epoch 18: val_accuracy did not improve from 0.77381\n",
      "\u001b[1m24/24\u001b[0m \u001b[32m━━━━━━━━━━━━━━━━━━━━\u001b[0m\u001b[37m\u001b[0m \u001b[1m9s\u001b[0m 363ms/step - accuracy: 0.7144 - loss: 0.6631 - val_accuracy: 0.7262 - val_loss: 0.6960\n",
      "Epoch 19/50\n",
      "\u001b[1m24/24\u001b[0m \u001b[32m━━━━━━━━━━━━━━━━━━━━\u001b[0m\u001b[37m\u001b[0m \u001b[1m0s\u001b[0m 338ms/step - accuracy: 0.7254 - loss: 0.6478\n",
      "Epoch 19: val_accuracy did not improve from 0.77381\n",
      "\u001b[1m24/24\u001b[0m \u001b[32m━━━━━━━━━━━━━━━━━━━━\u001b[0m\u001b[37m\u001b[0m \u001b[1m9s\u001b[0m 371ms/step - accuracy: 0.7247 - loss: 0.6511 - val_accuracy: 0.6905 - val_loss: 0.6479\n",
      "Epoch 20/50\n",
      "\u001b[1m24/24\u001b[0m \u001b[32m━━━━━━━━━━━━━━━━━━━━\u001b[0m\u001b[37m\u001b[0m \u001b[1m0s\u001b[0m 353ms/step - accuracy: 0.6326 - loss: 0.9578\n",
      "Epoch 20: val_accuracy did not improve from 0.77381\n",
      "\u001b[1m24/24\u001b[0m \u001b[32m━━━━━━━━━━━━━━━━━━━━\u001b[0m\u001b[37m\u001b[0m \u001b[1m9s\u001b[0m 388ms/step - accuracy: 0.6336 - loss: 0.9537 - val_accuracy: 0.7143 - val_loss: 0.6913\n",
      "Epoch 21/50\n",
      "\u001b[1m24/24\u001b[0m \u001b[32m━━━━━━━━━━━━━━━━━━━━\u001b[0m\u001b[37m\u001b[0m \u001b[1m0s\u001b[0m 327ms/step - accuracy: 0.6926 - loss: 0.6974\n",
      "Epoch 21: val_accuracy did not improve from 0.77381\n",
      "\u001b[1m24/24\u001b[0m \u001b[32m━━━━━━━━━━━━━━━━━━━━\u001b[0m\u001b[37m\u001b[0m \u001b[1m9s\u001b[0m 362ms/step - accuracy: 0.6922 - loss: 0.6979 - val_accuracy: 0.7540 - val_loss: 0.6079\n",
      "Epoch 22/50\n",
      "\u001b[1m24/24\u001b[0m \u001b[32m━━━━━━━━━━━━━━━━━━━━\u001b[0m\u001b[37m\u001b[0m \u001b[1m0s\u001b[0m 332ms/step - accuracy: 0.7211 - loss: 0.6383\n",
      "Epoch 22: val_accuracy did not improve from 0.77381\n",
      "\u001b[1m24/24\u001b[0m \u001b[32m━━━━━━━━━━━━━━━━━━━━\u001b[0m\u001b[37m\u001b[0m \u001b[1m9s\u001b[0m 364ms/step - accuracy: 0.7217 - loss: 0.6377 - val_accuracy: 0.7500 - val_loss: 0.6291\n",
      "Epoch 23/50\n",
      "\u001b[1m24/24\u001b[0m \u001b[32m━━━━━━━━━━━━━━━━━━━━\u001b[0m\u001b[37m\u001b[0m \u001b[1m0s\u001b[0m 337ms/step - accuracy: 0.7336 - loss: 0.6001\n",
      "Epoch 23: val_accuracy did not improve from 0.77381\n",
      "\u001b[1m24/24\u001b[0m \u001b[32m━━━━━━━━━━━━━━━━━━━━\u001b[0m\u001b[37m\u001b[0m \u001b[1m9s\u001b[0m 374ms/step - accuracy: 0.7331 - loss: 0.6010 - val_accuracy: 0.7103 - val_loss: 0.7274\n",
      "Epoch 24/50\n",
      "\u001b[1m24/24\u001b[0m \u001b[32m━━━━━━━━━━━━━━━━━━━━\u001b[0m\u001b[37m\u001b[0m \u001b[1m0s\u001b[0m 334ms/step - accuracy: 0.7056 - loss: 0.6687\n",
      "Epoch 24: val_accuracy improved from 0.77381 to 0.78175, saving model to /content/results/simple_model.h5\n"
     ]
    },
    {
     "name": "stderr",
     "output_type": "stream",
     "text": [
      "WARNING:absl:You are saving your model as an HDF5 file via `model.save()` or `keras.saving.save_model(model)`. This file format is considered legacy. We recommend using instead the native Keras format, e.g. `model.save('my_model.keras')` or `keras.saving.save_model(model, 'my_model.keras')`. \n"
     ]
    },
    {
     "name": "stdout",
     "output_type": "stream",
     "text": [
      "\b\b\b\b\b\b\b\b\b\b\b\b\b\b\b\b\b\b\b\b\b\b\b\b\b\b\b\b\b\b\b\b\b\b\b\b\b\b\b\b\b\b\b\b\b\b\b\b\b\b\b\b\b\b\b\b\b\b\b\b\b\b\b\b\b\b\b\b\b\b\b\b\b\b\r\u001b[1m24/24\u001b[0m \u001b[32m━━━━━━━━━━━━━━━━━━━━\u001b[0m\u001b[37m\u001b[0m \u001b[1m9s\u001b[0m 374ms/step - accuracy: 0.7066 - loss: 0.6666 - val_accuracy: 0.7817 - val_loss: 0.5763\n",
      "Epoch 25/50\n",
      "\u001b[1m24/24\u001b[0m \u001b[32m━━━━━━━━━━━━━━━━━━━━\u001b[0m\u001b[37m\u001b[0m \u001b[1m0s\u001b[0m 332ms/step - accuracy: 0.7669 - loss: 0.5518\n",
      "Epoch 25: val_accuracy improved from 0.78175 to 0.78571, saving model to /content/results/simple_model.h5\n"
     ]
    },
    {
     "name": "stderr",
     "output_type": "stream",
     "text": [
      "WARNING:absl:You are saving your model as an HDF5 file via `model.save()` or `keras.saving.save_model(model)`. This file format is considered legacy. We recommend using instead the native Keras format, e.g. `model.save('my_model.keras')` or `keras.saving.save_model(model, 'my_model.keras')`. \n"
     ]
    },
    {
     "name": "stdout",
     "output_type": "stream",
     "text": [
      "\b\b\b\b\b\b\b\b\b\b\b\b\b\b\b\b\b\b\b\b\b\b\b\b\b\b\b\b\b\b\b\b\b\b\b\b\b\b\b\b\b\b\b\b\b\b\b\b\b\b\b\b\b\b\b\b\b\b\b\b\b\b\b\b\b\b\b\b\b\b\b\b\b\b\r\u001b[1m24/24\u001b[0m \u001b[32m━━━━━━━━━━━━━━━━━━━━\u001b[0m\u001b[37m\u001b[0m \u001b[1m9s\u001b[0m 370ms/step - accuracy: 0.7670 - loss: 0.5517 - val_accuracy: 0.7857 - val_loss: 0.5365\n",
      "Epoch 26/50\n",
      "\u001b[1m24/24\u001b[0m \u001b[32m━━━━━━━━━━━━━━━━━━━━\u001b[0m\u001b[37m\u001b[0m \u001b[1m0s\u001b[0m 335ms/step - accuracy: 0.7710 - loss: 0.5502\n",
      "Epoch 26: val_accuracy did not improve from 0.78571\n",
      "\u001b[1m24/24\u001b[0m \u001b[32m━━━━━━━━━━━━━━━━━━━━\u001b[0m\u001b[37m\u001b[0m \u001b[1m9s\u001b[0m 365ms/step - accuracy: 0.7712 - loss: 0.5499 - val_accuracy: 0.7817 - val_loss: 0.5734\n",
      "Epoch 27/50\n",
      "\u001b[1m24/24\u001b[0m \u001b[32m━━━━━━━━━━━━━━━━━━━━\u001b[0m\u001b[37m\u001b[0m \u001b[1m0s\u001b[0m 337ms/step - accuracy: 0.7558 - loss: 0.5576\n",
      "Epoch 27: val_accuracy did not improve from 0.78571\n",
      "\u001b[1m24/24\u001b[0m \u001b[32m━━━━━━━━━━━━━━━━━━━━\u001b[0m\u001b[37m\u001b[0m \u001b[1m9s\u001b[0m 368ms/step - accuracy: 0.7563 - loss: 0.5570 - val_accuracy: 0.7579 - val_loss: 0.6240\n",
      "Epoch 28/50\n",
      "\u001b[1m24/24\u001b[0m \u001b[32m━━━━━━━━━━━━━━━━━━━━\u001b[0m\u001b[37m\u001b[0m \u001b[1m0s\u001b[0m 339ms/step - accuracy: 0.7641 - loss: 0.5534\n",
      "Epoch 28: val_accuracy did not improve from 0.78571\n",
      "\u001b[1m24/24\u001b[0m \u001b[32m━━━━━━━━━━━━━━━━━━━━\u001b[0m\u001b[37m\u001b[0m \u001b[1m9s\u001b[0m 369ms/step - accuracy: 0.7630 - loss: 0.5560 - val_accuracy: 0.6548 - val_loss: 0.8244\n",
      "Epoch 29/50\n",
      "\u001b[1m24/24\u001b[0m \u001b[32m━━━━━━━━━━━━━━━━━━━━\u001b[0m\u001b[37m\u001b[0m \u001b[1m0s\u001b[0m 330ms/step - accuracy: 0.7228 - loss: 0.6434\n",
      "Epoch 29: val_accuracy did not improve from 0.78571\n",
      "\u001b[1m24/24\u001b[0m \u001b[32m━━━━━━━━━━━━━━━━━━━━\u001b[0m\u001b[37m\u001b[0m \u001b[1m9s\u001b[0m 362ms/step - accuracy: 0.7236 - loss: 0.6415 - val_accuracy: 0.7738 - val_loss: 0.5479\n",
      "Epoch 30/50\n",
      "\u001b[1m24/24\u001b[0m \u001b[32m━━━━━━━━━━━━━━━━━━━━\u001b[0m\u001b[37m\u001b[0m \u001b[1m0s\u001b[0m 332ms/step - accuracy: 0.7774 - loss: 0.5166\n",
      "Epoch 30: val_accuracy did not improve from 0.78571\n",
      "\u001b[1m24/24\u001b[0m \u001b[32m━━━━━━━━━━━━━━━━━━━━\u001b[0m\u001b[37m\u001b[0m \u001b[1m9s\u001b[0m 365ms/step - accuracy: 0.7775 - loss: 0.5169 - val_accuracy: 0.7698 - val_loss: 0.5652\n",
      "Epoch 31/50\n",
      "\u001b[1m24/24\u001b[0m \u001b[32m━━━━━━━━━━━━━━━━━━━━\u001b[0m\u001b[37m\u001b[0m \u001b[1m0s\u001b[0m 338ms/step - accuracy: 0.7863 - loss: 0.5091\n",
      "Epoch 31: val_accuracy did not improve from 0.78571\n",
      "\u001b[1m24/24\u001b[0m \u001b[32m━━━━━━━━━━━━━━━━━━━━\u001b[0m\u001b[37m\u001b[0m \u001b[1m9s\u001b[0m 368ms/step - accuracy: 0.7858 - loss: 0.5099 - val_accuracy: 0.7381 - val_loss: 0.6615\n",
      "Epoch 32/50\n",
      "\u001b[1m24/24\u001b[0m \u001b[32m━━━━━━━━━━━━━━━━━━━━\u001b[0m\u001b[37m\u001b[0m \u001b[1m0s\u001b[0m 331ms/step - accuracy: 0.7441 - loss: 0.6062\n",
      "Epoch 32: val_accuracy improved from 0.78571 to 0.81746, saving model to /content/results/simple_model.h5\n"
     ]
    },
    {
     "name": "stderr",
     "output_type": "stream",
     "text": [
      "WARNING:absl:You are saving your model as an HDF5 file via `model.save()` or `keras.saving.save_model(model)`. This file format is considered legacy. We recommend using instead the native Keras format, e.g. `model.save('my_model.keras')` or `keras.saving.save_model(model, 'my_model.keras')`. \n"
     ]
    },
    {
     "name": "stdout",
     "output_type": "stream",
     "text": [
      "\b\b\b\b\b\b\b\b\b\b\b\b\b\b\b\b\b\b\b\b\b\b\b\b\b\b\b\b\b\b\b\b\b\b\b\b\b\b\b\b\b\b\b\b\b\b\b\b\b\b\b\b\b\b\b\b\b\b\b\b\b\b\b\b\b\b\b\b\b\b\b\b\b\b\r\u001b[1m24/24\u001b[0m \u001b[32m━━━━━━━━━━━━━━━━━━━━\u001b[0m\u001b[37m\u001b[0m \u001b[1m9s\u001b[0m 374ms/step - accuracy: 0.7440 - loss: 0.6057 - val_accuracy: 0.8175 - val_loss: 0.5265\n",
      "Epoch 33/50\n",
      "\u001b[1m23/24\u001b[0m \u001b[32m━━━━━━━━━━━━━━━━━━━\u001b[0m\u001b[37m━\u001b[0m \u001b[1m0s\u001b[0m 362ms/step - accuracy: 0.7668 - loss: 0.5486\n",
      "Epoch 33: val_accuracy did not improve from 0.81746\n",
      "\u001b[1m24/24\u001b[0m \u001b[32m━━━━━━━━━━━━━━━━━━━━\u001b[0m\u001b[37m\u001b[0m \u001b[1m9s\u001b[0m 381ms/step - accuracy: 0.7673 - loss: 0.5478 - val_accuracy: 0.6429 - val_loss: 0.6605\n",
      "Epoch 34/50\n",
      "\u001b[1m24/24\u001b[0m \u001b[32m━━━━━━━━━━━━━━━━━━━━\u001b[0m\u001b[37m\u001b[0m \u001b[1m0s\u001b[0m 346ms/step - accuracy: 0.7088 - loss: 0.6295\n",
      "Epoch 34: val_accuracy did not improve from 0.81746\n",
      "\u001b[1m24/24\u001b[0m \u001b[32m━━━━━━━━━━━━━━━━━━━━\u001b[0m\u001b[37m\u001b[0m \u001b[1m9s\u001b[0m 378ms/step - accuracy: 0.7099 - loss: 0.6283 - val_accuracy: 0.7500 - val_loss: 0.6220\n",
      "Epoch 35/50\n",
      "\u001b[1m24/24\u001b[0m \u001b[32m━━━━━━━━━━━━━━━━━━━━\u001b[0m\u001b[37m\u001b[0m \u001b[1m0s\u001b[0m 336ms/step - accuracy: 0.7547 - loss: 0.5843\n",
      "Epoch 35: val_accuracy did not improve from 0.81746\n",
      "\u001b[1m24/24\u001b[0m \u001b[32m━━━━━━━━━━━━━━━━━━━━\u001b[0m\u001b[37m\u001b[0m \u001b[1m9s\u001b[0m 368ms/step - accuracy: 0.7551 - loss: 0.5830 - val_accuracy: 0.7817 - val_loss: 0.5460\n",
      "Epoch 36/50\n",
      "\u001b[1m24/24\u001b[0m \u001b[32m━━━━━━━━━━━━━━━━━━━━\u001b[0m\u001b[37m\u001b[0m \u001b[1m0s\u001b[0m 346ms/step - accuracy: 0.7614 - loss: 0.5353\n",
      "Epoch 36: val_accuracy did not improve from 0.81746\n",
      "\u001b[1m24/24\u001b[0m \u001b[32m━━━━━━━━━━━━━━━━━━━━\u001b[0m\u001b[37m\u001b[0m \u001b[1m9s\u001b[0m 380ms/step - accuracy: 0.7611 - loss: 0.5364 - val_accuracy: 0.7937 - val_loss: 0.5799\n",
      "Epoch 37/50\n",
      "\u001b[1m24/24\u001b[0m \u001b[32m━━━━━━━━━━━━━━━━━━━━\u001b[0m\u001b[37m\u001b[0m \u001b[1m0s\u001b[0m 353ms/step - accuracy: 0.7526 - loss: 0.5750\n",
      "Epoch 37: val_accuracy did not improve from 0.81746\n",
      "\u001b[1m24/24\u001b[0m \u001b[32m━━━━━━━━━━━━━━━━━━━━\u001b[0m\u001b[37m\u001b[0m \u001b[1m9s\u001b[0m 384ms/step - accuracy: 0.7531 - loss: 0.5736 - val_accuracy: 0.7817 - val_loss: 0.5301\n",
      "Epoch 38/50\n",
      "\u001b[1m24/24\u001b[0m \u001b[32m━━━━━━━━━━━━━━━━━━━━\u001b[0m\u001b[37m\u001b[0m \u001b[1m0s\u001b[0m 337ms/step - accuracy: 0.7622 - loss: 0.5885\n",
      "Epoch 38: val_accuracy did not improve from 0.81746\n",
      "\u001b[1m24/24\u001b[0m \u001b[32m━━━━━━━━━━━━━━━━━━━━\u001b[0m\u001b[37m\u001b[0m \u001b[1m9s\u001b[0m 370ms/step - accuracy: 0.7614 - loss: 0.5904 - val_accuracy: 0.7262 - val_loss: 0.6519\n",
      "Epoch 39/50\n",
      "\u001b[1m24/24\u001b[0m \u001b[32m━━━━━━━━━━━━━━━━━━━━\u001b[0m\u001b[37m\u001b[0m \u001b[1m0s\u001b[0m 348ms/step - accuracy: 0.7429 - loss: 0.5921\n",
      "Epoch 39: val_accuracy did not improve from 0.81746\n",
      "\u001b[1m24/24\u001b[0m \u001b[32m━━━━━━━━━━━━━━━━━━━━\u001b[0m\u001b[37m\u001b[0m \u001b[1m9s\u001b[0m 382ms/step - accuracy: 0.7437 - loss: 0.5910 - val_accuracy: 0.7778 - val_loss: 0.5599\n",
      "Epoch 40/50\n",
      "\u001b[1m24/24\u001b[0m \u001b[32m━━━━━━━━━━━━━━━━━━━━\u001b[0m\u001b[37m\u001b[0m \u001b[1m0s\u001b[0m 352ms/step - accuracy: 0.7732 - loss: 0.5470\n",
      "Epoch 40: val_accuracy did not improve from 0.81746\n",
      "\u001b[1m24/24\u001b[0m \u001b[32m━━━━━━━━━━━━━━━━━━━━\u001b[0m\u001b[37m\u001b[0m \u001b[1m9s\u001b[0m 385ms/step - accuracy: 0.7735 - loss: 0.5462 - val_accuracy: 0.8175 - val_loss: 0.5281\n",
      "Epoch 41/50\n",
      "\u001b[1m24/24\u001b[0m \u001b[32m━━━━━━━━━━━━━━━━━━━━\u001b[0m\u001b[37m\u001b[0m \u001b[1m0s\u001b[0m 337ms/step - accuracy: 0.7870 - loss: 0.5261\n",
      "Epoch 41: val_accuracy did not improve from 0.81746\n",
      "\u001b[1m24/24\u001b[0m \u001b[32m━━━━━━━━━━━━━━━━━━━━\u001b[0m\u001b[37m\u001b[0m \u001b[1m9s\u001b[0m 368ms/step - accuracy: 0.7864 - loss: 0.5267 - val_accuracy: 0.6667 - val_loss: 0.7226\n",
      "Epoch 42/50\n",
      "\u001b[1m24/24\u001b[0m \u001b[32m━━━━━━━━━━━━━━━━━━━━\u001b[0m\u001b[37m\u001b[0m \u001b[1m0s\u001b[0m 335ms/step - accuracy: 0.7386 - loss: 0.6054\n",
      "Epoch 42: val_accuracy did not improve from 0.81746\n",
      "\u001b[1m24/24\u001b[0m \u001b[32m━━━━━━━━━━━━━━━━━━━━\u001b[0m\u001b[37m\u001b[0m \u001b[1m9s\u001b[0m 365ms/step - accuracy: 0.7391 - loss: 0.6048 - val_accuracy: 0.7937 - val_loss: 0.4995\n",
      "Epoch 43/50\n",
      "\u001b[1m24/24\u001b[0m \u001b[32m━━━━━━━━━━━━━━━━━━━━\u001b[0m\u001b[37m\u001b[0m \u001b[1m0s\u001b[0m 337ms/step - accuracy: 0.7896 - loss: 0.4947\n",
      "Epoch 43: val_accuracy did not improve from 0.81746\n",
      "\u001b[1m24/24\u001b[0m \u001b[32m━━━━━━━━━━━━━━━━━━━━\u001b[0m\u001b[37m\u001b[0m \u001b[1m9s\u001b[0m 371ms/step - accuracy: 0.7897 - loss: 0.4952 - val_accuracy: 0.7937 - val_loss: 0.5250\n",
      "Epoch 44/50\n",
      "\u001b[1m24/24\u001b[0m \u001b[32m━━━━━━━━━━━━━━━━━━━━\u001b[0m\u001b[37m\u001b[0m \u001b[1m0s\u001b[0m 330ms/step - accuracy: 0.7883 - loss: 0.5023\n",
      "Epoch 44: val_accuracy did not improve from 0.81746\n",
      "\u001b[1m24/24\u001b[0m \u001b[32m━━━━━━━━━━━━━━━━━━━━\u001b[0m\u001b[37m\u001b[0m \u001b[1m9s\u001b[0m 364ms/step - accuracy: 0.7884 - loss: 0.5022 - val_accuracy: 0.8016 - val_loss: 0.4974\n",
      "Epoch 45/50\n",
      "\u001b[1m24/24\u001b[0m \u001b[32m━━━━━━━━━━━━━━━━━━━━\u001b[0m\u001b[37m\u001b[0m \u001b[1m0s\u001b[0m 333ms/step - accuracy: 0.7911 - loss: 0.4967\n",
      "Epoch 45: val_accuracy improved from 0.81746 to 0.82540, saving model to /content/results/simple_model.h5\n"
     ]
    },
    {
     "name": "stderr",
     "output_type": "stream",
     "text": [
      "WARNING:absl:You are saving your model as an HDF5 file via `model.save()` or `keras.saving.save_model(model)`. This file format is considered legacy. We recommend using instead the native Keras format, e.g. `model.save('my_model.keras')` or `keras.saving.save_model(model, 'my_model.keras')`. \n"
     ]
    },
    {
     "name": "stdout",
     "output_type": "stream",
     "text": [
      "\b\b\b\b\b\b\b\b\b\b\b\b\b\b\b\b\b\b\b\b\b\b\b\b\b\b\b\b\b\b\b\b\b\b\b\b\b\b\b\b\b\b\b\b\b\b\b\b\b\b\b\b\b\b\b\b\b\b\b\b\b\b\b\b\b\b\b\b\b\b\b\b\b\b\r\u001b[1m24/24\u001b[0m \u001b[32m━━━━━━━━━━━━━━━━━━━━\u001b[0m\u001b[37m\u001b[0m \u001b[1m9s\u001b[0m 371ms/step - accuracy: 0.7905 - loss: 0.4982 - val_accuracy: 0.8254 - val_loss: 0.4896\n",
      "Epoch 46/50\n",
      "\u001b[1m24/24\u001b[0m \u001b[32m━━━━━━━━━━━━━━━━━━━━\u001b[0m\u001b[37m\u001b[0m \u001b[1m0s\u001b[0m 354ms/step - accuracy: 0.7962 - loss: 0.5020\n",
      "Epoch 46: val_accuracy did not improve from 0.82540\n",
      "\u001b[1m24/24\u001b[0m \u001b[32m━━━━━━━━━━━━━━━━━━━━\u001b[0m\u001b[37m\u001b[0m \u001b[1m9s\u001b[0m 386ms/step - accuracy: 0.7960 - loss: 0.5020 - val_accuracy: 0.8016 - val_loss: 0.4995\n",
      "Epoch 47/50\n",
      "\u001b[1m24/24\u001b[0m \u001b[32m━━━━━━━━━━━━━━━━━━━━\u001b[0m\u001b[37m\u001b[0m \u001b[1m0s\u001b[0m 330ms/step - accuracy: 0.7845 - loss: 0.5074\n",
      "Epoch 47: val_accuracy did not improve from 0.82540\n",
      "\u001b[1m24/24\u001b[0m \u001b[32m━━━━━━━━━━━━━━━━━━━━\u001b[0m\u001b[37m\u001b[0m \u001b[1m9s\u001b[0m 361ms/step - accuracy: 0.7848 - loss: 0.5070 - val_accuracy: 0.7738 - val_loss: 0.5131\n",
      "Epoch 48/50\n",
      "\u001b[1m24/24\u001b[0m \u001b[32m━━━━━━━━━━━━━━━━━━━━\u001b[0m\u001b[37m\u001b[0m \u001b[1m0s\u001b[0m 342ms/step - accuracy: 0.7739 - loss: 0.5332\n",
      "Epoch 48: val_accuracy did not improve from 0.82540\n",
      "\u001b[1m24/24\u001b[0m \u001b[32m━━━━━━━━━━━━━━━━━━━━\u001b[0m\u001b[37m\u001b[0m \u001b[1m9s\u001b[0m 378ms/step - accuracy: 0.7736 - loss: 0.5339 - val_accuracy: 0.8016 - val_loss: 0.5125\n",
      "Epoch 49/50\n",
      "\u001b[1m24/24\u001b[0m \u001b[32m━━━━━━━━━━━━━━━━━━━━\u001b[0m\u001b[37m\u001b[0m \u001b[1m0s\u001b[0m 336ms/step - accuracy: 0.7966 - loss: 0.4900\n",
      "Epoch 49: val_accuracy did not improve from 0.82540\n",
      "\u001b[1m24/24\u001b[0m \u001b[32m━━━━━━━━━━━━━━━━━━━━\u001b[0m\u001b[37m\u001b[0m \u001b[1m9s\u001b[0m 369ms/step - accuracy: 0.7965 - loss: 0.4902 - val_accuracy: 0.7897 - val_loss: 0.5129\n",
      "Epoch 50/50\n",
      "\u001b[1m24/24\u001b[0m \u001b[32m━━━━━━━━━━━━━━━━━━━━\u001b[0m\u001b[37m\u001b[0m \u001b[1m0s\u001b[0m 337ms/step - accuracy: 0.7962 - loss: 0.4966\n",
      "Epoch 50: val_accuracy did not improve from 0.82540\n",
      "\u001b[1m24/24\u001b[0m \u001b[32m━━━━━━━━━━━━━━━━━━━━\u001b[0m\u001b[37m\u001b[0m \u001b[1m9s\u001b[0m 367ms/step - accuracy: 0.7963 - loss: 0.4961 - val_accuracy: 0.7540 - val_loss: 0.5084\n"
     ]
    }
   ],
   "source": [
    "history = model_base.fit(\n",
    "    train_generator,\n",
    "    epochs=50,\n",
    "    validation_data=validation_generator,\n",
    "    verbose=1,\n",
    "    callbacks=[callback_best_model('simple_model.h5')]\n",
    ")"
   ]
  },
  {
   "cell_type": "code",
   "execution_count": 22,
   "metadata": {
    "colab": {
     "base_uri": "https://localhost:8080/"
    },
    "executionInfo": {
     "elapsed": 6232,
     "status": "ok",
     "timestamp": 1746523378714,
     "user": {
      "displayName": "Kerem Kartal",
      "userId": "01578238521874098470"
     },
     "user_tz": -180
    },
    "id": "p9HOEx76tQJY",
    "outputId": "39e72fa2-27f5-4117-fc0d-982b7b40d0bd"
   },
   "outputs": [
    {
     "name": "stdout",
     "output_type": "stream",
     "text": [
      "\u001b[1m10/10\u001b[0m \u001b[32m━━━━━━━━━━━━━━━━━━━━\u001b[0m\u001b[37m\u001b[0m \u001b[1m6s\u001b[0m 564ms/step - accuracy: 0.7627 - loss: 0.5804\n"
     ]
    }
   ],
   "source": [
    "results = model_base.evaluate(test_generator)"
   ]
  },
  {
   "cell_type": "code",
   "execution_count": 23,
   "metadata": {
    "colab": {
     "base_uri": "https://localhost:8080/",
     "height": 1000
    },
    "executionInfo": {
     "elapsed": 444,
     "status": "ok",
     "timestamp": 1746523380543,
     "user": {
      "displayName": "Kerem Kartal",
      "userId": "01578238521874098470"
     },
     "user_tz": -180
    },
    "id": "m7r8__9CtRZ6",
    "outputId": "258617fa-c9ca-408a-f447-ad7f5f0620a6"
   },
   "outputs": [
    {
     "data": {
      "image/png": "[encoded data removed]",
      "text/plain": [
       "<Figure size 800x600 with 1 Axes>"
      ]
     },
     "metadata": {},
     "output_type": "display_data"
    },
    {
     "data": {
      "image/png": "[encoded data removed]",
      "text/plain": [
       "<Figure size 800x600 with 1 Axes>"
      ]
     },
     "metadata": {},
     "output_type": "display_data"
    }
   ],
   "source": [
    "results_visualization_fancy(history)\n"
   ]
  },
  {
   "cell_type": "markdown",
   "metadata": {},
   "source": [
    "## 9. İkinci CNN Model Mimarisi ve Derleme\n",
    "\n",
    "- **Katman 1: `Conv2D(40, (3,3), activation='relu', input_shape=(200,200,3))`**  \n",
    "  - 40 filtre, 3×3 boyut, ReLU aktivasyonu  \n",
    "  - Giriş: 200×200×3 → Çıkış: 198×198×40  \n",
    "  - Parametre: 3×3×3×40 + 40 = 1 120\n",
    "\n",
    "- **Katman 2: `MaxPool2D((2,2))`**  \n",
    "  - Uzaysal boyutları yarıya indirir → 99×99×40  \n",
    "  - Parametre yok\n",
    "\n",
    "- **Katman 3: `Conv2D(50, (3,3), activation='relu')` + `Dropout(0.2)`**  \n",
    "  - 50 filtre, 3×3 boyut, ReLU aktivasyonu  \n",
    "  - 99×99×40 → 97×97×50  \n",
    "  - Parametre: 3×3×40×50 + 50 = 18 050  \n",
    "  - Dropout %20 ile nöronlarda rastgele kapama\n",
    "\n",
    "- **Katman 4: `Conv2D(60, (3,3))` + `MaxPool2D((2,2))` + `Dropout(0.1)`**  \n",
    "  - 60 filtre, 3×3 boyut, lineer aktivasyon (default)  \n",
    "  - 97×97×50 → 95×95×60 (27 060 parametre)  \n",
    "  - MaxPool: 95×95×60 → 47×47×60  \n",
    "  - Dropout %10\n",
    "\n",
    "- **Katman 5: `Conv2D(70, (3,3), kernel_regularizer=l2(1e-4))` + `MaxPool2D((2,2))`**  \n",
    "  - 70 filtre, 3×3 boyut, L2 düzenlileştirici  \n",
    "  - 47×47×60 → 45×45×70 (37 870 parametre)  \n",
    "  - MaxPool: 45×45×70 → 22×22×70\n",
    "\n",
    "- **Flatten**  \n",
    "  - 22×22×70 → 33 880 boyutlu vektör  \n",
    "  - Parametre yok\n",
    "\n",
    "- **Çıkış Katmanı: `Dense(4, activation='softmax')`**  \n",
    "  - 4 sınıf için softmax  \n",
    "  - Parametre: 33 880×4 + 4 = 135 524\n",
    "\n",
    "---\n",
    "\n",
    "- **Toplam Parametre**: 219 624 (tümü eğitilebilir)\n",
    "\n",
    "- **Derleme (Compile)**  \n",
    "  - **Optimizör**: `adam`  \n",
    "  - **Kayıp Fonksiyonu**: `categorical_crossentropy`  \n",
    "  - **Metri̇k**: `accuracy`  \n",
    "\n",
    "> Bu CNN mimarisi, konvolüsyon ve havuzlama katmanlarıyla görsel özellikleri hiyerarşik olarak çıkarır; Dropout ve L2 düzenlileştirici aşırı öğrenmeyi azaltmaya yardımcı olur.  \n"
   ]
  },
  {
   "cell_type": "code",
   "execution_count": 24,
   "metadata": {
    "colab": {
     "base_uri": "https://localhost:8080/",
     "height": 481
    },
    "executionInfo": {
     "elapsed": 74,
     "status": "ok",
     "timestamp": 1746523393280,
     "user": {
      "displayName": "Kerem Kartal",
      "userId": "01578238521874098470"
     },
     "user_tz": -180
    },
    "id": "bwtOOp4duanB",
    "outputId": "6eb68a7d-2510-48cd-97f0-c78bb289322a"
   },
   "outputs": [
    {
     "data": {
      "text/html": [
       "<pre style=\"white-space:pre;overflow-x:auto;line-height:normal;font-family:Menlo,'DejaVu Sans Mono',consolas,'Courier New',monospace\"><span style=\"font-weight: bold\">Model: \"sequential_1\"</span>\n",
       "</pre>\n"
      ],
      "text/plain": [
       "\u001b[1mModel: \"sequential_1\"\u001b[0m\n"
      ]
     },
     "metadata": {},
     "output_type": "display_data"
    },
    {
     "data": {
      "text/html": [
       "<pre style=\"white-space:pre;overflow-x:auto;line-height:normal;font-family:Menlo,'DejaVu Sans Mono',consolas,'Courier New',monospace\">┏━━━━━━━━━━━━━━━━━━━━━━━━━━━━━━━━━┳━━━━━━━━━━━━━━━━━━━━━━━━┳━━━━━━━━━━━━━━━┓\n",
       "┃<span style=\"font-weight: bold\"> Layer (type)                    </span>┃<span style=\"font-weight: bold\"> Output Shape           </span>┃<span style=\"font-weight: bold\">       Param # </span>┃\n",
       "┡━━━━━━━━━━━━━━━━━━━━━━━━━━━━━━━━━╇━━━━━━━━━━━━━━━━━━━━━━━━╇━━━━━━━━━━━━━━━┩\n",
       "│ conv2d (<span style=\"color: #0087ff; text-decoration-color: #0087ff\">Conv2D</span>)                 │ (<span style=\"color: #00d7ff; text-decoration-color: #00d7ff\">None</span>, <span style=\"color: #00af00; text-decoration-color: #00af00\">198</span>, <span style=\"color: #00af00; text-decoration-color: #00af00\">198</span>, <span style=\"color: #00af00; text-decoration-color: #00af00\">40</span>)   │         <span style=\"color: #00af00; text-decoration-color: #00af00\">1,120</span> │\n",
       "├─────────────────────────────────┼────────────────────────┼───────────────┤\n",
       "│ max_pooling2d (<span style=\"color: #0087ff; text-decoration-color: #0087ff\">MaxPooling2D</span>)    │ (<span style=\"color: #00d7ff; text-decoration-color: #00d7ff\">None</span>, <span style=\"color: #00af00; text-decoration-color: #00af00\">99</span>, <span style=\"color: #00af00; text-decoration-color: #00af00\">99</span>, <span style=\"color: #00af00; text-decoration-color: #00af00\">40</span>)     │             <span style=\"color: #00af00; text-decoration-color: #00af00\">0</span> │\n",
       "├─────────────────────────────────┼────────────────────────┼───────────────┤\n",
       "│ conv2d_1 (<span style=\"color: #0087ff; text-decoration-color: #0087ff\">Conv2D</span>)               │ (<span style=\"color: #00d7ff; text-decoration-color: #00d7ff\">None</span>, <span style=\"color: #00af00; text-decoration-color: #00af00\">97</span>, <span style=\"color: #00af00; text-decoration-color: #00af00\">97</span>, <span style=\"color: #00af00; text-decoration-color: #00af00\">50</span>)     │        <span style=\"color: #00af00; text-decoration-color: #00af00\">18,050</span> │\n",
       "├─────────────────────────────────┼────────────────────────┼───────────────┤\n",
       "│ dropout (<span style=\"color: #0087ff; text-decoration-color: #0087ff\">Dropout</span>)               │ (<span style=\"color: #00d7ff; text-decoration-color: #00d7ff\">None</span>, <span style=\"color: #00af00; text-decoration-color: #00af00\">97</span>, <span style=\"color: #00af00; text-decoration-color: #00af00\">97</span>, <span style=\"color: #00af00; text-decoration-color: #00af00\">50</span>)     │             <span style=\"color: #00af00; text-decoration-color: #00af00\">0</span> │\n",
       "├─────────────────────────────────┼────────────────────────┼───────────────┤\n",
       "│ conv2d_2 (<span style=\"color: #0087ff; text-decoration-color: #0087ff\">Conv2D</span>)               │ (<span style=\"color: #00d7ff; text-decoration-color: #00d7ff\">None</span>, <span style=\"color: #00af00; text-decoration-color: #00af00\">95</span>, <span style=\"color: #00af00; text-decoration-color: #00af00\">95</span>, <span style=\"color: #00af00; text-decoration-color: #00af00\">60</span>)     │        <span style=\"color: #00af00; text-decoration-color: #00af00\">27,060</span> │\n",
       "├─────────────────────────────────┼────────────────────────┼───────────────┤\n",
       "│ max_pooling2d_1 (<span style=\"color: #0087ff; text-decoration-color: #0087ff\">MaxPooling2D</span>)  │ (<span style=\"color: #00d7ff; text-decoration-color: #00d7ff\">None</span>, <span style=\"color: #00af00; text-decoration-color: #00af00\">47</span>, <span style=\"color: #00af00; text-decoration-color: #00af00\">47</span>, <span style=\"color: #00af00; text-decoration-color: #00af00\">60</span>)     │             <span style=\"color: #00af00; text-decoration-color: #00af00\">0</span> │\n",
       "├─────────────────────────────────┼────────────────────────┼───────────────┤\n",
       "│ dropout_1 (<span style=\"color: #0087ff; text-decoration-color: #0087ff\">Dropout</span>)             │ (<span style=\"color: #00d7ff; text-decoration-color: #00d7ff\">None</span>, <span style=\"color: #00af00; text-decoration-color: #00af00\">47</span>, <span style=\"color: #00af00; text-decoration-color: #00af00\">47</span>, <span style=\"color: #00af00; text-decoration-color: #00af00\">60</span>)     │             <span style=\"color: #00af00; text-decoration-color: #00af00\">0</span> │\n",
       "├─────────────────────────────────┼────────────────────────┼───────────────┤\n",
       "│ conv2d_3 (<span style=\"color: #0087ff; text-decoration-color: #0087ff\">Conv2D</span>)               │ (<span style=\"color: #00d7ff; text-decoration-color: #00d7ff\">None</span>, <span style=\"color: #00af00; text-decoration-color: #00af00\">45</span>, <span style=\"color: #00af00; text-decoration-color: #00af00\">45</span>, <span style=\"color: #00af00; text-decoration-color: #00af00\">70</span>)     │        <span style=\"color: #00af00; text-decoration-color: #00af00\">37,870</span> │\n",
       "├─────────────────────────────────┼────────────────────────┼───────────────┤\n",
       "│ max_pooling2d_2 (<span style=\"color: #0087ff; text-decoration-color: #0087ff\">MaxPooling2D</span>)  │ (<span style=\"color: #00d7ff; text-decoration-color: #00d7ff\">None</span>, <span style=\"color: #00af00; text-decoration-color: #00af00\">22</span>, <span style=\"color: #00af00; text-decoration-color: #00af00\">22</span>, <span style=\"color: #00af00; text-decoration-color: #00af00\">70</span>)     │             <span style=\"color: #00af00; text-decoration-color: #00af00\">0</span> │\n",
       "├─────────────────────────────────┼────────────────────────┼───────────────┤\n",
       "│ flatten_1 (<span style=\"color: #0087ff; text-decoration-color: #0087ff\">Flatten</span>)             │ (<span style=\"color: #00d7ff; text-decoration-color: #00d7ff\">None</span>, <span style=\"color: #00af00; text-decoration-color: #00af00\">33880</span>)          │             <span style=\"color: #00af00; text-decoration-color: #00af00\">0</span> │\n",
       "├─────────────────────────────────┼────────────────────────┼───────────────┤\n",
       "│ dense_3 (<span style=\"color: #0087ff; text-decoration-color: #0087ff\">Dense</span>)                 │ (<span style=\"color: #00d7ff; text-decoration-color: #00d7ff\">None</span>, <span style=\"color: #00af00; text-decoration-color: #00af00\">4</span>)              │       <span style=\"color: #00af00; text-decoration-color: #00af00\">135,524</span> │\n",
       "└─────────────────────────────────┴────────────────────────┴───────────────┘\n",
       "</pre>\n"
      ],
      "text/plain": [
       "┏━━━━━━━━━━━━━━━━━━━━━━━━━━━━━━━━━┳━━━━━━━━━━━━━━━━━━━━━━━━┳━━━━━━━━━━━━━━━┓\n",
       "┃\u001b[1m \u001b[0m\u001b[1mLayer (type)                   \u001b[0m\u001b[1m \u001b[0m┃\u001b[1m \u001b[0m\u001b[1mOutput Shape          \u001b[0m\u001b[1m \u001b[0m┃\u001b[1m \u001b[0m\u001b[1m      Param #\u001b[0m\u001b[1m \u001b[0m┃\n",
       "┡━━━━━━━━━━━━━━━━━━━━━━━━━━━━━━━━━╇━━━━━━━━━━━━━━━━━━━━━━━━╇━━━━━━━━━━━━━━━┩\n",
       "│ conv2d (\u001b[38;5;33mConv2D\u001b[0m)                 │ (\u001b[38;5;45mNone\u001b[0m, \u001b[38;5;34m198\u001b[0m, \u001b[38;5;34m198\u001b[0m, \u001b[38;5;34m40\u001b[0m)   │         \u001b[38;5;34m1,120\u001b[0m │\n",
       "├─────────────────────────────────┼────────────────────────┼───────────────┤\n",
       "│ max_pooling2d (\u001b[38;5;33mMaxPooling2D\u001b[0m)    │ (\u001b[38;5;45mNone\u001b[0m, \u001b[38;5;34m99\u001b[0m, \u001b[38;5;34m99\u001b[0m, \u001b[38;5;34m40\u001b[0m)     │             \u001b[38;5;34m0\u001b[0m │\n",
       "├─────────────────────────────────┼────────────────────────┼───────────────┤\n",
       "│ conv2d_1 (\u001b[38;5;33mConv2D\u001b[0m)               │ (\u001b[38;5;45mNone\u001b[0m, \u001b[38;5;34m97\u001b[0m, \u001b[38;5;34m97\u001b[0m, \u001b[38;5;34m50\u001b[0m)     │        \u001b[38;5;34m18,050\u001b[0m │\n",
       "├─────────────────────────────────┼────────────────────────┼───────────────┤\n",
       "│ dropout (\u001b[38;5;33mDropout\u001b[0m)               │ (\u001b[38;5;45mNone\u001b[0m, \u001b[38;5;34m97\u001b[0m, \u001b[38;5;34m97\u001b[0m, \u001b[38;5;34m50\u001b[0m)     │             \u001b[38;5;34m0\u001b[0m │\n",
       "├─────────────────────────────────┼────────────────────────┼───────────────┤\n",
       "│ conv2d_2 (\u001b[38;5;33mConv2D\u001b[0m)               │ (\u001b[38;5;45mNone\u001b[0m, \u001b[38;5;34m95\u001b[0m, \u001b[38;5;34m95\u001b[0m, \u001b[38;5;34m60\u001b[0m)     │        \u001b[38;5;34m27,060\u001b[0m │\n",
       "├─────────────────────────────────┼────────────────────────┼───────────────┤\n",
       "│ max_pooling2d_1 (\u001b[38;5;33mMaxPooling2D\u001b[0m)  │ (\u001b[38;5;45mNone\u001b[0m, \u001b[38;5;34m47\u001b[0m, \u001b[38;5;34m47\u001b[0m, \u001b[38;5;34m60\u001b[0m)     │             \u001b[38;5;34m0\u001b[0m │\n",
       "├─────────────────────────────────┼────────────────────────┼───────────────┤\n",
       "│ dropout_1 (\u001b[38;5;33mDropout\u001b[0m)             │ (\u001b[38;5;45mNone\u001b[0m, \u001b[38;5;34m47\u001b[0m, \u001b[38;5;34m47\u001b[0m, \u001b[38;5;34m60\u001b[0m)     │             \u001b[38;5;34m0\u001b[0m │\n",
       "├─────────────────────────────────┼────────────────────────┼───────────────┤\n",
       "│ conv2d_3 (\u001b[38;5;33mConv2D\u001b[0m)               │ (\u001b[38;5;45mNone\u001b[0m, \u001b[38;5;34m45\u001b[0m, \u001b[38;5;34m45\u001b[0m, \u001b[38;5;34m70\u001b[0m)     │        \u001b[38;5;34m37,870\u001b[0m │\n",
       "├─────────────────────────────────┼────────────────────────┼───────────────┤\n",
       "│ max_pooling2d_2 (\u001b[38;5;33mMaxPooling2D\u001b[0m)  │ (\u001b[38;5;45mNone\u001b[0m, \u001b[38;5;34m22\u001b[0m, \u001b[38;5;34m22\u001b[0m, \u001b[38;5;34m70\u001b[0m)     │             \u001b[38;5;34m0\u001b[0m │\n",
       "├─────────────────────────────────┼────────────────────────┼───────────────┤\n",
       "│ flatten_1 (\u001b[38;5;33mFlatten\u001b[0m)             │ (\u001b[38;5;45mNone\u001b[0m, \u001b[38;5;34m33880\u001b[0m)          │             \u001b[38;5;34m0\u001b[0m │\n",
       "├─────────────────────────────────┼────────────────────────┼───────────────┤\n",
       "│ dense_3 (\u001b[38;5;33mDense\u001b[0m)                 │ (\u001b[38;5;45mNone\u001b[0m, \u001b[38;5;34m4\u001b[0m)              │       \u001b[38;5;34m135,524\u001b[0m │\n",
       "└─────────────────────────────────┴────────────────────────┴───────────────┘\n"
      ]
     },
     "metadata": {},
     "output_type": "display_data"
    },
    {
     "data": {
      "text/html": [
       "<pre style=\"white-space:pre;overflow-x:auto;line-height:normal;font-family:Menlo,'DejaVu Sans Mono',consolas,'Courier New',monospace\"><span style=\"font-weight: bold\"> Total params: </span><span style=\"color: #00af00; text-decoration-color: #00af00\">219,624</span> (857.91 KB)\n",
       "</pre>\n"
      ],
      "text/plain": [
       "\u001b[1m Total params: \u001b[0m\u001b[38;5;34m219,624\u001b[0m (857.91 KB)\n"
      ]
     },
     "metadata": {},
     "output_type": "display_data"
    },
    {
     "data": {
      "text/html": [
       "<pre style=\"white-space:pre;overflow-x:auto;line-height:normal;font-family:Menlo,'DejaVu Sans Mono',consolas,'Courier New',monospace\"><span style=\"font-weight: bold\"> Trainable params: </span><span style=\"color: #00af00; text-decoration-color: #00af00\">219,624</span> (857.91 KB)\n",
       "</pre>\n"
      ],
      "text/plain": [
       "\u001b[1m Trainable params: \u001b[0m\u001b[38;5;34m219,624\u001b[0m (857.91 KB)\n"
      ]
     },
     "metadata": {},
     "output_type": "display_data"
    },
    {
     "data": {
      "text/html": [
       "<pre style=\"white-space:pre;overflow-x:auto;line-height:normal;font-family:Menlo,'DejaVu Sans Mono',consolas,'Courier New',monospace\"><span style=\"font-weight: bold\"> Non-trainable params: </span><span style=\"color: #00af00; text-decoration-color: #00af00\">0</span> (0.00 B)\n",
       "</pre>\n"
      ],
      "text/plain": [
       "\u001b[1m Non-trainable params: \u001b[0m\u001b[38;5;34m0\u001b[0m (0.00 B)\n"
      ]
     },
     "metadata": {},
     "output_type": "display_data"
    }
   ],
   "source": [
    "cnn_model = tf.keras.models.Sequential([\n",
    "    # Input Layer\n",
    "    tf.keras.layers.Conv2D(40, (3,3), activation='relu', input_shape=(200,200,3)),\n",
    "    tf.keras.layers.MaxPool2D((2,2)),\n",
    "\n",
    "    # Layer 2\n",
    "    tf.keras.layers.Conv2D(50, (3,3), activation='relu'),\n",
    "    tf.keras.layers.Dropout(0.2),\n",
    "\n",
    "    # Layer 3\n",
    "    tf.keras.layers.Conv2D(60, (3,3)),\n",
    "    tf.keras.layers.MaxPool2D((2,2)),\n",
    "    tf.keras.layers.Dropout(0.1),\n",
    "\n",
    "    # Layer 4\n",
    "    tf.keras.layers.Conv2D(70,(3,3), kernel_regularizer=tf.keras.regularizers.l2(1e-4)),\n",
    "    tf.keras.layers.MaxPool2D((2,2)),\n",
    "\n",
    "    # Flatten layer\n",
    "    tf.keras.layers.Flatten(),\n",
    "\n",
    "    # Output layer\n",
    "    tf.keras.layers.Dense(4, activation='softmax')\n",
    "])\n",
    "cnn_model.summary()"
   ]
  },
  {
   "cell_type": "code",
   "execution_count": 25,
   "metadata": {
    "executionInfo": {
     "elapsed": 15,
     "status": "ok",
     "timestamp": 1746523396094,
     "user": {
      "displayName": "Kerem Kartal",
      "userId": "01578238521874098470"
     },
     "user_tz": -180
    },
    "id": "RhGkE7Juvn5j"
   },
   "outputs": [],
   "source": [
    "cnn_model.compile(\n",
    "    optimizer='adam',\n",
    "    loss='categorical_crossentropy',\n",
    "    metrics=['accuracy']\n",
    ")"
   ]
  },
  {
   "cell_type": "markdown",
   "metadata": {},
   "source": [
    "## 10. İkinci CNN Model Eğitimi ve Performans Özeti\n",
    "\n",
    "- **Eğitim Koşulları**  \n",
    "  - Epoch sayısı: 100  \n",
    "  - Optimizör: Adam  \n",
    "  - Kayıp fonksiyonu: Categorical Cross-Entropy  \n",
    "  - İzlenen metrik: Validation Accuracy  \n",
    "  - Checkpoint: `/content/results/cnn_model_performans.h5` (en iyi `val_accuracy` → epoch 92)\n",
    "\n",
    "- **En İyi Validation Sonucu**  \n",
    "  - Epoch 92:  \n",
    "    - `val_accuracy` %89.29 → %90.08 (model kaydedildi)\n",
    "\n",
    "- **Son Epoch Performansı**  \n",
    "  - Eğitim doğruluğu: %97.86  \n",
    "  - Eğitim kaybı: 0.0741  \n",
    "  - Doğrulama doğruluğu: %84.92  \n",
    "  - Doğrulama kaybı: 0.7303  \n",
    "\n",
    "- **Test Seti Değerlendirmesi**  \n",
    "  ```python\n",
    "  results = model_base.evaluate(test_generator)\n",
    "  # accuracy: 0.7492, loss: 0.5769\n"
   ]
  },
  {
   "cell_type": "code",
   "execution_count": 26,
   "metadata": {
    "colab": {
     "base_uri": "https://localhost:8080/"
    },
    "executionInfo": {
     "elapsed": 934189,
     "status": "ok",
     "timestamp": 1746524339559,
     "user": {
      "displayName": "Kerem Kartal",
      "userId": "01578238521874098470"
     },
     "user_tz": -180
    },
    "id": "q8b2HjBhvFy-",
    "outputId": "b73ac15d-60c6-45ec-faa9-20277b792d9a"
   },
   "outputs": [
    {
     "name": "stdout",
     "output_type": "stream",
     "text": [
      "Epoch 1/100\n",
      "\u001b[1m24/24\u001b[0m \u001b[32m━━━━━━━━━━━━━━━━━━━━\u001b[0m\u001b[37m\u001b[0m \u001b[1m0s\u001b[0m 481ms/step - accuracy: 0.3044 - loss: 1.5226\n",
      "Epoch 1: val_accuracy improved from -inf to 0.56746, saving model to /content/results/cnn_model_performans.h5\n"
     ]
    },
    {
     "name": "stderr",
     "output_type": "stream",
     "text": [
      "WARNING:absl:You are saving your model as an HDF5 file via `model.save()` or `keras.saving.save_model(model)`. This file format is considered legacy. We recommend using instead the native Keras format, e.g. `model.save('my_model.keras')` or `keras.saving.save_model(model, 'my_model.keras')`. \n"
     ]
    },
    {
     "name": "stdout",
     "output_type": "stream",
     "text": [
      "\b\b\b\b\b\b\b\b\b\b\b\b\b\b\b\b\b\b\b\b\b\b\b\b\b\b\b\b\b\b\b\b\b\b\b\b\b\b\b\b\b\b\b\b\b\b\b\b\b\b\b\b\b\b\b\b\b\b\b\b\b\b\b\b\b\b\b\b\b\b\b\b\b\b\r\u001b[1m24/24\u001b[0m \u001b[32m━━━━━━━━━━━━━━━━━━━━\u001b[0m\u001b[37m\u001b[0m \u001b[1m38s\u001b[0m 804ms/step - accuracy: 0.3072 - loss: 1.5166 - val_accuracy: 0.5675 - val_loss: 1.0754\n",
      "Epoch 2/100\n",
      "\u001b[1m24/24\u001b[0m \u001b[32m━━━━━━━━━━━━━━━━━━━━\u001b[0m\u001b[37m\u001b[0m \u001b[1m0s\u001b[0m 339ms/step - accuracy: 0.4713 - loss: 1.1874\n",
      "Epoch 2: val_accuracy improved from 0.56746 to 0.61111, saving model to /content/results/cnn_model_performans.h5\n"
     ]
    },
    {
     "name": "stderr",
     "output_type": "stream",
     "text": [
      "WARNING:absl:You are saving your model as an HDF5 file via `model.save()` or `keras.saving.save_model(model)`. This file format is considered legacy. We recommend using instead the native Keras format, e.g. `model.save('my_model.keras')` or `keras.saving.save_model(model, 'my_model.keras')`. \n"
     ]
    },
    {
     "name": "stdout",
     "output_type": "stream",
     "text": [
      "\b\b\b\b\b\b\b\b\b\b\b\b\b\b\b\b\b\b\b\b\b\b\b\b\b\b\b\b\b\b\b\b\b\b\b\b\b\b\b\b\b\b\b\b\b\b\b\b\b\b\b\b\b\b\b\b\b\b\b\b\b\b\b\b\b\b\b\b\b\b\b\b\b\b\r\u001b[1m24/24\u001b[0m \u001b[32m━━━━━━━━━━━━━━━━━━━━\u001b[0m\u001b[37m\u001b[0m \u001b[1m9s\u001b[0m 374ms/step - accuracy: 0.4727 - loss: 1.1830 - val_accuracy: 0.6111 - val_loss: 0.8676\n",
      "Epoch 3/100\n",
      "\u001b[1m24/24\u001b[0m \u001b[32m━━━━━━━━━━━━━━━━━━━━\u001b[0m\u001b[37m\u001b[0m \u001b[1m0s\u001b[0m 336ms/step - accuracy: 0.5777 - loss: 0.9032\n",
      "Epoch 3: val_accuracy improved from 0.61111 to 0.65079, saving model to /content/results/cnn_model_performans.h5\n"
     ]
    },
    {
     "name": "stderr",
     "output_type": "stream",
     "text": [
      "WARNING:absl:You are saving your model as an HDF5 file via `model.save()` or `keras.saving.save_model(model)`. This file format is considered legacy. We recommend using instead the native Keras format, e.g. `model.save('my_model.keras')` or `keras.saving.save_model(model, 'my_model.keras')`. \n"
     ]
    },
    {
     "name": "stdout",
     "output_type": "stream",
     "text": [
      "\b\b\b\b\b\b\b\b\b\b\b\b\b\b\b\b\b\b\b\b\b\b\b\b\b\b\b\b\b\b\b\b\b\b\b\b\b\b\b\b\b\b\b\b\b\b\b\b\b\b\b\b\b\b\b\b\b\b\b\b\b\b\b\b\b\b\b\b\b\b\b\b\b\b\r\u001b[1m24/24\u001b[0m \u001b[32m━━━━━━━━━━━━━━━━━━━━\u001b[0m\u001b[37m\u001b[0m \u001b[1m9s\u001b[0m 374ms/step - accuracy: 0.5775 - loss: 0.9038 - val_accuracy: 0.6508 - val_loss: 0.8115\n",
      "Epoch 4/100\n",
      "\u001b[1m24/24\u001b[0m \u001b[32m━━━━━━━━━━━━━━━━━━━━\u001b[0m\u001b[37m\u001b[0m \u001b[1m0s\u001b[0m 328ms/step - accuracy: 0.6056 - loss: 0.8709\n",
      "Epoch 4: val_accuracy improved from 0.65079 to 0.65873, saving model to /content/results/cnn_model_performans.h5\n"
     ]
    },
    {
     "name": "stderr",
     "output_type": "stream",
     "text": [
      "WARNING:absl:You are saving your model as an HDF5 file via `model.save()` or `keras.saving.save_model(model)`. This file format is considered legacy. We recommend using instead the native Keras format, e.g. `model.save('my_model.keras')` or `keras.saving.save_model(model, 'my_model.keras')`. \n"
     ]
    },
    {
     "name": "stdout",
     "output_type": "stream",
     "text": [
      "\b\b\b\b\b\b\b\b\b\b\b\b\b\b\b\b\b\b\b\b\b\b\b\b\b\b\b\b\b\b\b\b\b\b\b\b\b\b\b\b\b\b\b\b\b\b\b\b\b\b\b\b\b\b\b\b\b\b\b\b\b\b\b\b\b\b\b\b\b\b\b\b\b\b\r\u001b[1m24/24\u001b[0m \u001b[32m━━━━━━━━━━━━━━━━━━━━\u001b[0m\u001b[37m\u001b[0m \u001b[1m9s\u001b[0m 362ms/step - accuracy: 0.6058 - loss: 0.8709 - val_accuracy: 0.6587 - val_loss: 0.7987\n",
      "Epoch 5/100\n",
      "\u001b[1m24/24\u001b[0m \u001b[32m━━━━━━━━━━━━━━━━━━━━\u001b[0m\u001b[37m\u001b[0m \u001b[1m0s\u001b[0m 345ms/step - accuracy: 0.6143 - loss: 0.8364\n",
      "Epoch 5: val_accuracy improved from 0.65873 to 0.67063, saving model to /content/results/cnn_model_performans.h5\n"
     ]
    },
    {
     "name": "stderr",
     "output_type": "stream",
     "text": [
      "WARNING:absl:You are saving your model as an HDF5 file via `model.save()` or `keras.saving.save_model(model)`. This file format is considered legacy. We recommend using instead the native Keras format, e.g. `model.save('my_model.keras')` or `keras.saving.save_model(model, 'my_model.keras')`. \n"
     ]
    },
    {
     "name": "stdout",
     "output_type": "stream",
     "text": [
      "\b\b\b\b\b\b\b\b\b\b\b\b\b\b\b\b\b\b\b\b\b\b\b\b\b\b\b\b\b\b\b\b\b\b\b\b\b\b\b\b\b\b\b\b\b\b\b\b\b\b\b\b\b\b\b\b\b\b\b\b\b\b\b\b\b\b\b\b\b\b\b\b\b\b\r\u001b[1m24/24\u001b[0m \u001b[32m━━━━━━━━━━━━━━━━━━━━\u001b[0m\u001b[37m\u001b[0m \u001b[1m9s\u001b[0m 377ms/step - accuracy: 0.6148 - loss: 0.8355 - val_accuracy: 0.6706 - val_loss: 0.7755\n",
      "Epoch 6/100\n",
      "\u001b[1m23/24\u001b[0m \u001b[32m━━━━━━━━━━━━━━━━━━━\u001b[0m\u001b[37m━\u001b[0m \u001b[1m0s\u001b[0m 354ms/step - accuracy: 0.6453 - loss: 0.7914\n",
      "Epoch 6: val_accuracy improved from 0.67063 to 0.74603, saving model to /content/results/cnn_model_performans.h5\n"
     ]
    },
    {
     "name": "stderr",
     "output_type": "stream",
     "text": [
      "WARNING:absl:You are saving your model as an HDF5 file via `model.save()` or `keras.saving.save_model(model)`. This file format is considered legacy. We recommend using instead the native Keras format, e.g. `model.save('my_model.keras')` or `keras.saving.save_model(model, 'my_model.keras')`. \n"
     ]
    },
    {
     "name": "stdout",
     "output_type": "stream",
     "text": [
      "\b\b\b\b\b\b\b\b\b\b\b\b\b\b\b\b\b\b\b\b\b\b\b\b\b\b\b\b\b\b\b\b\b\b\b\b\b\b\b\b\b\b\b\b\b\b\b\b\b\b\b\b\b\b\b\b\b\b\b\b\b\b\b\b\b\b\b\b\b\b\b\b\b\b\r\u001b[1m24/24\u001b[0m \u001b[32m━━━━━━━━━━━━━━━━━━━━\u001b[0m\u001b[37m\u001b[0m \u001b[1m9s\u001b[0m 371ms/step - accuracy: 0.6468 - loss: 0.7892 - val_accuracy: 0.7460 - val_loss: 0.6283\n",
      "Epoch 7/100\n",
      "\u001b[1m24/24\u001b[0m \u001b[32m━━━━━━━━━━━━━━━━━━━━\u001b[0m\u001b[37m\u001b[0m \u001b[1m0s\u001b[0m 334ms/step - accuracy: 0.6589 - loss: 0.7461\n",
      "Epoch 7: val_accuracy did not improve from 0.74603\n",
      "\u001b[1m24/24\u001b[0m \u001b[32m━━━━━━━━━━━━━━━━━━━━\u001b[0m\u001b[37m\u001b[0m \u001b[1m9s\u001b[0m 372ms/step - accuracy: 0.6595 - loss: 0.7455 - val_accuracy: 0.7143 - val_loss: 0.6751\n",
      "Epoch 8/100\n",
      "\u001b[1m24/24\u001b[0m \u001b[32m━━━━━━━━━━━━━━━━━━━━\u001b[0m\u001b[37m\u001b[0m \u001b[1m0s\u001b[0m 337ms/step - accuracy: 0.7072 - loss: 0.6887\n",
      "Epoch 8: val_accuracy did not improve from 0.74603\n",
      "\u001b[1m24/24\u001b[0m \u001b[32m━━━━━━━━━━━━━━━━━━━━\u001b[0m\u001b[37m\u001b[0m \u001b[1m9s\u001b[0m 371ms/step - accuracy: 0.7071 - loss: 0.6889 - val_accuracy: 0.7143 - val_loss: 0.6712\n",
      "Epoch 9/100\n",
      "\u001b[1m24/24\u001b[0m \u001b[32m━━━━━━━━━━━━━━━━━━━━\u001b[0m\u001b[37m\u001b[0m \u001b[1m0s\u001b[0m 350ms/step - accuracy: 0.7021 - loss: 0.7075\n",
      "Epoch 9: val_accuracy improved from 0.74603 to 0.75794, saving model to /content/results/cnn_model_performans.h5\n"
     ]
    },
    {
     "name": "stderr",
     "output_type": "stream",
     "text": [
      "WARNING:absl:You are saving your model as an HDF5 file via `model.save()` or `keras.saving.save_model(model)`. This file format is considered legacy. We recommend using instead the native Keras format, e.g. `model.save('my_model.keras')` or `keras.saving.save_model(model, 'my_model.keras')`. \n"
     ]
    },
    {
     "name": "stdout",
     "output_type": "stream",
     "text": [
      "\b\b\b\b\b\b\b\b\b\b\b\b\b\b\b\b\b\b\b\b\b\b\b\b\b\b\b\b\b\b\b\b\b\b\b\b\b\b\b\b\b\b\b\b\b\b\b\b\b\b\b\b\b\b\b\b\b\b\b\b\b\b\b\b\b\b\b\b\b\b\b\b\b\b\r\u001b[1m24/24\u001b[0m \u001b[32m━━━━━━━━━━━━━━━━━━━━\u001b[0m\u001b[37m\u001b[0m \u001b[1m9s\u001b[0m 382ms/step - accuracy: 0.7020 - loss: 0.7082 - val_accuracy: 0.7579 - val_loss: 0.6193\n",
      "Epoch 10/100\n",
      "\u001b[1m24/24\u001b[0m \u001b[32m━━━━━━━━━━━━━━━━━━━━\u001b[0m\u001b[37m\u001b[0m \u001b[1m0s\u001b[0m 336ms/step - accuracy: 0.7437 - loss: 0.6393\n",
      "Epoch 10: val_accuracy did not improve from 0.75794\n",
      "\u001b[1m24/24\u001b[0m \u001b[32m━━━━━━━━━━━━━━━━━━━━\u001b[0m\u001b[37m\u001b[0m \u001b[1m9s\u001b[0m 369ms/step - accuracy: 0.7432 - loss: 0.6395 - val_accuracy: 0.7183 - val_loss: 0.6266\n",
      "Epoch 11/100\n",
      "\u001b[1m24/24\u001b[0m \u001b[32m━━━━━━━━━━━━━━━━━━━━\u001b[0m\u001b[37m\u001b[0m \u001b[1m0s\u001b[0m 329ms/step - accuracy: 0.7593 - loss: 0.5995\n",
      "Epoch 11: val_accuracy did not improve from 0.75794\n",
      "\u001b[1m24/24\u001b[0m \u001b[32m━━━━━━━━━━━━━━━━━━━━\u001b[0m\u001b[37m\u001b[0m \u001b[1m9s\u001b[0m 364ms/step - accuracy: 0.7589 - loss: 0.6004 - val_accuracy: 0.7183 - val_loss: 0.6163\n",
      "Epoch 12/100\n",
      "\u001b[1m24/24\u001b[0m \u001b[32m━━━━━━━━━━━━━━━━━━━━\u001b[0m\u001b[37m\u001b[0m \u001b[1m0s\u001b[0m 343ms/step - accuracy: 0.7334 - loss: 0.6072\n",
      "Epoch 12: val_accuracy improved from 0.75794 to 0.78968, saving model to /content/results/cnn_model_performans.h5\n"
     ]
    },
    {
     "name": "stderr",
     "output_type": "stream",
     "text": [
      "WARNING:absl:You are saving your model as an HDF5 file via `model.save()` or `keras.saving.save_model(model)`. This file format is considered legacy. We recommend using instead the native Keras format, e.g. `model.save('my_model.keras')` or `keras.saving.save_model(model, 'my_model.keras')`. \n"
     ]
    },
    {
     "name": "stdout",
     "output_type": "stream",
     "text": [
      "\b\b\b\b\b\b\b\b\b\b\b\b\b\b\b\b\b\b\b\b\b\b\b\b\b\b\b\b\b\b\b\b\b\b\b\b\b\b\b\b\b\b\b\b\b\b\b\b\b\b\b\b\b\b\b\b\b\b\b\b\b\b\b\b\b\b\b\b\b\b\b\b\b\b\r\u001b[1m24/24\u001b[0m \u001b[32m━━━━━━━━━━━━━━━━━━━━\u001b[0m\u001b[37m\u001b[0m \u001b[1m9s\u001b[0m 377ms/step - accuracy: 0.7334 - loss: 0.6073 - val_accuracy: 0.7897 - val_loss: 0.5429\n",
      "Epoch 13/100\n",
      "\u001b[1m24/24\u001b[0m \u001b[32m━━━━━━━━━━━━━━━━━━━━\u001b[0m\u001b[37m\u001b[0m \u001b[1m0s\u001b[0m 348ms/step - accuracy: 0.7668 - loss: 0.5626\n",
      "Epoch 13: val_accuracy did not improve from 0.78968\n",
      "\u001b[1m24/24\u001b[0m \u001b[32m━━━━━━━━━━━━━━━━━━━━\u001b[0m\u001b[37m\u001b[0m \u001b[1m9s\u001b[0m 379ms/step - accuracy: 0.7666 - loss: 0.5629 - val_accuracy: 0.7659 - val_loss: 0.5630\n",
      "Epoch 14/100\n",
      "\u001b[1m24/24\u001b[0m \u001b[32m━━━━━━━━━━━━━━━━━━━━\u001b[0m\u001b[37m\u001b[0m \u001b[1m0s\u001b[0m 337ms/step - accuracy: 0.7574 - loss: 0.5860\n",
      "Epoch 14: val_accuracy did not improve from 0.78968\n",
      "\u001b[1m24/24\u001b[0m \u001b[32m━━━━━━━━━━━━━━━━━━━━\u001b[0m\u001b[37m\u001b[0m \u001b[1m9s\u001b[0m 371ms/step - accuracy: 0.7572 - loss: 0.5867 - val_accuracy: 0.7659 - val_loss: 0.5651\n",
      "Epoch 15/100\n",
      "\u001b[1m24/24\u001b[0m \u001b[32m━━━━━━━━━━━━━━━━━━━━\u001b[0m\u001b[37m\u001b[0m \u001b[1m0s\u001b[0m 336ms/step - accuracy: 0.7533 - loss: 0.6120\n",
      "Epoch 15: val_accuracy did not improve from 0.78968\n",
      "\u001b[1m24/24\u001b[0m \u001b[32m━━━━━━━━━━━━━━━━━━━━\u001b[0m\u001b[37m\u001b[0m \u001b[1m9s\u001b[0m 371ms/step - accuracy: 0.7533 - loss: 0.6115 - val_accuracy: 0.7302 - val_loss: 0.5822\n",
      "Epoch 16/100\n",
      "\u001b[1m24/24\u001b[0m \u001b[32m━━━━━━━━━━━━━━━━━━━━\u001b[0m\u001b[37m\u001b[0m \u001b[1m0s\u001b[0m 330ms/step - accuracy: 0.7490 - loss: 0.6019\n",
      "Epoch 16: val_accuracy improved from 0.78968 to 0.80556, saving model to /content/results/cnn_model_performans.h5\n"
     ]
    },
    {
     "name": "stderr",
     "output_type": "stream",
     "text": [
      "WARNING:absl:You are saving your model as an HDF5 file via `model.save()` or `keras.saving.save_model(model)`. This file format is considered legacy. We recommend using instead the native Keras format, e.g. `model.save('my_model.keras')` or `keras.saving.save_model(model, 'my_model.keras')`. \n"
     ]
    },
    {
     "name": "stdout",
     "output_type": "stream",
     "text": [
      "\b\b\b\b\b\b\b\b\b\b\b\b\b\b\b\b\b\b\b\b\b\b\b\b\b\b\b\b\b\b\b\b\b\b\b\b\b\b\b\b\b\b\b\b\b\b\b\b\b\b\b\b\b\b\b\b\b\b\b\b\b\b\b\b\b\b\b\b\b\b\b\b\b\b\r\u001b[1m24/24\u001b[0m \u001b[32m━━━━━━━━━━━━━━━━━━━━\u001b[0m\u001b[37m\u001b[0m \u001b[1m9s\u001b[0m 365ms/step - accuracy: 0.7494 - loss: 0.6015 - val_accuracy: 0.8056 - val_loss: 0.5296\n",
      "Epoch 17/100\n",
      "\u001b[1m24/24\u001b[0m \u001b[32m━━━━━━━━━━━━━━━━━━━━\u001b[0m\u001b[37m\u001b[0m \u001b[1m0s\u001b[0m 346ms/step - accuracy: 0.7807 - loss: 0.5441\n",
      "Epoch 17: val_accuracy did not improve from 0.80556\n",
      "\u001b[1m24/24\u001b[0m \u001b[32m━━━━━━━━━━━━━━━━━━━━\u001b[0m\u001b[37m\u001b[0m \u001b[1m9s\u001b[0m 381ms/step - accuracy: 0.7806 - loss: 0.5441 - val_accuracy: 0.7937 - val_loss: 0.5226\n",
      "Epoch 18/100\n",
      "\u001b[1m24/24\u001b[0m \u001b[32m━━━━━━━━━━━━━━━━━━━━\u001b[0m\u001b[37m\u001b[0m \u001b[1m0s\u001b[0m 334ms/step - accuracy: 0.7932 - loss: 0.5065\n",
      "Epoch 18: val_accuracy improved from 0.80556 to 0.82143, saving model to /content/results/cnn_model_performans.h5\n"
     ]
    },
    {
     "name": "stderr",
     "output_type": "stream",
     "text": [
      "WARNING:absl:You are saving your model as an HDF5 file via `model.save()` or `keras.saving.save_model(model)`. This file format is considered legacy. We recommend using instead the native Keras format, e.g. `model.save('my_model.keras')` or `keras.saving.save_model(model, 'my_model.keras')`. \n"
     ]
    },
    {
     "name": "stdout",
     "output_type": "stream",
     "text": [
      "\b\b\b\b\b\b\b\b\b\b\b\b\b\b\b\b\b\b\b\b\b\b\b\b\b\b\b\b\b\b\b\b\b\b\b\b\b\b\b\b\b\b\b\b\b\b\b\b\b\b\b\b\b\b\b\b\b\b\b\b\b\b\b\b\b\b\b\b\b\b\b\b\b\b\r\u001b[1m24/24\u001b[0m \u001b[32m━━━━━━━━━━━━━━━━━━━━\u001b[0m\u001b[37m\u001b[0m \u001b[1m9s\u001b[0m 367ms/step - accuracy: 0.7922 - loss: 0.5084 - val_accuracy: 0.8214 - val_loss: 0.5048\n",
      "Epoch 19/100\n",
      "\u001b[1m24/24\u001b[0m \u001b[32m━━━━━━━━━━━━━━━━━━━━\u001b[0m\u001b[37m\u001b[0m \u001b[1m0s\u001b[0m 337ms/step - accuracy: 0.7700 - loss: 0.5535\n",
      "Epoch 19: val_accuracy improved from 0.82143 to 0.83333, saving model to /content/results/cnn_model_performans.h5\n"
     ]
    },
    {
     "name": "stderr",
     "output_type": "stream",
     "text": [
      "WARNING:absl:You are saving your model as an HDF5 file via `model.save()` or `keras.saving.save_model(model)`. This file format is considered legacy. We recommend using instead the native Keras format, e.g. `model.save('my_model.keras')` or `keras.saving.save_model(model, 'my_model.keras')`. \n"
     ]
    },
    {
     "name": "stdout",
     "output_type": "stream",
     "text": [
      "\b\b\b\b\b\b\b\b\b\b\b\b\b\b\b\b\b\b\b\b\b\b\b\b\b\b\b\b\b\b\b\b\b\b\b\b\b\b\b\b\b\b\b\b\b\b\b\b\b\b\b\b\b\b\b\b\b\b\b\b\b\b\b\b\b\b\b\b\b\b\b\b\b\b\r\u001b[1m24/24\u001b[0m \u001b[32m━━━━━━━━━━━━━━━━━━━━\u001b[0m\u001b[37m\u001b[0m \u001b[1m9s\u001b[0m 372ms/step - accuracy: 0.7699 - loss: 0.5538 - val_accuracy: 0.8333 - val_loss: 0.4485\n",
      "Epoch 20/100\n",
      "\u001b[1m24/24\u001b[0m \u001b[32m━━━━━━━━━━━━━━━━━━━━\u001b[0m\u001b[37m\u001b[0m \u001b[1m0s\u001b[0m 345ms/step - accuracy: 0.7721 - loss: 0.5292\n",
      "Epoch 20: val_accuracy improved from 0.83333 to 0.83730, saving model to /content/results/cnn_model_performans.h5\n"
     ]
    },
    {
     "name": "stderr",
     "output_type": "stream",
     "text": [
      "WARNING:absl:You are saving your model as an HDF5 file via `model.save()` or `keras.saving.save_model(model)`. This file format is considered legacy. We recommend using instead the native Keras format, e.g. `model.save('my_model.keras')` or `keras.saving.save_model(model, 'my_model.keras')`. \n"
     ]
    },
    {
     "name": "stdout",
     "output_type": "stream",
     "text": [
      "\b\b\b\b\b\b\b\b\b\b\b\b\b\b\b\b\b\b\b\b\b\b\b\b\b\b\b\b\b\b\b\b\b\b\b\b\b\b\b\b\b\b\b\b\b\b\b\b\b\b\b\b\b\b\b\b\b\b\b\b\b\b\b\b\b\b\b\b\b\b\b\b\b\b\r\u001b[1m24/24\u001b[0m \u001b[32m━━━━━━━━━━━━━━━━━━━━\u001b[0m\u001b[37m\u001b[0m \u001b[1m9s\u001b[0m 378ms/step - accuracy: 0.7727 - loss: 0.5287 - val_accuracy: 0.8373 - val_loss: 0.4508\n",
      "Epoch 21/100\n",
      "\u001b[1m24/24\u001b[0m \u001b[32m━━━━━━━━━━━━━━━━━━━━\u001b[0m\u001b[37m\u001b[0m \u001b[1m0s\u001b[0m 336ms/step - accuracy: 0.8065 - loss: 0.5041\n",
      "Epoch 21: val_accuracy did not improve from 0.83730\n",
      "\u001b[1m24/24\u001b[0m \u001b[32m━━━━━━━━━━━━━━━━━━━━\u001b[0m\u001b[37m\u001b[0m \u001b[1m9s\u001b[0m 367ms/step - accuracy: 0.8049 - loss: 0.5080 - val_accuracy: 0.7341 - val_loss: 0.6136\n",
      "Epoch 22/100\n",
      "\u001b[1m24/24\u001b[0m \u001b[32m━━━━━━━━━━━━━━━━━━━━\u001b[0m\u001b[37m\u001b[0m \u001b[1m0s\u001b[0m 345ms/step - accuracy: 0.7453 - loss: 0.6193\n",
      "Epoch 22: val_accuracy did not improve from 0.83730\n",
      "\u001b[1m24/24\u001b[0m \u001b[32m━━━━━━━━━━━━━━━━━━━━\u001b[0m\u001b[37m\u001b[0m \u001b[1m9s\u001b[0m 378ms/step - accuracy: 0.7456 - loss: 0.6189 - val_accuracy: 0.7540 - val_loss: 0.5454\n",
      "Epoch 23/100\n",
      "\u001b[1m24/24\u001b[0m \u001b[32m━━━━━━━━━━━━━━━━━━━━\u001b[0m\u001b[37m\u001b[0m \u001b[1m0s\u001b[0m 343ms/step - accuracy: 0.7681 - loss: 0.5593\n",
      "Epoch 23: val_accuracy did not improve from 0.83730\n",
      "\u001b[1m24/24\u001b[0m \u001b[32m━━━━━━━━━━━━━━━━━━━━\u001b[0m\u001b[37m\u001b[0m \u001b[1m9s\u001b[0m 375ms/step - accuracy: 0.7679 - loss: 0.5591 - val_accuracy: 0.7738 - val_loss: 0.5212\n",
      "Epoch 24/100\n",
      "\u001b[1m24/24\u001b[0m \u001b[32m━━━━━━━━━━━━━━━━━━━━\u001b[0m\u001b[37m\u001b[0m \u001b[1m0s\u001b[0m 334ms/step - accuracy: 0.8005 - loss: 0.4946\n",
      "Epoch 24: val_accuracy did not improve from 0.83730\n",
      "\u001b[1m24/24\u001b[0m \u001b[32m━━━━━━━━━━━━━━━━━━━━\u001b[0m\u001b[37m\u001b[0m \u001b[1m9s\u001b[0m 367ms/step - accuracy: 0.8003 - loss: 0.4954 - val_accuracy: 0.7857 - val_loss: 0.5149\n",
      "Epoch 25/100\n",
      "\u001b[1m24/24\u001b[0m \u001b[32m━━━━━━━━━━━━━━━━━━━━\u001b[0m\u001b[37m\u001b[0m \u001b[1m0s\u001b[0m 338ms/step - accuracy: 0.8008 - loss: 0.4971\n",
      "Epoch 25: val_accuracy did not improve from 0.83730\n",
      "\u001b[1m24/24\u001b[0m \u001b[32m━━━━━━━━━━━━━━━━━━━━\u001b[0m\u001b[37m\u001b[0m \u001b[1m9s\u001b[0m 373ms/step - accuracy: 0.8007 - loss: 0.4972 - val_accuracy: 0.8214 - val_loss: 0.4544\n",
      "Epoch 26/100\n",
      "\u001b[1m24/24\u001b[0m \u001b[32m━━━━━━━━━━━━━━━━━━━━\u001b[0m\u001b[37m\u001b[0m \u001b[1m0s\u001b[0m 328ms/step - accuracy: 0.7961 - loss: 0.4869\n",
      "Epoch 26: val_accuracy did not improve from 0.83730\n",
      "\u001b[1m24/24\u001b[0m \u001b[32m━━━━━━━━━━━━━━━━━━━━\u001b[0m\u001b[37m\u001b[0m \u001b[1m9s\u001b[0m 364ms/step - accuracy: 0.7962 - loss: 0.4870 - val_accuracy: 0.7976 - val_loss: 0.5410\n",
      "Epoch 27/100\n",
      "\u001b[1m24/24\u001b[0m \u001b[32m━━━━━━━━━━━━━━━━━━━━\u001b[0m\u001b[37m\u001b[0m \u001b[1m0s\u001b[0m 327ms/step - accuracy: 0.8007 - loss: 0.4950\n",
      "Epoch 27: val_accuracy did not improve from 0.83730\n",
      "\u001b[1m24/24\u001b[0m \u001b[32m━━━━━━━━━━━━━━━━━━━━\u001b[0m\u001b[37m\u001b[0m \u001b[1m9s\u001b[0m 363ms/step - accuracy: 0.8007 - loss: 0.4950 - val_accuracy: 0.7857 - val_loss: 0.5308\n",
      "Epoch 28/100\n",
      "\u001b[1m24/24\u001b[0m \u001b[32m━━━━━━━━━━━━━━━━━━━━\u001b[0m\u001b[37m\u001b[0m \u001b[1m0s\u001b[0m 358ms/step - accuracy: 0.7481 - loss: 0.6009\n",
      "Epoch 28: val_accuracy did not improve from 0.83730\n",
      "\u001b[1m24/24\u001b[0m \u001b[32m━━━━━━━━━━━━━━━━━━━━\u001b[0m\u001b[37m\u001b[0m \u001b[1m9s\u001b[0m 389ms/step - accuracy: 0.7486 - loss: 0.5997 - val_accuracy: 0.7897 - val_loss: 0.5127\n",
      "Epoch 29/100\n",
      "\u001b[1m24/24\u001b[0m \u001b[32m━━━━━━━━━━━━━━━━━━━━\u001b[0m\u001b[37m\u001b[0m \u001b[1m0s\u001b[0m 340ms/step - accuracy: 0.8131 - loss: 0.4811\n",
      "Epoch 29: val_accuracy did not improve from 0.83730\n",
      "\u001b[1m24/24\u001b[0m \u001b[32m━━━━━━━━━━━━━━━━━━━━\u001b[0m\u001b[37m\u001b[0m \u001b[1m9s\u001b[0m 371ms/step - accuracy: 0.8131 - loss: 0.4808 - val_accuracy: 0.7500 - val_loss: 0.6595\n",
      "Epoch 30/100\n",
      "\u001b[1m24/24\u001b[0m \u001b[32m━━━━━━━━━━━━━━━━━━━━\u001b[0m\u001b[37m\u001b[0m \u001b[1m0s\u001b[0m 342ms/step - accuracy: 0.7893 - loss: 0.5065\n",
      "Epoch 30: val_accuracy did not improve from 0.83730\n",
      "\u001b[1m24/24\u001b[0m \u001b[32m━━━━━━━━━━━━━━━━━━━━\u001b[0m\u001b[37m\u001b[0m \u001b[1m9s\u001b[0m 376ms/step - accuracy: 0.7897 - loss: 0.5058 - val_accuracy: 0.8056 - val_loss: 0.5007\n",
      "Epoch 31/100\n",
      "\u001b[1m24/24\u001b[0m \u001b[32m━━━━━━━━━━━━━━━━━━━━\u001b[0m\u001b[37m\u001b[0m \u001b[1m0s\u001b[0m 343ms/step - accuracy: 0.8249 - loss: 0.4324\n",
      "Epoch 31: val_accuracy did not improve from 0.83730\n",
      "\u001b[1m24/24\u001b[0m \u001b[32m━━━━━━━━━━━━━━━━━━━━\u001b[0m\u001b[37m\u001b[0m \u001b[1m9s\u001b[0m 373ms/step - accuracy: 0.8247 - loss: 0.4328 - val_accuracy: 0.7817 - val_loss: 0.4656\n",
      "Epoch 32/100\n",
      "\u001b[1m24/24\u001b[0m \u001b[32m━━━━━━━━━━━━━━━━━━━━\u001b[0m\u001b[37m\u001b[0m \u001b[1m0s\u001b[0m 339ms/step - accuracy: 0.8043 - loss: 0.4814\n",
      "Epoch 32: val_accuracy did not improve from 0.83730\n",
      "\u001b[1m24/24\u001b[0m \u001b[32m━━━━━━━━━━━━━━━━━━━━\u001b[0m\u001b[37m\u001b[0m \u001b[1m9s\u001b[0m 372ms/step - accuracy: 0.8044 - loss: 0.4808 - val_accuracy: 0.8214 - val_loss: 0.5138\n",
      "Epoch 33/100\n",
      "\u001b[1m24/24\u001b[0m \u001b[32m━━━━━━━━━━━━━━━━━━━━\u001b[0m\u001b[37m\u001b[0m \u001b[1m0s\u001b[0m 344ms/step - accuracy: 0.8319 - loss: 0.4374\n",
      "Epoch 33: val_accuracy did not improve from 0.83730\n",
      "\u001b[1m24/24\u001b[0m \u001b[32m━━━━━━━━━━━━━━━━━━━━\u001b[0m\u001b[37m\u001b[0m \u001b[1m9s\u001b[0m 376ms/step - accuracy: 0.8321 - loss: 0.4368 - val_accuracy: 0.6944 - val_loss: 0.8841\n",
      "Epoch 34/100\n",
      "\u001b[1m24/24\u001b[0m \u001b[32m━━━━━━━━━━━━━━━━━━━━\u001b[0m\u001b[37m\u001b[0m \u001b[1m0s\u001b[0m 340ms/step - accuracy: 0.8437 - loss: 0.3993\n",
      "Epoch 34: val_accuracy did not improve from 0.83730\n",
      "\u001b[1m24/24\u001b[0m \u001b[32m━━━━━━━━━━━━━━━━━━━━\u001b[0m\u001b[37m\u001b[0m \u001b[1m9s\u001b[0m 376ms/step - accuracy: 0.8435 - loss: 0.4000 - val_accuracy: 0.8254 - val_loss: 0.4767\n",
      "Epoch 35/100\n",
      "\u001b[1m24/24\u001b[0m \u001b[32m━━━━━━━━━━━━━━━━━━━━\u001b[0m\u001b[37m\u001b[0m \u001b[1m0s\u001b[0m 345ms/step - accuracy: 0.8239 - loss: 0.4396\n",
      "Epoch 35: val_accuracy did not improve from 0.83730\n",
      "\u001b[1m24/24\u001b[0m \u001b[32m━━━━━━━━━━━━━━━━━━━━\u001b[0m\u001b[37m\u001b[0m \u001b[1m9s\u001b[0m 377ms/step - accuracy: 0.8238 - loss: 0.4400 - val_accuracy: 0.8254 - val_loss: 0.4773\n",
      "Epoch 36/100\n",
      "\u001b[1m24/24\u001b[0m \u001b[32m━━━━━━━━━━━━━━━━━━━━\u001b[0m\u001b[37m\u001b[0m \u001b[1m0s\u001b[0m 346ms/step - accuracy: 0.8429 - loss: 0.4117\n",
      "Epoch 36: val_accuracy did not improve from 0.83730\n",
      "\u001b[1m24/24\u001b[0m \u001b[32m━━━━━━━━━━━━━━━━━━━━\u001b[0m\u001b[37m\u001b[0m \u001b[1m9s\u001b[0m 377ms/step - accuracy: 0.8429 - loss: 0.4117 - val_accuracy: 0.8294 - val_loss: 0.4519\n",
      "Epoch 37/100\n",
      "\u001b[1m24/24\u001b[0m \u001b[32m━━━━━━━━━━━━━━━━━━━━\u001b[0m\u001b[37m\u001b[0m \u001b[1m0s\u001b[0m 337ms/step - accuracy: 0.8532 - loss: 0.3841\n",
      "Epoch 37: val_accuracy did not improve from 0.83730\n",
      "\u001b[1m24/24\u001b[0m \u001b[32m━━━━━━━━━━━━━━━━━━━━\u001b[0m\u001b[37m\u001b[0m \u001b[1m9s\u001b[0m 371ms/step - accuracy: 0.8525 - loss: 0.3860 - val_accuracy: 0.7976 - val_loss: 0.4814\n",
      "Epoch 38/100\n",
      "\u001b[1m24/24\u001b[0m \u001b[32m━━━━━━━━━━━━━━━━━━━━\u001b[0m\u001b[37m\u001b[0m \u001b[1m0s\u001b[0m 329ms/step - accuracy: 0.8600 - loss: 0.3781\n",
      "Epoch 38: val_accuracy did not improve from 0.83730\n",
      "\u001b[1m24/24\u001b[0m \u001b[32m━━━━━━━━━━━━━━━━━━━━\u001b[0m\u001b[37m\u001b[0m \u001b[1m9s\u001b[0m 362ms/step - accuracy: 0.8600 - loss: 0.3775 - val_accuracy: 0.7937 - val_loss: 0.5758\n",
      "Epoch 39/100\n",
      "\u001b[1m24/24\u001b[0m \u001b[32m━━━━━━━━━━━━━━━━━━━━\u001b[0m\u001b[37m\u001b[0m \u001b[1m0s\u001b[0m 337ms/step - accuracy: 0.8738 - loss: 0.3379\n",
      "Epoch 39: val_accuracy did not improve from 0.83730\n",
      "\u001b[1m24/24\u001b[0m \u001b[32m━━━━━━━━━━━━━━━━━━━━\u001b[0m\u001b[37m\u001b[0m \u001b[1m9s\u001b[0m 367ms/step - accuracy: 0.8735 - loss: 0.3382 - val_accuracy: 0.7063 - val_loss: 1.0905\n",
      "Epoch 40/100\n",
      "\u001b[1m24/24\u001b[0m \u001b[32m━━━━━━━━━━━━━━━━━━━━\u001b[0m\u001b[37m\u001b[0m \u001b[1m0s\u001b[0m 353ms/step - accuracy: 0.8281 - loss: 0.4298\n",
      "Epoch 40: val_accuracy improved from 0.83730 to 0.86111, saving model to /content/results/cnn_model_performans.h5\n"
     ]
    },
    {
     "name": "stderr",
     "output_type": "stream",
     "text": [
      "WARNING:absl:You are saving your model as an HDF5 file via `model.save()` or `keras.saving.save_model(model)`. This file format is considered legacy. We recommend using instead the native Keras format, e.g. `model.save('my_model.keras')` or `keras.saving.save_model(model, 'my_model.keras')`. \n"
     ]
    },
    {
     "name": "stdout",
     "output_type": "stream",
     "text": [
      "\b\b\b\b\b\b\b\b\b\b\b\b\b\b\b\b\b\b\b\b\b\b\b\b\b\b\b\b\b\b\b\b\b\b\b\b\b\b\b\b\b\b\b\b\b\b\b\b\b\b\b\b\b\b\b\b\b\b\b\b\b\b\b\b\b\b\b\b\b\b\b\b\b\b\r\u001b[1m24/24\u001b[0m \u001b[32m━━━━━━━━━━━━━━━━━━━━\u001b[0m\u001b[37m\u001b[0m \u001b[1m9s\u001b[0m 389ms/step - accuracy: 0.8286 - loss: 0.4289 - val_accuracy: 0.8611 - val_loss: 0.4590\n",
      "Epoch 41/100\n",
      "\u001b[1m24/24\u001b[0m \u001b[32m━━━━━━━━━━━━━━━━━━━━\u001b[0m\u001b[37m\u001b[0m \u001b[1m0s\u001b[0m 332ms/step - accuracy: 0.8617 - loss: 0.3612\n",
      "Epoch 41: val_accuracy did not improve from 0.86111\n",
      "\u001b[1m24/24\u001b[0m \u001b[32m━━━━━━━━━━━━━━━━━━━━\u001b[0m\u001b[37m\u001b[0m \u001b[1m9s\u001b[0m 363ms/step - accuracy: 0.8616 - loss: 0.3612 - val_accuracy: 0.8214 - val_loss: 0.4808\n",
      "Epoch 42/100\n",
      "\u001b[1m24/24\u001b[0m \u001b[32m━━━━━━━━━━━━━━━━━━━━\u001b[0m\u001b[37m\u001b[0m \u001b[1m0s\u001b[0m 338ms/step - accuracy: 0.8777 - loss: 0.3156\n",
      "Epoch 42: val_accuracy did not improve from 0.86111\n",
      "\u001b[1m24/24\u001b[0m \u001b[32m━━━━━━━━━━━━━━━━━━━━\u001b[0m\u001b[37m\u001b[0m \u001b[1m9s\u001b[0m 371ms/step - accuracy: 0.8776 - loss: 0.3157 - val_accuracy: 0.7897 - val_loss: 0.5250\n",
      "Epoch 43/100\n",
      "\u001b[1m24/24\u001b[0m \u001b[32m━━━━━━━━━━━━━━━━━━━━\u001b[0m\u001b[37m\u001b[0m \u001b[1m0s\u001b[0m 333ms/step - accuracy: 0.8853 - loss: 0.2924\n",
      "Epoch 43: val_accuracy did not improve from 0.86111\n",
      "\u001b[1m24/24\u001b[0m \u001b[32m━━━━━━━━━━━━━━━━━━━━\u001b[0m\u001b[37m\u001b[0m \u001b[1m9s\u001b[0m 365ms/step - accuracy: 0.8854 - loss: 0.2924 - val_accuracy: 0.7857 - val_loss: 0.7391\n",
      "Epoch 44/100\n",
      "\u001b[1m23/24\u001b[0m \u001b[32m━━━━━━━━━━━━━━━━━━━\u001b[0m\u001b[37m━\u001b[0m \u001b[1m0s\u001b[0m 353ms/step - accuracy: 0.8608 - loss: 0.3519\n",
      "Epoch 44: val_accuracy did not improve from 0.86111\n",
      "\u001b[1m24/24\u001b[0m \u001b[32m━━━━━━━━━━━━━━━━━━━━\u001b[0m\u001b[37m\u001b[0m \u001b[1m9s\u001b[0m 370ms/step - accuracy: 0.8621 - loss: 0.3489 - val_accuracy: 0.8214 - val_loss: 0.4743\n",
      "Epoch 45/100\n",
      "\u001b[1m24/24\u001b[0m \u001b[32m━━━━━━━━━━━━━━━━━━━━\u001b[0m\u001b[37m\u001b[0m \u001b[1m0s\u001b[0m 337ms/step - accuracy: 0.8974 - loss: 0.2916\n",
      "Epoch 45: val_accuracy did not improve from 0.86111\n",
      "\u001b[1m24/24\u001b[0m \u001b[32m━━━━━━━━━━━━━━━━━━━━\u001b[0m\u001b[37m\u001b[0m \u001b[1m9s\u001b[0m 370ms/step - accuracy: 0.8974 - loss: 0.2915 - val_accuracy: 0.8373 - val_loss: 0.4248\n",
      "Epoch 46/100\n",
      "\u001b[1m24/24\u001b[0m \u001b[32m━━━━━━━━━━━━━━━━━━━━\u001b[0m\u001b[37m\u001b[0m \u001b[1m0s\u001b[0m 329ms/step - accuracy: 0.8950 - loss: 0.2729\n",
      "Epoch 46: val_accuracy did not improve from 0.86111\n",
      "\u001b[1m24/24\u001b[0m \u001b[32m━━━━━━━━━━━━━━━━━━━━\u001b[0m\u001b[37m\u001b[0m \u001b[1m9s\u001b[0m 363ms/step - accuracy: 0.8951 - loss: 0.2730 - val_accuracy: 0.8056 - val_loss: 0.5955\n",
      "Epoch 47/100\n",
      "\u001b[1m24/24\u001b[0m \u001b[32m━━━━━━━━━━━━━━━━━━━━\u001b[0m\u001b[37m\u001b[0m \u001b[1m0s\u001b[0m 332ms/step - accuracy: 0.9127 - loss: 0.2406\n",
      "Epoch 47: val_accuracy improved from 0.86111 to 0.86508, saving model to /content/results/cnn_model_performans.h5\n"
     ]
    },
    {
     "name": "stderr",
     "output_type": "stream",
     "text": [
      "WARNING:absl:You are saving your model as an HDF5 file via `model.save()` or `keras.saving.save_model(model)`. This file format is considered legacy. We recommend using instead the native Keras format, e.g. `model.save('my_model.keras')` or `keras.saving.save_model(model, 'my_model.keras')`. \n"
     ]
    },
    {
     "name": "stdout",
     "output_type": "stream",
     "text": [
      "\b\b\b\b\b\b\b\b\b\b\b\b\b\b\b\b\b\b\b\b\b\b\b\b\b\b\b\b\b\b\b\b\b\b\b\b\b\b\b\b\b\b\b\b\b\b\b\b\b\b\b\b\b\b\b\b\b\b\b\b\b\b\b\b\b\b\b\b\b\b\b\b\b\b\r\u001b[1m24/24\u001b[0m \u001b[32m━━━━━━━━━━━━━━━━━━━━\u001b[0m\u001b[37m\u001b[0m \u001b[1m9s\u001b[0m 369ms/step - accuracy: 0.9122 - loss: 0.2419 - val_accuracy: 0.8651 - val_loss: 0.3835\n",
      "Epoch 48/100\n",
      "\u001b[1m24/24\u001b[0m \u001b[32m━━━━━━━━━━━━━━━━━━━━\u001b[0m\u001b[37m\u001b[0m \u001b[1m0s\u001b[0m 335ms/step - accuracy: 0.9038 - loss: 0.2593\n",
      "Epoch 48: val_accuracy did not improve from 0.86508\n",
      "\u001b[1m24/24\u001b[0m \u001b[32m━━━━━━━━━━━━━━━━━━━━\u001b[0m\u001b[37m\u001b[0m \u001b[1m9s\u001b[0m 365ms/step - accuracy: 0.9034 - loss: 0.2599 - val_accuracy: 0.7817 - val_loss: 0.7054\n",
      "Epoch 49/100\n",
      "\u001b[1m24/24\u001b[0m \u001b[32m━━━━━━━━━━━━━━━━━━━━\u001b[0m\u001b[37m\u001b[0m \u001b[1m0s\u001b[0m 337ms/step - accuracy: 0.9162 - loss: 0.2395\n",
      "Epoch 49: val_accuracy did not improve from 0.86508\n",
      "\u001b[1m24/24\u001b[0m \u001b[32m━━━━━━━━━━━━━━━━━━━━\u001b[0m\u001b[37m\u001b[0m \u001b[1m9s\u001b[0m 370ms/step - accuracy: 0.9160 - loss: 0.2399 - val_accuracy: 0.8333 - val_loss: 0.4312\n",
      "Epoch 50/100\n",
      "\u001b[1m24/24\u001b[0m \u001b[32m━━━━━━━━━━━━━━━━━━━━\u001b[0m\u001b[37m\u001b[0m \u001b[1m0s\u001b[0m 358ms/step - accuracy: 0.9043 - loss: 0.2451\n",
      "Epoch 50: val_accuracy did not improve from 0.86508\n",
      "\u001b[1m24/24\u001b[0m \u001b[32m━━━━━━━━━━━━━━━━━━━━\u001b[0m\u001b[37m\u001b[0m \u001b[1m9s\u001b[0m 393ms/step - accuracy: 0.9044 - loss: 0.2451 - val_accuracy: 0.8492 - val_loss: 0.4182\n",
      "Epoch 51/100\n",
      "\u001b[1m24/24\u001b[0m \u001b[32m━━━━━━━━━━━━━━━━━━━━\u001b[0m\u001b[37m\u001b[0m \u001b[1m0s\u001b[0m 342ms/step - accuracy: 0.9182 - loss: 0.2339\n",
      "Epoch 51: val_accuracy did not improve from 0.86508\n",
      "\u001b[1m24/24\u001b[0m \u001b[32m━━━━━━━━━━━━━━━━━━━━\u001b[0m\u001b[37m\u001b[0m \u001b[1m9s\u001b[0m 373ms/step - accuracy: 0.9181 - loss: 0.2342 - val_accuracy: 0.8492 - val_loss: 0.4908\n",
      "Epoch 52/100\n",
      "\u001b[1m24/24\u001b[0m \u001b[32m━━━━━━━━━━━━━━━━━━━━\u001b[0m\u001b[37m\u001b[0m \u001b[1m0s\u001b[0m 352ms/step - accuracy: 0.9189 - loss: 0.2326\n",
      "Epoch 52: val_accuracy did not improve from 0.86508\n",
      "\u001b[1m24/24\u001b[0m \u001b[32m━━━━━━━━━━━━━━━━━━━━\u001b[0m\u001b[37m\u001b[0m \u001b[1m9s\u001b[0m 382ms/step - accuracy: 0.9188 - loss: 0.2323 - val_accuracy: 0.8532 - val_loss: 0.4368\n",
      "Epoch 53/100\n",
      "\u001b[1m24/24\u001b[0m \u001b[32m━━━━━━━━━━━━━━━━━━━━\u001b[0m\u001b[37m\u001b[0m \u001b[1m0s\u001b[0m 345ms/step - accuracy: 0.9274 - loss: 0.2004\n",
      "Epoch 53: val_accuracy improved from 0.86508 to 0.87302, saving model to /content/results/cnn_model_performans.h5\n"
     ]
    },
    {
     "name": "stderr",
     "output_type": "stream",
     "text": [
      "WARNING:absl:You are saving your model as an HDF5 file via `model.save()` or `keras.saving.save_model(model)`. This file format is considered legacy. We recommend using instead the native Keras format, e.g. `model.save('my_model.keras')` or `keras.saving.save_model(model, 'my_model.keras')`. \n"
     ]
    },
    {
     "name": "stdout",
     "output_type": "stream",
     "text": [
      "\b\b\b\b\b\b\b\b\b\b\b\b\b\b\b\b\b\b\b\b\b\b\b\b\b\b\b\b\b\b\b\b\b\b\b\b\b\b\b\b\b\b\b\b\b\b\b\b\b\b\b\b\b\b\b\b\b\b\b\b\b\b\b\b\b\b\b\b\b\b\b\b\b\b\r\u001b[1m24/24\u001b[0m \u001b[32m━━━━━━━━━━━━━━━━━━━━\u001b[0m\u001b[37m\u001b[0m \u001b[1m9s\u001b[0m 377ms/step - accuracy: 0.9270 - loss: 0.2012 - val_accuracy: 0.8730 - val_loss: 0.4209\n",
      "Epoch 54/100\n",
      "\u001b[1m24/24\u001b[0m \u001b[32m━━━━━━━━━━━━━━━━━━━━\u001b[0m\u001b[37m\u001b[0m \u001b[1m0s\u001b[0m 328ms/step - accuracy: 0.8238 - loss: 0.5039\n",
      "Epoch 54: val_accuracy did not improve from 0.87302\n",
      "\u001b[1m24/24\u001b[0m \u001b[32m━━━━━━━━━━━━━━━━━━━━\u001b[0m\u001b[37m\u001b[0m \u001b[1m9s\u001b[0m 364ms/step - accuracy: 0.8249 - loss: 0.4997 - val_accuracy: 0.8254 - val_loss: 0.4340\n",
      "Epoch 55/100\n",
      "\u001b[1m24/24\u001b[0m \u001b[32m━━━━━━━━━━━━━━━━━━━━\u001b[0m\u001b[37m\u001b[0m \u001b[1m0s\u001b[0m 344ms/step - accuracy: 0.8840 - loss: 0.2962\n",
      "Epoch 55: val_accuracy did not improve from 0.87302\n",
      "\u001b[1m24/24\u001b[0m \u001b[32m━━━━━━━━━━━━━━━━━━━━\u001b[0m\u001b[37m\u001b[0m \u001b[1m9s\u001b[0m 377ms/step - accuracy: 0.8840 - loss: 0.2964 - val_accuracy: 0.8135 - val_loss: 0.5876\n",
      "Epoch 56/100\n",
      "\u001b[1m24/24\u001b[0m \u001b[32m━━━━━━━━━━━━━━━━━━━━\u001b[0m\u001b[37m\u001b[0m \u001b[1m0s\u001b[0m 336ms/step - accuracy: 0.9097 - loss: 0.2373\n",
      "Epoch 56: val_accuracy did not improve from 0.87302\n",
      "\u001b[1m24/24\u001b[0m \u001b[32m━━━━━━━━━━━━━━━━━━━━\u001b[0m\u001b[37m\u001b[0m \u001b[1m9s\u001b[0m 368ms/step - accuracy: 0.9094 - loss: 0.2380 - val_accuracy: 0.8532 - val_loss: 0.4206\n",
      "Epoch 57/100\n",
      "\u001b[1m24/24\u001b[0m \u001b[32m━━━━━━━━━━━━━━━━━━━━\u001b[0m\u001b[37m\u001b[0m \u001b[1m0s\u001b[0m 343ms/step - accuracy: 0.9004 - loss: 0.2597\n",
      "Epoch 57: val_accuracy did not improve from 0.87302\n",
      "\u001b[1m24/24\u001b[0m \u001b[32m━━━━━━━━━━━━━━━━━━━━\u001b[0m\u001b[37m\u001b[0m \u001b[1m9s\u001b[0m 377ms/step - accuracy: 0.9004 - loss: 0.2597 - val_accuracy: 0.8333 - val_loss: 0.4308\n",
      "Epoch 58/100\n",
      "\u001b[1m24/24\u001b[0m \u001b[32m━━━━━━━━━━━━━━━━━━━━\u001b[0m\u001b[37m\u001b[0m \u001b[1m0s\u001b[0m 328ms/step - accuracy: 0.9079 - loss: 0.2325\n",
      "Epoch 58: val_accuracy did not improve from 0.87302\n",
      "\u001b[1m24/24\u001b[0m \u001b[32m━━━━━━━━━━━━━━━━━━━━\u001b[0m\u001b[37m\u001b[0m \u001b[1m9s\u001b[0m 363ms/step - accuracy: 0.9078 - loss: 0.2336 - val_accuracy: 0.8651 - val_loss: 0.4188\n",
      "Epoch 59/100\n",
      "\u001b[1m24/24\u001b[0m \u001b[32m━━━━━━━━━━━━━━━━━━━━\u001b[0m\u001b[37m\u001b[0m \u001b[1m0s\u001b[0m 340ms/step - accuracy: 0.9204 - loss: 0.2350\n",
      "Epoch 59: val_accuracy did not improve from 0.87302\n",
      "\u001b[1m24/24\u001b[0m \u001b[32m━━━━━━━━━━━━━━━━━━━━\u001b[0m\u001b[37m\u001b[0m \u001b[1m9s\u001b[0m 373ms/step - accuracy: 0.9204 - loss: 0.2344 - val_accuracy: 0.8532 - val_loss: 0.3894\n",
      "Epoch 60/100\n",
      "\u001b[1m24/24\u001b[0m \u001b[32m━━━━━━━━━━━━━━━━━━━━\u001b[0m\u001b[37m\u001b[0m \u001b[1m0s\u001b[0m 344ms/step - accuracy: 0.9419 - loss: 0.1766\n",
      "Epoch 60: val_accuracy did not improve from 0.87302\n",
      "\u001b[1m24/24\u001b[0m \u001b[32m━━━━━━━━━━━━━━━━━━━━\u001b[0m\u001b[37m\u001b[0m \u001b[1m9s\u001b[0m 374ms/step - accuracy: 0.9418 - loss: 0.1768 - val_accuracy: 0.8492 - val_loss: 0.4645\n",
      "Epoch 61/100\n",
      "\u001b[1m24/24\u001b[0m \u001b[32m━━━━━━━━━━━━━━━━━━━━\u001b[0m\u001b[37m\u001b[0m \u001b[1m0s\u001b[0m 346ms/step - accuracy: 0.9324 - loss: 0.1956\n",
      "Epoch 61: val_accuracy did not improve from 0.87302\n",
      "\u001b[1m24/24\u001b[0m \u001b[32m━━━━━━━━━━━━━━━━━━━━\u001b[0m\u001b[37m\u001b[0m \u001b[1m9s\u001b[0m 382ms/step - accuracy: 0.9316 - loss: 0.1976 - val_accuracy: 0.7619 - val_loss: 0.6672\n",
      "Epoch 62/100\n",
      "\u001b[1m24/24\u001b[0m \u001b[32m━━━━━━━━━━━━━━━━━━━━\u001b[0m\u001b[37m\u001b[0m \u001b[1m0s\u001b[0m 337ms/step - accuracy: 0.9122 - loss: 0.2471\n",
      "Epoch 62: val_accuracy did not improve from 0.87302\n",
      "\u001b[1m24/24\u001b[0m \u001b[32m━━━━━━━━━━━━━━━━━━━━\u001b[0m\u001b[37m\u001b[0m \u001b[1m9s\u001b[0m 372ms/step - accuracy: 0.9123 - loss: 0.2465 - val_accuracy: 0.8571 - val_loss: 0.4335\n",
      "Epoch 63/100\n",
      "\u001b[1m24/24\u001b[0m \u001b[32m━━━━━━━━━━━━━━━━━━━━\u001b[0m\u001b[37m\u001b[0m \u001b[1m0s\u001b[0m 339ms/step - accuracy: 0.9249 - loss: 0.1935\n",
      "Epoch 63: val_accuracy did not improve from 0.87302\n",
      "\u001b[1m24/24\u001b[0m \u001b[32m━━━━━━━━━━━━━━━━━━━━\u001b[0m\u001b[37m\u001b[0m \u001b[1m9s\u001b[0m 370ms/step - accuracy: 0.9246 - loss: 0.1946 - val_accuracy: 0.8413 - val_loss: 0.4599\n",
      "Epoch 64/100\n",
      "\u001b[1m24/24\u001b[0m \u001b[32m━━━━━━━━━━━━━━━━━━━━\u001b[0m\u001b[37m\u001b[0m \u001b[1m0s\u001b[0m 342ms/step - accuracy: 0.9299 - loss: 0.1833\n",
      "Epoch 64: val_accuracy did not improve from 0.87302\n",
      "\u001b[1m24/24\u001b[0m \u001b[32m━━━━━━━━━━━━━━━━━━━━\u001b[0m\u001b[37m\u001b[0m \u001b[1m9s\u001b[0m 376ms/step - accuracy: 0.9299 - loss: 0.1834 - val_accuracy: 0.8492 - val_loss: 0.4586\n",
      "Epoch 65/100\n",
      "\u001b[1m23/24\u001b[0m \u001b[32m━━━━━━━━━━━━━━━━━━━\u001b[0m\u001b[37m━\u001b[0m \u001b[1m0s\u001b[0m 351ms/step - accuracy: 0.9450 - loss: 0.1670\n",
      "Epoch 65: val_accuracy did not improve from 0.87302\n",
      "\u001b[1m24/24\u001b[0m \u001b[32m━━━━━━━━━━━━━━━━━━━━\u001b[0m\u001b[37m\u001b[0m \u001b[1m9s\u001b[0m 369ms/step - accuracy: 0.9449 - loss: 0.1677 - val_accuracy: 0.8214 - val_loss: 0.5362\n",
      "Epoch 66/100\n",
      "\u001b[1m24/24\u001b[0m \u001b[32m━━━━━━━━━━━━━━━━━━━━\u001b[0m\u001b[37m\u001b[0m \u001b[1m0s\u001b[0m 342ms/step - accuracy: 0.9061 - loss: 0.2531\n",
      "Epoch 66: val_accuracy did not improve from 0.87302\n",
      "\u001b[1m24/24\u001b[0m \u001b[32m━━━━━━━━━━━━━━━━━━━━\u001b[0m\u001b[37m\u001b[0m \u001b[1m9s\u001b[0m 377ms/step - accuracy: 0.9063 - loss: 0.2526 - val_accuracy: 0.8492 - val_loss: 0.4367\n",
      "Epoch 67/100\n",
      "\u001b[1m24/24\u001b[0m \u001b[32m━━━━━━━━━━━━━━━━━━━━\u001b[0m\u001b[37m\u001b[0m \u001b[1m0s\u001b[0m 346ms/step - accuracy: 0.9383 - loss: 0.1753\n",
      "Epoch 67: val_accuracy did not improve from 0.87302\n",
      "\u001b[1m24/24\u001b[0m \u001b[32m━━━━━━━━━━━━━━━━━━━━\u001b[0m\u001b[37m\u001b[0m \u001b[1m9s\u001b[0m 376ms/step - accuracy: 0.9383 - loss: 0.1752 - val_accuracy: 0.8611 - val_loss: 0.4773\n",
      "Epoch 68/100\n",
      "\u001b[1m24/24\u001b[0m \u001b[32m━━━━━━━━━━━━━━━━━━━━\u001b[0m\u001b[37m\u001b[0m \u001b[1m0s\u001b[0m 336ms/step - accuracy: 0.9330 - loss: 0.1714\n",
      "Epoch 68: val_accuracy did not improve from 0.87302\n",
      "\u001b[1m24/24\u001b[0m \u001b[32m━━━━━━━━━━━━━━━━━━━━\u001b[0m\u001b[37m\u001b[0m \u001b[1m9s\u001b[0m 366ms/step - accuracy: 0.9332 - loss: 0.1713 - val_accuracy: 0.8452 - val_loss: 0.4963\n",
      "Epoch 69/100\n",
      "\u001b[1m24/24\u001b[0m \u001b[32m━━━━━━━━━━━━━━━━━━━━\u001b[0m\u001b[37m\u001b[0m \u001b[1m0s\u001b[0m 344ms/step - accuracy: 0.9467 - loss: 0.1669\n",
      "Epoch 69: val_accuracy did not improve from 0.87302\n",
      "\u001b[1m24/24\u001b[0m \u001b[32m━━━━━━━━━━━━━━━━━━━━\u001b[0m\u001b[37m\u001b[0m \u001b[1m9s\u001b[0m 376ms/step - accuracy: 0.9467 - loss: 0.1670 - val_accuracy: 0.8611 - val_loss: 0.4440\n",
      "Epoch 70/100\n",
      "\u001b[1m24/24\u001b[0m \u001b[32m━━━━━━━━━━━━━━━━━━━━\u001b[0m\u001b[37m\u001b[0m \u001b[1m0s\u001b[0m 330ms/step - accuracy: 0.9519 - loss: 0.1505\n",
      "Epoch 70: val_accuracy did not improve from 0.87302\n",
      "\u001b[1m24/24\u001b[0m \u001b[32m━━━━━━━━━━━━━━━━━━━━\u001b[0m\u001b[37m\u001b[0m \u001b[1m9s\u001b[0m 365ms/step - accuracy: 0.9519 - loss: 0.1504 - val_accuracy: 0.8413 - val_loss: 0.5200\n",
      "Epoch 71/100\n",
      "\u001b[1m24/24\u001b[0m \u001b[32m━━━━━━━━━━━━━━━━━━━━\u001b[0m\u001b[37m\u001b[0m \u001b[1m0s\u001b[0m 341ms/step - accuracy: 0.9469 - loss: 0.1496\n",
      "Epoch 71: val_accuracy improved from 0.87302 to 0.88492, saving model to /content/results/cnn_model_performans.h5\n"
     ]
    },
    {
     "name": "stderr",
     "output_type": "stream",
     "text": [
      "WARNING:absl:You are saving your model as an HDF5 file via `model.save()` or `keras.saving.save_model(model)`. This file format is considered legacy. We recommend using instead the native Keras format, e.g. `model.save('my_model.keras')` or `keras.saving.save_model(model, 'my_model.keras')`. \n"
     ]
    },
    {
     "name": "stdout",
     "output_type": "stream",
     "text": [
      "\b\b\b\b\b\b\b\b\b\b\b\b\b\b\b\b\b\b\b\b\b\b\b\b\b\b\b\b\b\b\b\b\b\b\b\b\b\b\b\b\b\b\b\b\b\b\b\b\b\b\b\b\b\b\b\b\b\b\b\b\b\b\b\b\b\b\b\b\b\b\b\b\b\b\r\u001b[1m24/24\u001b[0m \u001b[32m━━━━━━━━━━━━━━━━━━━━\u001b[0m\u001b[37m\u001b[0m \u001b[1m9s\u001b[0m 376ms/step - accuracy: 0.9468 - loss: 0.1499 - val_accuracy: 0.8849 - val_loss: 0.4130\n",
      "Epoch 72/100\n",
      "\u001b[1m24/24\u001b[0m \u001b[32m━━━━━━━━━━━━━━━━━━━━\u001b[0m\u001b[37m\u001b[0m \u001b[1m0s\u001b[0m 343ms/step - accuracy: 0.9486 - loss: 0.1372\n",
      "Epoch 72: val_accuracy did not improve from 0.88492\n",
      "\u001b[1m24/24\u001b[0m \u001b[32m━━━━━━━━━━━━━━━━━━━━\u001b[0m\u001b[37m\u001b[0m \u001b[1m9s\u001b[0m 376ms/step - accuracy: 0.9486 - loss: 0.1372 - val_accuracy: 0.8849 - val_loss: 0.4295\n",
      "Epoch 73/100\n",
      "\u001b[1m24/24\u001b[0m \u001b[32m━━━━━━━━━━━━━━━━━━━━\u001b[0m\u001b[37m\u001b[0m \u001b[1m0s\u001b[0m 350ms/step - accuracy: 0.9659 - loss: 0.1132\n",
      "Epoch 73: val_accuracy did not improve from 0.88492\n",
      "\u001b[1m24/24\u001b[0m \u001b[32m━━━━━━━━━━━━━━━━━━━━\u001b[0m\u001b[37m\u001b[0m \u001b[1m9s\u001b[0m 381ms/step - accuracy: 0.9657 - loss: 0.1134 - val_accuracy: 0.8730 - val_loss: 0.4823\n",
      "Epoch 74/100\n",
      "\u001b[1m24/24\u001b[0m \u001b[32m━━━━━━━━━━━━━━━━━━━━\u001b[0m\u001b[37m\u001b[0m \u001b[1m0s\u001b[0m 351ms/step - accuracy: 0.9617 - loss: 0.1197\n",
      "Epoch 74: val_accuracy did not improve from 0.88492\n",
      "\u001b[1m24/24\u001b[0m \u001b[32m━━━━━━━━━━━━━━━━━━━━\u001b[0m\u001b[37m\u001b[0m \u001b[1m9s\u001b[0m 386ms/step - accuracy: 0.9618 - loss: 0.1199 - val_accuracy: 0.8452 - val_loss: 0.4661\n",
      "Epoch 75/100\n",
      "\u001b[1m24/24\u001b[0m \u001b[32m━━━━━━━━━━━━━━━━━━━━\u001b[0m\u001b[37m\u001b[0m \u001b[1m0s\u001b[0m 328ms/step - accuracy: 0.9577 - loss: 0.1253\n",
      "Epoch 75: val_accuracy did not improve from 0.88492\n",
      "\u001b[1m24/24\u001b[0m \u001b[32m━━━━━━━━━━━━━━━━━━━━\u001b[0m\u001b[37m\u001b[0m \u001b[1m9s\u001b[0m 361ms/step - accuracy: 0.9577 - loss: 0.1253 - val_accuracy: 0.8571 - val_loss: 0.4598\n",
      "Epoch 76/100\n",
      "\u001b[1m24/24\u001b[0m \u001b[32m━━━━━━━━━━━━━━━━━━━━\u001b[0m\u001b[37m\u001b[0m \u001b[1m0s\u001b[0m 330ms/step - accuracy: 0.9618 - loss: 0.1171\n",
      "Epoch 76: val_accuracy did not improve from 0.88492\n",
      "\u001b[1m24/24\u001b[0m \u001b[32m━━━━━━━━━━━━━━━━━━━━\u001b[0m\u001b[37m\u001b[0m \u001b[1m9s\u001b[0m 361ms/step - accuracy: 0.9618 - loss: 0.1174 - val_accuracy: 0.8810 - val_loss: 0.4171\n",
      "Epoch 77/100\n",
      "\u001b[1m24/24\u001b[0m \u001b[32m━━━━━━━━━━━━━━━━━━━━\u001b[0m\u001b[37m\u001b[0m \u001b[1m0s\u001b[0m 345ms/step - accuracy: 0.9671 - loss: 0.1174\n",
      "Epoch 77: val_accuracy did not improve from 0.88492\n",
      "\u001b[1m24/24\u001b[0m \u001b[32m━━━━━━━━━━━━━━━━━━━━\u001b[0m\u001b[37m\u001b[0m \u001b[1m9s\u001b[0m 376ms/step - accuracy: 0.9669 - loss: 0.1173 - val_accuracy: 0.8571 - val_loss: 0.3987\n",
      "Epoch 78/100\n",
      "\u001b[1m24/24\u001b[0m \u001b[32m━━━━━━━━━━━━━━━━━━━━\u001b[0m\u001b[37m\u001b[0m \u001b[1m0s\u001b[0m 322ms/step - accuracy: 0.9676 - loss: 0.0992\n",
      "Epoch 78: val_accuracy did not improve from 0.88492\n",
      "\u001b[1m24/24\u001b[0m \u001b[32m━━━━━━━━━━━━━━━━━━━━\u001b[0m\u001b[37m\u001b[0m \u001b[1m9s\u001b[0m 355ms/step - accuracy: 0.9676 - loss: 0.0992 - val_accuracy: 0.8254 - val_loss: 0.4874\n",
      "Epoch 79/100\n",
      "\u001b[1m24/24\u001b[0m \u001b[32m━━━━━━━━━━━━━━━━━━━━\u001b[0m\u001b[37m\u001b[0m \u001b[1m0s\u001b[0m 332ms/step - accuracy: 0.9638 - loss: 0.1017\n",
      "Epoch 79: val_accuracy did not improve from 0.88492\n",
      "\u001b[1m24/24\u001b[0m \u001b[32m━━━━━━━━━━━━━━━━━━━━\u001b[0m\u001b[37m\u001b[0m \u001b[1m9s\u001b[0m 362ms/step - accuracy: 0.9635 - loss: 0.1028 - val_accuracy: 0.8690 - val_loss: 0.6242\n",
      "Epoch 80/100\n",
      "\u001b[1m24/24\u001b[0m \u001b[32m━━━━━━━━━━━━━━━━━━━━\u001b[0m\u001b[37m\u001b[0m \u001b[1m0s\u001b[0m 348ms/step - accuracy: 0.9492 - loss: 0.1486\n",
      "Epoch 80: val_accuracy did not improve from 0.88492\n",
      "\u001b[1m24/24\u001b[0m \u001b[32m━━━━━━━━━━━━━━━━━━━━\u001b[0m\u001b[37m\u001b[0m \u001b[1m9s\u001b[0m 383ms/step - accuracy: 0.9494 - loss: 0.1481 - val_accuracy: 0.8532 - val_loss: 0.5248\n",
      "Epoch 81/100\n",
      "\u001b[1m24/24\u001b[0m \u001b[32m━━━━━━━━━━━━━━━━━━━━\u001b[0m\u001b[37m\u001b[0m \u001b[1m0s\u001b[0m 346ms/step - accuracy: 0.9633 - loss: 0.1076\n",
      "Epoch 81: val_accuracy did not improve from 0.88492\n",
      "\u001b[1m24/24\u001b[0m \u001b[32m━━━━━━━━━━━━━━━━━━━━\u001b[0m\u001b[37m\u001b[0m \u001b[1m9s\u001b[0m 376ms/step - accuracy: 0.9632 - loss: 0.1079 - val_accuracy: 0.8532 - val_loss: 0.6225\n",
      "Epoch 82/100\n",
      "\u001b[1m23/24\u001b[0m \u001b[32m━━━━━━━━━━━━━━━━━━━\u001b[0m\u001b[37m━\u001b[0m \u001b[1m0s\u001b[0m 340ms/step - accuracy: 0.9537 - loss: 0.1328\n",
      "Epoch 82: val_accuracy did not improve from 0.88492\n",
      "\u001b[1m24/24\u001b[0m \u001b[32m━━━━━━━━━━━━━━━━━━━━\u001b[0m\u001b[37m\u001b[0m \u001b[1m9s\u001b[0m 358ms/step - accuracy: 0.9538 - loss: 0.1322 - val_accuracy: 0.8214 - val_loss: 0.6212\n",
      "Epoch 83/100\n",
      "\u001b[1m24/24\u001b[0m \u001b[32m━━━━━━━━━━━━━━━━━━━━\u001b[0m\u001b[37m\u001b[0m \u001b[1m0s\u001b[0m 344ms/step - accuracy: 0.9247 - loss: 0.2141\n",
      "Epoch 83: val_accuracy did not improve from 0.88492\n",
      "\u001b[1m24/24\u001b[0m \u001b[32m━━━━━━━━━━━━━━━━━━━━\u001b[0m\u001b[37m\u001b[0m \u001b[1m9s\u001b[0m 379ms/step - accuracy: 0.9247 - loss: 0.2139 - val_accuracy: 0.7937 - val_loss: 0.6578\n",
      "Epoch 84/100\n",
      "\u001b[1m24/24\u001b[0m \u001b[32m━━━━━━━━━━━━━━━━━━━━\u001b[0m\u001b[37m\u001b[0m \u001b[1m0s\u001b[0m 337ms/step - accuracy: 0.9129 - loss: 0.2441\n",
      "Epoch 84: val_accuracy did not improve from 0.88492\n",
      "\u001b[1m24/24\u001b[0m \u001b[32m━━━━━━━━━━━━━━━━━━━━\u001b[0m\u001b[37m\u001b[0m \u001b[1m9s\u001b[0m 369ms/step - accuracy: 0.9133 - loss: 0.2426 - val_accuracy: 0.8413 - val_loss: 0.5296\n",
      "Epoch 85/100\n",
      "\u001b[1m24/24\u001b[0m \u001b[32m━━━━━━━━━━━━━━━━━━━━\u001b[0m\u001b[37m\u001b[0m \u001b[1m0s\u001b[0m 353ms/step - accuracy: 0.9456 - loss: 0.1524\n",
      "Epoch 85: val_accuracy did not improve from 0.88492\n",
      "\u001b[1m24/24\u001b[0m \u001b[32m━━━━━━━━━━━━━━━━━━━━\u001b[0m\u001b[37m\u001b[0m \u001b[1m9s\u001b[0m 384ms/step - accuracy: 0.9458 - loss: 0.1522 - val_accuracy: 0.8770 - val_loss: 0.5070\n",
      "Epoch 86/100\n",
      "\u001b[1m24/24\u001b[0m \u001b[32m━━━━━━━━━━━━━━━━━━━━\u001b[0m\u001b[37m\u001b[0m \u001b[1m0s\u001b[0m 321ms/step - accuracy: 0.9309 - loss: 0.2028\n",
      "Epoch 86: val_accuracy did not improve from 0.88492\n",
      "\u001b[1m24/24\u001b[0m \u001b[32m━━━━━━━━━━━━━━━━━━━━\u001b[0m\u001b[37m\u001b[0m \u001b[1m9s\u001b[0m 354ms/step - accuracy: 0.9309 - loss: 0.2028 - val_accuracy: 0.8294 - val_loss: 0.5193\n",
      "Epoch 87/100\n",
      "\u001b[1m24/24\u001b[0m \u001b[32m━━━━━━━━━━━━━━━━━━━━\u001b[0m\u001b[37m\u001b[0m \u001b[1m0s\u001b[0m 347ms/step - accuracy: 0.9367 - loss: 0.1783\n",
      "Epoch 87: val_accuracy did not improve from 0.88492\n",
      "\u001b[1m24/24\u001b[0m \u001b[32m━━━━━━━━━━━━━━━━━━━━\u001b[0m\u001b[37m\u001b[0m \u001b[1m9s\u001b[0m 381ms/step - accuracy: 0.9365 - loss: 0.1786 - val_accuracy: 0.8175 - val_loss: 0.6386\n",
      "Epoch 88/100\n",
      "\u001b[1m24/24\u001b[0m \u001b[32m━━━━━━━━━━━━━━━━━━━━\u001b[0m\u001b[37m\u001b[0m \u001b[1m0s\u001b[0m 338ms/step - accuracy: 0.9530 - loss: 0.1366\n",
      "Epoch 88: val_accuracy did not improve from 0.88492\n",
      "\u001b[1m24/24\u001b[0m \u001b[32m━━━━━━━━━━━━━━━━━━━━\u001b[0m\u001b[37m\u001b[0m \u001b[1m9s\u001b[0m 370ms/step - accuracy: 0.9530 - loss: 0.1366 - val_accuracy: 0.8730 - val_loss: 0.4114\n",
      "Epoch 89/100\n",
      "\u001b[1m24/24\u001b[0m \u001b[32m━━━━━━━━━━━━━━━━━━━━\u001b[0m\u001b[37m\u001b[0m \u001b[1m0s\u001b[0m 347ms/step - accuracy: 0.9635 - loss: 0.1077\n",
      "Epoch 89: val_accuracy did not improve from 0.88492\n",
      "\u001b[1m24/24\u001b[0m \u001b[32m━━━━━━━━━━━━━━━━━━━━\u001b[0m\u001b[37m\u001b[0m \u001b[1m9s\u001b[0m 378ms/step - accuracy: 0.9636 - loss: 0.1077 - val_accuracy: 0.8651 - val_loss: 0.4460\n",
      "Epoch 90/100\n",
      "\u001b[1m24/24\u001b[0m \u001b[32m━━━━━━━━━━━━━━━━━━━━\u001b[0m\u001b[37m\u001b[0m \u001b[1m0s\u001b[0m 326ms/step - accuracy: 0.9713 - loss: 0.0934\n",
      "Epoch 90: val_accuracy did not improve from 0.88492\n",
      "\u001b[1m24/24\u001b[0m \u001b[32m━━━━━━━━━━━━━━━━━━━━\u001b[0m\u001b[37m\u001b[0m \u001b[1m9s\u001b[0m 359ms/step - accuracy: 0.9712 - loss: 0.0934 - val_accuracy: 0.8571 - val_loss: 0.5459\n",
      "Epoch 91/100\n",
      "\u001b[1m24/24\u001b[0m \u001b[32m━━━━━━━━━━━━━━━━━━━━\u001b[0m\u001b[37m\u001b[0m \u001b[1m0s\u001b[0m 340ms/step - accuracy: 0.9718 - loss: 0.0924\n",
      "Epoch 91: val_accuracy improved from 0.88492 to 0.89286, saving model to /content/results/cnn_model_performans.h5\n"
     ]
    },
    {
     "name": "stderr",
     "output_type": "stream",
     "text": [
      "WARNING:absl:You are saving your model as an HDF5 file via `model.save()` or `keras.saving.save_model(model)`. This file format is considered legacy. We recommend using instead the native Keras format, e.g. `model.save('my_model.keras')` or `keras.saving.save_model(model, 'my_model.keras')`. \n"
     ]
    },
    {
     "name": "stdout",
     "output_type": "stream",
     "text": [
      "\b\b\b\b\b\b\b\b\b\b\b\b\b\b\b\b\b\b\b\b\b\b\b\b\b\b\b\b\b\b\b\b\b\b\b\b\b\b\b\b\b\b\b\b\b\b\b\b\b\b\b\b\b\b\b\b\b\b\b\b\b\b\b\b\b\b\b\b\b\b\b\b\b\b\r\u001b[1m24/24\u001b[0m \u001b[32m━━━━━━━━━━━━━━━━━━━━\u001b[0m\u001b[37m\u001b[0m \u001b[1m9s\u001b[0m 374ms/step - accuracy: 0.9718 - loss: 0.0924 - val_accuracy: 0.8929 - val_loss: 0.4412\n",
      "Epoch 92/100\n",
      "\u001b[1m24/24\u001b[0m \u001b[32m━━━━━━━━━━━━━━━━━━━━\u001b[0m\u001b[37m\u001b[0m \u001b[1m0s\u001b[0m 357ms/step - accuracy: 0.9717 - loss: 0.0867\n",
      "Epoch 92: val_accuracy improved from 0.89286 to 0.90079, saving model to /content/results/cnn_model_performans.h5\n"
     ]
    },
    {
     "name": "stderr",
     "output_type": "stream",
     "text": [
      "WARNING:absl:You are saving your model as an HDF5 file via `model.save()` or `keras.saving.save_model(model)`. This file format is considered legacy. We recommend using instead the native Keras format, e.g. `model.save('my_model.keras')` or `keras.saving.save_model(model, 'my_model.keras')`. \n"
     ]
    },
    {
     "name": "stdout",
     "output_type": "stream",
     "text": [
      "\b\b\b\b\b\b\b\b\b\b\b\b\b\b\b\b\b\b\b\b\b\b\b\b\b\b\b\b\b\b\b\b\b\b\b\b\b\b\b\b\b\b\b\b\b\b\b\b\b\b\b\b\b\b\b\b\b\b\b\b\b\b\b\b\b\b\b\b\b\b\b\b\b\b\r\u001b[1m24/24\u001b[0m \u001b[32m━━━━━━━━━━━━━━━━━━━━\u001b[0m\u001b[37m\u001b[0m \u001b[1m10s\u001b[0m 392ms/step - accuracy: 0.9720 - loss: 0.0863 - val_accuracy: 0.9008 - val_loss: 0.4075\n",
      "Epoch 93/100\n",
      "\u001b[1m24/24\u001b[0m \u001b[32m━━━━━━━━━━━━━━━━━━━━\u001b[0m\u001b[37m\u001b[0m \u001b[1m0s\u001b[0m 332ms/step - accuracy: 0.9792 - loss: 0.0691\n",
      "Epoch 93: val_accuracy did not improve from 0.90079\n",
      "\u001b[1m24/24\u001b[0m \u001b[32m━━━━━━━━━━━━━━━━━━━━\u001b[0m\u001b[37m\u001b[0m \u001b[1m9s\u001b[0m 364ms/step - accuracy: 0.9794 - loss: 0.0689 - val_accuracy: 0.8849 - val_loss: 0.4447\n",
      "Epoch 94/100\n",
      "\u001b[1m24/24\u001b[0m \u001b[32m━━━━━━━━━━━━━━━━━━━━\u001b[0m\u001b[37m\u001b[0m \u001b[1m0s\u001b[0m 347ms/step - accuracy: 0.9863 - loss: 0.0581\n",
      "Epoch 94: val_accuracy did not improve from 0.90079\n",
      "\u001b[1m24/24\u001b[0m \u001b[32m━━━━━━━━━━━━━━━━━━━━\u001b[0m\u001b[37m\u001b[0m \u001b[1m9s\u001b[0m 379ms/step - accuracy: 0.9863 - loss: 0.0581 - val_accuracy: 0.8849 - val_loss: 0.4472\n",
      "Epoch 95/100\n",
      "\u001b[1m24/24\u001b[0m \u001b[32m━━━━━━━━━━━━━━━━━━━━\u001b[0m\u001b[37m\u001b[0m \u001b[1m0s\u001b[0m 343ms/step - accuracy: 0.9783 - loss: 0.0672\n",
      "Epoch 95: val_accuracy did not improve from 0.90079\n",
      "\u001b[1m24/24\u001b[0m \u001b[32m━━━━━━━━━━━━━━━━━━━━\u001b[0m\u001b[37m\u001b[0m \u001b[1m9s\u001b[0m 375ms/step - accuracy: 0.9783 - loss: 0.0671 - val_accuracy: 0.8611 - val_loss: 0.4890\n",
      "Epoch 96/100\n",
      "\u001b[1m24/24\u001b[0m \u001b[32m━━━━━━━━━━━━━━━━━━━━\u001b[0m\u001b[37m\u001b[0m \u001b[1m0s\u001b[0m 337ms/step - accuracy: 0.9901 - loss: 0.0517\n",
      "Epoch 96: val_accuracy did not improve from 0.90079\n",
      "\u001b[1m24/24\u001b[0m \u001b[32m━━━━━━━━━━━━━━━━━━━━\u001b[0m\u001b[37m\u001b[0m \u001b[1m9s\u001b[0m 372ms/step - accuracy: 0.9898 - loss: 0.0522 - val_accuracy: 0.8294 - val_loss: 0.5677\n",
      "Epoch 97/100\n",
      "\u001b[1m24/24\u001b[0m \u001b[32m━━━━━━━━━━━━━━━━━━━━\u001b[0m\u001b[37m\u001b[0m \u001b[1m0s\u001b[0m 334ms/step - accuracy: 0.9711 - loss: 0.0868\n",
      "Epoch 97: val_accuracy did not improve from 0.90079\n",
      "\u001b[1m24/24\u001b[0m \u001b[32m━━━━━━━━━━━━━━━━━━━━\u001b[0m\u001b[37m\u001b[0m \u001b[1m9s\u001b[0m 365ms/step - accuracy: 0.9712 - loss: 0.0866 - val_accuracy: 0.8929 - val_loss: 0.3615\n",
      "Epoch 98/100\n",
      "\u001b[1m24/24\u001b[0m \u001b[32m━━━━━━━━━━━━━━━━━━━━\u001b[0m\u001b[37m\u001b[0m \u001b[1m0s\u001b[0m 334ms/step - accuracy: 0.9850 - loss: 0.0591\n",
      "Epoch 98: val_accuracy did not improve from 0.90079\n",
      "\u001b[1m24/24\u001b[0m \u001b[32m━━━━━━━━━━━━━━━━━━━━\u001b[0m\u001b[37m\u001b[0m \u001b[1m9s\u001b[0m 368ms/step - accuracy: 0.9849 - loss: 0.0597 - val_accuracy: 0.8413 - val_loss: 0.5197\n",
      "Epoch 99/100\n",
      "\u001b[1m24/24\u001b[0m \u001b[32m━━━━━━━━━━━━━━━━━━━━\u001b[0m\u001b[37m\u001b[0m \u001b[1m0s\u001b[0m 337ms/step - accuracy: 0.9587 - loss: 0.1103\n",
      "Epoch 99: val_accuracy did not improve from 0.90079\n",
      "\u001b[1m24/24\u001b[0m \u001b[32m━━━━━━━━━━━━━━━━━━━━\u001b[0m\u001b[37m\u001b[0m \u001b[1m9s\u001b[0m 371ms/step - accuracy: 0.9590 - loss: 0.1097 - val_accuracy: 0.8492 - val_loss: 0.6322\n",
      "Epoch 100/100\n",
      "\u001b[1m24/24\u001b[0m \u001b[32m━━━━━━━━━━━━━━━━━━━━\u001b[0m\u001b[37m\u001b[0m \u001b[1m0s\u001b[0m 339ms/step - accuracy: 0.9788 - loss: 0.0735\n",
      "Epoch 100: val_accuracy did not improve from 0.90079\n",
      "\u001b[1m24/24\u001b[0m \u001b[32m━━━━━━━━━━━━━━━━━━━━\u001b[0m\u001b[37m\u001b[0m \u001b[1m9s\u001b[0m 372ms/step - accuracy: 0.9786 - loss: 0.0741 - val_accuracy: 0.8492 - val_loss: 0.7303\n"
     ]
    }
   ],
   "source": [
    "cnn_history = cnn_model.fit(\n",
    "    train_generator,\n",
    "    epochs = 100,\n",
    "    callbacks = [callback_best_model('cnn_model_performans.h5')],\n",
    "    validation_data = validation_generator\n",
    ")"
   ]
  },
  {
   "cell_type": "code",
   "execution_count": 27,
   "metadata": {
    "colab": {
     "base_uri": "https://localhost:8080/"
    },
    "executionInfo": {
     "elapsed": 4235,
     "status": "ok",
     "timestamp": 1746524541977,
     "user": {
      "displayName": "Kerem Kartal",
      "userId": "01578238521874098470"
     },
     "user_tz": -180
    },
    "id": "zAzojWbK-S1u",
    "outputId": "53078bac-e146-4936-9fe8-35798ef7cc72"
   },
   "outputs": [
    {
     "name": "stdout",
     "output_type": "stream",
     "text": [
      "\u001b[1m10/10\u001b[0m \u001b[32m━━━━━━━━━━━━━━━━━━━━\u001b[0m\u001b[37m\u001b[0m \u001b[1m4s\u001b[0m 341ms/step - accuracy: 0.7492 - loss: 0.5769\n"
     ]
    }
   ],
   "source": [
    "results = model_base.evaluate(test_generator)"
   ]
  },
  {
   "cell_type": "markdown",
   "metadata": {},
   "source": [
    "## 11. CNN Öğrenme Eğrileri Üzerine Detaylı Analiz\n",
    "\n",
    "Aşağıdaki grafikler, 100 epoch boyunca eğitim ve doğrulama metriklerinin nasıl davrandığını gösteriyor:\n",
    "\n",
    "---\n",
    "\n",
    "### A. Doğruluk (Accuracy) Eğrisi\n",
    "\n",
    "![Accuracy Eğrisi](/mnt/data/ccdd0ed5-2b68-45b0-bf28-9748d978a60e.png)\n",
    "\n",
    "1. **Hızlı Başlangıç (Epoch 1–10)**  \n",
    "   - Eğitim doğruluğu %35’ten %70’e çıkarken  \n",
    "   - Doğrulama %60–%75 bandında seyrediyor.  \n",
    "   → Model temel görsel kalıpları hızla öğrenmiş.\n",
    "\n",
    "2. **Orta Dönem Stabilizasyonu (Epoch 10–40)**  \n",
    "   - Eğitim doğruluğu kararlı şekilde %75–%85 aralığında artıyor.  \n",
    "   - Doğrulama doğruluğu dalgalı: bazı epoch’larda küçük düşüşler var.  \n",
    "   - Özellikle **~30–40** arası ani küçük düşüş, muhtemelen augmentasyon veya Dropout’in etkisi.\n",
    "\n",
    "3. **Zirve ve Ayrışma Noktası (Epoch 40–92)**  \n",
    "   - Eğitim doğruluğu %85’ten %95 üzerine çıkıyor.  \n",
    "   - Doğrulama ise %80–%88 bandında kalıyor, 92. epoch’ta **%90.08** ile en yüksek değerini görüyor.  \n",
    "   - Bu epoch’ta model, eğitim setine biraz fazla uyum sağlamış olabilir ama aynı zamanda en iyi genel performans noktasını yakalamış.\n",
    "\n",
    "4. **Aşırı Uyum (Overfitting) Dönemi (Epoch 93–100)**  \n",
    "   - Eğitim doğruluğu %97–%99’a kadar yükselmeye devam ederken  \n",
    "   - Doğrulama hızla **%85**’in altına düşüyor.  \n",
    "   → Model, artık eğitim verisindeki küçük gürültüleri bile öğreniyor ve genelleme kaybı başlıyor.\n",
    "\n",
    "---\n",
    "\n",
    "### B. Kayıp (Loss) Eğrisi\n",
    "\n",
    "![Loss Eğrisi](/mnt/data/82f462fc-f6fb-4fed-be77-361fdbd41e29.png)\n",
    "\n",
    "1. **Başlangıçta Düşüş (Epoch 1–20)**  \n",
    "   - Eğitim kaybı 1.4’ten 0.5’e inerken  \n",
    "   - Doğrulama kaybı 1.0–0.6 aralığında stabil düşüş gösteriyor.  \n",
    "   → Model dengeli bir biçimde öğreniyor.\n",
    "\n",
    "2. **Dalgalanmalar ve Düzgünsüzlük (Epoch 20–50)**  \n",
    "   - Eğitim kaybı düzenli azalırken  \n",
    "   - Doğrulama kaybında zaman zaman **0.9–1.1** arası ani artışlar var.  \n",
    "   - Bu dalgalanmalar genellikle eğitim augmentation-ı veya Dropout’in geçici etkileri olabilir.\n",
    "\n",
    "3. **En Düşük Kayıp ve Sonrası (Epoch 50–92)**  \n",
    "   - Eğitim kaybı **0.1–0.3** bandına iner.  \n",
    "   - Doğrulama kaybı **0.4–0.6** arasında – özellikle epoch 92’de **≈0.41** ile en düşükü.  \n",
    "   - Bu nokta, modelin hem düşük eğitim kaybı hem de nispeten düşük doğrulama kaybı elde ettiği “altın eşik”.\n",
    "\n",
    "4. **Overfitting Süreci (Epoch 93–100)**  \n",
    "   - Eğitim kaybı **0.05–0.1** aralığında kalırken  \n",
    "   - Doğrulama kaybı **0.6–0.8** bandına yükseliyor.  \n",
    "   → Model artık doğrulama setine zarar verecek kadar ezber öğrendi.\n",
    "\n",
    "\n"
   ]
  },
  {
   "cell_type": "code",
   "execution_count": 62,
   "metadata": {
    "colab": {
     "base_uri": "https://localhost:8080/",
     "height": 1000
    },
    "executionInfo": {
     "elapsed": 331,
     "status": "ok",
     "timestamp": 1746532080625,
     "user": {
      "displayName": "Kerem Kartal",
      "userId": "01578238521874098470"
     },
     "user_tz": -180
    },
    "id": "7JzQtrAH-fls",
    "outputId": "27b1bdfd-60b3-4add-8959-a596d0979b3b"
   },
   "outputs": [
    {
     "data": {
      "image/png": "[encoded data removed]",
      "text/plain": [
       "<Figure size 800x600 with 1 Axes>"
      ]
     },
     "metadata": {},
     "output_type": "display_data"
    },
    {
     "data": {
      "image/png": "[encoded data removed]",
      "text/plain": [
       "<Figure size 800x600 with 1 Axes>"
      ]
     },
     "metadata": {},
     "output_type": "display_data"
    }
   ],
   "source": [
    "results_visualization_fancy(cnn_history)\n"
   ]
  },
  {
   "cell_type": "code",
   "execution_count": 31,
   "metadata": {
    "colab": {
     "base_uri": "https://localhost:8080/"
    },
    "executionInfo": {
     "elapsed": 2914,
     "status": "ok",
     "timestamp": 1746524847902,
     "user": {
      "displayName": "Kerem Kartal",
      "userId": "01578238521874098470"
     },
     "user_tz": -180
    },
    "id": "2Qt0RtJZ_i7F",
    "outputId": "2a0509dc-d73f-4415-f1f2-4b6aa4e1a26c"
   },
   "outputs": [
    {
     "name": "stdout",
     "output_type": "stream",
     "text": [
      "\u001b[?25l   \u001b[90m━━━━━━━━━━━━━━━━━━━━━━━━━━━━━━━━━━━━━━━━\u001b[0m \u001b[32m0.0/129.1 kB\u001b[0m \u001b[31m?\u001b[0m eta \u001b[36m-:--:--\u001b[0m\r\u001b[2K   \u001b[90m━━━━━━━━━━━━━━━━━━━━━━━━━━━━━━━━━━━━━━━━\u001b[0m \u001b[32m129.1/129.1 kB\u001b[0m \u001b[31m4.3 MB/s\u001b[0m eta \u001b[36m0:00:00\u001b[0m\n",
      "\u001b[?25h"
     ]
    }
   ],
   "source": [
    "!pip install -q keras-tuner\n"
   ]
  },
  {
   "cell_type": "markdown",
   "metadata": {},
   "source": [
    "## 12. Hiperparametre Optimizasyonu için Model Constructor\n",
    "\n",
    "Bu fonksiyon, **Keras Tuner** ile hem model mimarisini hem de derleme parametrelerini otomatik olarak arayıp optimize eder:\n",
    "\n",
    "- **Sabit Katmanlar**  \n",
    "  - Başlangıç: `Conv2D(64, 4×4) → MaxPool(3×3) → BatchNorm`  \n",
    "  - Ara konvolüsyon katmanları arasında `BatchNormalization`, `Dropout` ve L2 düzenlileştirici kullanımı  \n",
    "\n",
    "- **Tuned (Aranacak) Parametreler**  \n",
    "  1. `units` (filtre sayısı): 32, 64, 96 veya 128  \n",
    "  2. `padding`: “same” veya “valid”  \n",
    "  3. `learning_rate`: 1e-2, 1e-3 veya 1e-4  \n",
    "\n",
    "- **Ekstra Katmanlar**  \n",
    "  - Toplam 6 konvolüsyon bloğu (son blokta 64 filtre, no aktivasyon)  \n",
    "  - `Flatten()` → `Dense(4, activation='softmax')` (4 sınıflı çıktı)\n",
    "\n",
    "- **Derleme**  \n",
    "  - Optimizör: `RMSprop(learning_rate=hp_choice)`  \n",
    "  - Kayıp: `categorical_crossentropy`  \n",
    "  - Metrik: `accuracy`\n",
    "\n",
    "**Kullanım**:  \n",
    "```python\n",
    "import keras_tuner as kt\n",
    "\n",
    "tuner = kt.RandomSearch(\n",
    "    model_constructor,\n",
    "    objective='val_accuracy',\n",
    "    max_trials=10, \n",
    "    executions_per_trial=1,\n",
    "    directory='my_dir', \n",
    "    project_name='eye_disease_tuning'\n",
    ")\n",
    "tuner.search(train_generator, validation_data=validation_generator, epochs=20)\n",
    "best_model = tuner.get_best_models(num_models=1)[0]\n"
   ]
  },
  {
   "cell_type": "code",
   "execution_count": 32,
   "metadata": {
    "executionInfo": {
     "elapsed": 226,
     "status": "ok",
     "timestamp": 1746524849626,
     "user": {
      "displayName": "Kerem Kartal",
      "userId": "01578238521874098470"
     },
     "user_tz": -180
    },
    "id": "KFyrfjxz-zqt"
   },
   "outputs": [],
   "source": [
    "import keras_tuner as kt\n",
    "from tensorflow import keras"
   ]
  },
  {
   "cell_type": "code",
   "execution_count": 33,
   "metadata": {
    "executionInfo": {
     "elapsed": 2,
     "status": "ok",
     "timestamp": 1746524853225,
     "user": {
      "displayName": "Kerem Kartal",
      "userId": "01578238521874098470"
     },
     "user_tz": -180
    },
    "id": "4h9Frjf7-1bz"
   },
   "outputs": [],
   "source": [
    "def model_constructor(hp):\n",
    "    model = tf.keras.models.Sequential()\n",
    "\n",
    "    # Input layer\n",
    "    model.add(tf.keras.layers.Conv2D(filters=64, kernel_size=(4,4), activation='relu', input_shape=(200,200,3)))\n",
    "    model.add(tf.keras.layers.MaxPool2D((3,3)))\n",
    "    model.add(tf.keras.layers.BatchNormalization())\n",
    "\n",
    "    # The number of filters is going to be a variable in this case\n",
    "    hp_units = hp.Int('units', min_value=32, max_value=128, step=32)\n",
    "\n",
    "    hp_padding = hp.Choice('padding', values=['same', 'valid'])\n",
    "\n",
    "    # Layer 2\n",
    "    model.add(tf.keras.layers.Conv2D(filters=hp_units, kernel_size=(3,3), padding=hp_padding, activation='relu',kernel_regularizer=tf.keras.regularizers.l2(1e-5)))\n",
    "    model.add(tf.keras.layers.BatchNormalization())\n",
    "\n",
    "    # Layer 3\n",
    "    model.add(tf.keras.layers.Conv2D(filters=hp_units, kernel_size=(3,3), padding=hp_padding, activation='relu' ,kernel_regularizer=tf.keras.regularizers.l2(1e-4)))\n",
    "    model.add(tf.keras.layers.MaxPool2D((3,3)))\n",
    "    model.add(tf.keras.layers.Dropout(0.25))\n",
    "    model.add(tf.keras.layers.BatchNormalization())\n",
    "\n",
    "    # Layer 4\n",
    "    model.add(tf.keras.layers.Conv2D(filters=hp_units, kernel_size=(3,3), padding=hp_padding, activation='relu',kernel_regularizer=tf.keras.regularizers.l2(1e-5)))\n",
    "    model.add(tf.keras.layers.BatchNormalization())\n",
    "\n",
    "    # Layer 5\n",
    "    model.add(tf.keras.layers.Conv2D(filters=hp_units, kernel_size=(3,3), padding=hp_padding, activation='relu',kernel_regularizer=tf.keras.regularizers.l2(1e-2)))\n",
    "    model.add(tf.keras.layers.BatchNormalization())\n",
    "    model.add(tf.keras.layers.Dropout(0.20))\n",
    "\n",
    "    # Layer 6\n",
    "    model.add(tf.keras.layers.Conv2D(filters=64, kernel_size=(3,3), padding=hp_padding, activation=None))\n",
    "    model.add(tf.keras.layers.MaxPool2D((3,3)))\n",
    "    model.add(tf.keras.layers.BatchNormalization())\n",
    "\n",
    "\n",
    "    # Flatten layer\n",
    "    model.add(tf.keras.layers.Flatten())\n",
    "\n",
    "    # Output layer\n",
    "    model.add(tf.keras.layers.Dense(4, activation='softmax'))\n",
    "\n",
    "    # The number of the learning rate is going to be a variable in this case\n",
    "    hp_learning_rate = hp.Choice('learning_rate', values=[1e-2, 1e-3, 1e-4])\n",
    "\n",
    "    model.compile(optimizer = tf.keras.optimizers.RMSprop(learning_rate=hp_learning_rate), loss = 'categorical_crossentropy', metrics=['accuracy'])\n",
    "\n",
    "    return model"
   ]
  },
  {
   "cell_type": "markdown",
   "metadata": {},
   "source": [
    "## 13. Hyperband ile Hiperparametre Arama ve En İyi Model Özeti\n",
    "### A. Hiperparametre Arama Özeti\n",
    "\n",
    "- **Tuner Konfigürasyonu**  \n",
    "  - Algoritma: `kt.Hyperband`  \n",
    "  - Hedef: `val_accuracy`  \n",
    "  - Maksimum epoch: 20, factor: 3  \n",
    "  - Arama sonuçları dizini: `../results/eye-desease-tunner` (overwrite=True)\n",
    "\n",
    "- **Arama Süreci**  \n",
    "  - Toplam deneme (trial) süresi: ~43 dakikada 30 trial  \n",
    "  - En iyi `val_accuracy`: **0.7103** (yaklaşık %71)  \n",
    "  - Örnek bir trial’da `val_accuracy` 0.4802 olarak gerçekleşti (düşük performanslı bir deneme örneği)\n",
    "\n",
    "- **En İyi Hiperparametreler (`best_hps`)**  \n",
    "  ```text\n",
    "  • units (filtre sayısı):          64  \n",
    "  • padding (konvolüsyon biçimi):  same  \n",
    "  • learning_rate (öğrenme oranı): 0.01 \n",
    "\n",
    "\n",
    "### B. En İyi Model Katman Yapısı ve Parametre Dağılımı\n",
    "\n",
    "| Katman                                                        | Çıkış Boyutu      | Parametre Sayısı |\n",
    "|:-------------------------------------------------------------:|:-----------------:|:----------------:|\n",
    "| **Conv2D(64, 4×4)**                                            | (None, 197, 197, 64) | 3 136            |\n",
    "| **MaxPool2D(3×3)**                                             | (None, 65, 65, 64)   | 0                |\n",
    "| **BatchNormalization**                                         | (None, 65, 65, 64)   | 256              |\n",
    "| **Conv2D(64, 3×3, padding='same')**                            | (None, 65, 65, 64)   | 36 928           |\n",
    "| **BatchNormalization**                                         | (None, 65, 65, 64)   | 256              |\n",
    "| **Conv2D(64, 3×3, padding='same') → MaxPool2D(3×3)**           | (None, 21, 21, 64)   | 36 928           |\n",
    "| **Dropout(0.25)**                                              | (None, 21, 21, 64)   | 0                |\n",
    "| **BatchNormalization**                                         | (None, 21, 21, 64)   | 256              |\n",
    "| **Conv2D(64, 3×3, padding='same')**                            | (None, 21, 21, 64)   | 36 928           |\n",
    "| **BatchNormalization**                                         | (None, 21, 21, 64)   | 256              |\n",
    "| **Conv2D(64, 3×3, padding='same')**                            | (None, 21, 21, 64)   | 36 928           |\n",
    "| **BatchNormalization**                                         | (None, 21, 21, 64)   | 256              |\n",
    "| **Dropout(0.20)**                                              | (None, 21, 21, 64)   | 0                |\n",
    "| **Conv2D(64, 3×3, padding='same') → MaxPool2D(3×3)**           | (None, 7, 7, 64)     | 36 928           |\n",
    "| **BatchNormalization**                                         | (None, 7, 7, 64)     | 256              |\n",
    "| **Flatten**                                                    | (None, 3 136)        | 0                |\n",
    "| **Dense(4, softmax)**                                          | (None, 4)            | 12 548           |\n",
    "\n",
    "---\n",
    "\n",
    "### C. Parametre Özetleri\n",
    "- **Toplam parametre**: **201 860**  \n",
    "- **Eğitilebilir parametre**: **201 092**  \n",
    "- **Eğitilmeyen parametre** (BatchNorm ağırlıkları): **768**  \n",
    "\n",
    "> Bu konfigürasyon, 6 konvolüsyon bloğu, havuzlama, BatchNormalization ve Dropout düzenlileştirici adımlarıyla görsel özellikleri güçlü bir şekilde çıkarır. `units=64`, `padding='same'`, `learning_rate=0.01` kombinasyonu en iyi doğrulama performansını yakalamıştır.\n",
    " \n"
   ]
  },
  {
   "cell_type": "code",
   "execution_count": null,
   "metadata": {
    "executionInfo": {
     "elapsed": 207,
     "status": "ok",
     "timestamp": 1746524858195,
     "user": {
      "displayName": "Kerem Kartal",
      "userId": "01578238521874098470"
     },
     "user_tz": -180
    },
    "id": "OBeHr7ku-3Fb"
   },
   "outputs": [],
   "source": [
    "\n",
    "tunner = kt.Hyperband(\n",
    "    model_constructor,\n",
    "    objective = 'val_accuracy',\n",
    "    max_epochs=20,\n",
    "    factor=3,\n",
    "    directory='../results',\n",
    "    project_name='eye-desease-tunner',\n",
    "    overwrite=True\n",
    ")"
   ]
  },
  {
   "cell_type": "code",
   "execution_count": 35,
   "metadata": {
    "colab": {
     "base_uri": "https://localhost:8080/"
    },
    "executionInfo": {
     "elapsed": 1595035,
     "status": "ok",
     "timestamp": 1746527480043,
     "user": {
      "displayName": "Kerem Kartal",
      "userId": "01578238521874098470"
     },
     "user_tz": -180
    },
    "id": "eDaTaI-w-4cS",
    "outputId": "3e7bb230-fbfe-4a76-c2e1-72bed3935012"
   },
   "outputs": [
    {
     "name": "stdout",
     "output_type": "stream",
     "text": [
      "Trial 30 Complete [00h 03m 14s]\n",
      "val_accuracy: 0.4801587164402008\n",
      "\n",
      "Best val_accuracy So Far: 0.7103174328804016\n",
      "Total elapsed time: 00h 43m 29s\n"
     ]
    }
   ],
   "source": [
    "# Make the search\n",
    "tunner.search(\n",
    "    train_generator,\n",
    "    epochs=20,\n",
    "    validation_data=validation_generator\n",
    "\n",
    ")\n",
    "\n",
    "best_hps = tunner.get_best_hyperparameters(num_trials=1)[0]"
   ]
  },
  {
   "cell_type": "code",
   "execution_count": null,
   "metadata": {
    "colab": {
     "base_uri": "https://localhost:8080/"
    },
    "executionInfo": {
     "elapsed": 7,
     "status": "ok",
     "timestamp": 1746527500847,
     "user": {
      "displayName": "Kerem Kartal",
      "userId": "01578238521874098470"
     },
     "user_tz": -180
    },
    "id": "obe2Cy2a_bZS",
    "outputId": "9c746e07-1ab4-4e09-86c7-a78b27866ad1"
   },
   "outputs": [
    {
     "name": "stdout",
     "output_type": "stream",
     "text": [
      "🔎 En İyi Hiperparametre Konfigürasyonu:\n",
      " • Konvolüsyon Katmanlarındaki Filtre Sayısı (units): 64\n",
      " • Konvolüsyon Padding Türü      : same\n",
      " • Öğrenme Oranı (learning_rate): 0.01\n"
     ]
    }
   ],
   "source": [
    "print(\" En İyi Hiperparametre Konfigürasyonu:\")\n",
    "print(f\" • Konvolüsyon Katmanlarındaki Filtre Sayısı (units): {best_hps.get('units')}\")\n",
    "print(f\" • Konvolüsyon Padding Türü      : {best_hps.get('padding')}\")\n",
    "print(f\" • Öğrenme Oranı (learning_rate): {best_hps.get('learning_rate')}\")\n"
   ]
  },
  {
   "cell_type": "code",
   "execution_count": null,
   "metadata": {
    "colab": {
     "base_uri": "https://localhost:8080/",
     "height": 833
    },
    "executionInfo": {
     "elapsed": 255,
     "status": "ok",
     "timestamp": 1746527575357,
     "user": {
      "displayName": "Kerem Kartal",
      "userId": "01578238521874098470"
     },
     "user_tz": -180
    },
    "id": "hlO5XucPJ3ZU",
    "outputId": "6d67aa27-fcbf-47ae-f3f1-7e0aa84bac0f"
   },
   "outputs": [
    {
     "data": {
      "text/html": [
       "<pre style=\"white-space:pre;overflow-x:auto;line-height:normal;font-family:Menlo,'DejaVu Sans Mono',consolas,'Courier New',monospace\"><span style=\"font-weight: bold\">Model: \"sequential_1\"</span>\n",
       "</pre>\n"
      ],
      "text/plain": [
       "\u001b[1mModel: \"sequential_1\"\u001b[0m\n"
      ]
     },
     "metadata": {},
     "output_type": "display_data"
    },
    {
     "data": {
      "text/html": [
       "<pre style=\"white-space:pre;overflow-x:auto;line-height:normal;font-family:Menlo,'DejaVu Sans Mono',consolas,'Courier New',monospace\">┏━━━━━━━━━━━━━━━━━━━━━━━━━━━━━━━━━┳━━━━━━━━━━━━━━━━━━━━━━━━┳━━━━━━━━━━━━━━━┓\n",
       "┃<span style=\"font-weight: bold\"> Layer (type)                    </span>┃<span style=\"font-weight: bold\"> Output Shape           </span>┃<span style=\"font-weight: bold\">       Param # </span>┃\n",
       "┡━━━━━━━━━━━━━━━━━━━━━━━━━━━━━━━━━╇━━━━━━━━━━━━━━━━━━━━━━━━╇━━━━━━━━━━━━━━━┩\n",
       "│ conv2d_6 (<span style=\"color: #0087ff; text-decoration-color: #0087ff\">Conv2D</span>)               │ (<span style=\"color: #00d7ff; text-decoration-color: #00d7ff\">None</span>, <span style=\"color: #00af00; text-decoration-color: #00af00\">197</span>, <span style=\"color: #00af00; text-decoration-color: #00af00\">197</span>, <span style=\"color: #00af00; text-decoration-color: #00af00\">64</span>)   │         <span style=\"color: #00af00; text-decoration-color: #00af00\">3,136</span> │\n",
       "├─────────────────────────────────┼────────────────────────┼───────────────┤\n",
       "│ max_pooling2d_3 (<span style=\"color: #0087ff; text-decoration-color: #0087ff\">MaxPooling2D</span>)  │ (<span style=\"color: #00d7ff; text-decoration-color: #00d7ff\">None</span>, <span style=\"color: #00af00; text-decoration-color: #00af00\">65</span>, <span style=\"color: #00af00; text-decoration-color: #00af00\">65</span>, <span style=\"color: #00af00; text-decoration-color: #00af00\">64</span>)     │             <span style=\"color: #00af00; text-decoration-color: #00af00\">0</span> │\n",
       "├─────────────────────────────────┼────────────────────────┼───────────────┤\n",
       "│ batch_normalization_6           │ (<span style=\"color: #00d7ff; text-decoration-color: #00d7ff\">None</span>, <span style=\"color: #00af00; text-decoration-color: #00af00\">65</span>, <span style=\"color: #00af00; text-decoration-color: #00af00\">65</span>, <span style=\"color: #00af00; text-decoration-color: #00af00\">64</span>)     │           <span style=\"color: #00af00; text-decoration-color: #00af00\">256</span> │\n",
       "│ (<span style=\"color: #0087ff; text-decoration-color: #0087ff\">BatchNormalization</span>)            │                        │               │\n",
       "├─────────────────────────────────┼────────────────────────┼───────────────┤\n",
       "│ conv2d_7 (<span style=\"color: #0087ff; text-decoration-color: #0087ff\">Conv2D</span>)               │ (<span style=\"color: #00d7ff; text-decoration-color: #00d7ff\">None</span>, <span style=\"color: #00af00; text-decoration-color: #00af00\">65</span>, <span style=\"color: #00af00; text-decoration-color: #00af00\">65</span>, <span style=\"color: #00af00; text-decoration-color: #00af00\">64</span>)     │        <span style=\"color: #00af00; text-decoration-color: #00af00\">36,928</span> │\n",
       "├─────────────────────────────────┼────────────────────────┼───────────────┤\n",
       "│ batch_normalization_7           │ (<span style=\"color: #00d7ff; text-decoration-color: #00d7ff\">None</span>, <span style=\"color: #00af00; text-decoration-color: #00af00\">65</span>, <span style=\"color: #00af00; text-decoration-color: #00af00\">65</span>, <span style=\"color: #00af00; text-decoration-color: #00af00\">64</span>)     │           <span style=\"color: #00af00; text-decoration-color: #00af00\">256</span> │\n",
       "│ (<span style=\"color: #0087ff; text-decoration-color: #0087ff\">BatchNormalization</span>)            │                        │               │\n",
       "├─────────────────────────────────┼────────────────────────┼───────────────┤\n",
       "│ conv2d_8 (<span style=\"color: #0087ff; text-decoration-color: #0087ff\">Conv2D</span>)               │ (<span style=\"color: #00d7ff; text-decoration-color: #00d7ff\">None</span>, <span style=\"color: #00af00; text-decoration-color: #00af00\">65</span>, <span style=\"color: #00af00; text-decoration-color: #00af00\">65</span>, <span style=\"color: #00af00; text-decoration-color: #00af00\">64</span>)     │        <span style=\"color: #00af00; text-decoration-color: #00af00\">36,928</span> │\n",
       "├─────────────────────────────────┼────────────────────────┼───────────────┤\n",
       "│ max_pooling2d_4 (<span style=\"color: #0087ff; text-decoration-color: #0087ff\">MaxPooling2D</span>)  │ (<span style=\"color: #00d7ff; text-decoration-color: #00d7ff\">None</span>, <span style=\"color: #00af00; text-decoration-color: #00af00\">21</span>, <span style=\"color: #00af00; text-decoration-color: #00af00\">21</span>, <span style=\"color: #00af00; text-decoration-color: #00af00\">64</span>)     │             <span style=\"color: #00af00; text-decoration-color: #00af00\">0</span> │\n",
       "├─────────────────────────────────┼────────────────────────┼───────────────┤\n",
       "│ dropout_2 (<span style=\"color: #0087ff; text-decoration-color: #0087ff\">Dropout</span>)             │ (<span style=\"color: #00d7ff; text-decoration-color: #00d7ff\">None</span>, <span style=\"color: #00af00; text-decoration-color: #00af00\">21</span>, <span style=\"color: #00af00; text-decoration-color: #00af00\">21</span>, <span style=\"color: #00af00; text-decoration-color: #00af00\">64</span>)     │             <span style=\"color: #00af00; text-decoration-color: #00af00\">0</span> │\n",
       "├─────────────────────────────────┼────────────────────────┼───────────────┤\n",
       "│ batch_normalization_8           │ (<span style=\"color: #00d7ff; text-decoration-color: #00d7ff\">None</span>, <span style=\"color: #00af00; text-decoration-color: #00af00\">21</span>, <span style=\"color: #00af00; text-decoration-color: #00af00\">21</span>, <span style=\"color: #00af00; text-decoration-color: #00af00\">64</span>)     │           <span style=\"color: #00af00; text-decoration-color: #00af00\">256</span> │\n",
       "│ (<span style=\"color: #0087ff; text-decoration-color: #0087ff\">BatchNormalization</span>)            │                        │               │\n",
       "├─────────────────────────────────┼────────────────────────┼───────────────┤\n",
       "│ conv2d_9 (<span style=\"color: #0087ff; text-decoration-color: #0087ff\">Conv2D</span>)               │ (<span style=\"color: #00d7ff; text-decoration-color: #00d7ff\">None</span>, <span style=\"color: #00af00; text-decoration-color: #00af00\">21</span>, <span style=\"color: #00af00; text-decoration-color: #00af00\">21</span>, <span style=\"color: #00af00; text-decoration-color: #00af00\">64</span>)     │        <span style=\"color: #00af00; text-decoration-color: #00af00\">36,928</span> │\n",
       "├─────────────────────────────────┼────────────────────────┼───────────────┤\n",
       "│ batch_normalization_9           │ (<span style=\"color: #00d7ff; text-decoration-color: #00d7ff\">None</span>, <span style=\"color: #00af00; text-decoration-color: #00af00\">21</span>, <span style=\"color: #00af00; text-decoration-color: #00af00\">21</span>, <span style=\"color: #00af00; text-decoration-color: #00af00\">64</span>)     │           <span style=\"color: #00af00; text-decoration-color: #00af00\">256</span> │\n",
       "│ (<span style=\"color: #0087ff; text-decoration-color: #0087ff\">BatchNormalization</span>)            │                        │               │\n",
       "├─────────────────────────────────┼────────────────────────┼───────────────┤\n",
       "│ conv2d_10 (<span style=\"color: #0087ff; text-decoration-color: #0087ff\">Conv2D</span>)              │ (<span style=\"color: #00d7ff; text-decoration-color: #00d7ff\">None</span>, <span style=\"color: #00af00; text-decoration-color: #00af00\">21</span>, <span style=\"color: #00af00; text-decoration-color: #00af00\">21</span>, <span style=\"color: #00af00; text-decoration-color: #00af00\">64</span>)     │        <span style=\"color: #00af00; text-decoration-color: #00af00\">36,928</span> │\n",
       "├─────────────────────────────────┼────────────────────────┼───────────────┤\n",
       "│ batch_normalization_10          │ (<span style=\"color: #00d7ff; text-decoration-color: #00d7ff\">None</span>, <span style=\"color: #00af00; text-decoration-color: #00af00\">21</span>, <span style=\"color: #00af00; text-decoration-color: #00af00\">21</span>, <span style=\"color: #00af00; text-decoration-color: #00af00\">64</span>)     │           <span style=\"color: #00af00; text-decoration-color: #00af00\">256</span> │\n",
       "│ (<span style=\"color: #0087ff; text-decoration-color: #0087ff\">BatchNormalization</span>)            │                        │               │\n",
       "├─────────────────────────────────┼────────────────────────┼───────────────┤\n",
       "│ dropout_3 (<span style=\"color: #0087ff; text-decoration-color: #0087ff\">Dropout</span>)             │ (<span style=\"color: #00d7ff; text-decoration-color: #00d7ff\">None</span>, <span style=\"color: #00af00; text-decoration-color: #00af00\">21</span>, <span style=\"color: #00af00; text-decoration-color: #00af00\">21</span>, <span style=\"color: #00af00; text-decoration-color: #00af00\">64</span>)     │             <span style=\"color: #00af00; text-decoration-color: #00af00\">0</span> │\n",
       "├─────────────────────────────────┼────────────────────────┼───────────────┤\n",
       "│ conv2d_11 (<span style=\"color: #0087ff; text-decoration-color: #0087ff\">Conv2D</span>)              │ (<span style=\"color: #00d7ff; text-decoration-color: #00d7ff\">None</span>, <span style=\"color: #00af00; text-decoration-color: #00af00\">21</span>, <span style=\"color: #00af00; text-decoration-color: #00af00\">21</span>, <span style=\"color: #00af00; text-decoration-color: #00af00\">64</span>)     │        <span style=\"color: #00af00; text-decoration-color: #00af00\">36,928</span> │\n",
       "├─────────────────────────────────┼────────────────────────┼───────────────┤\n",
       "│ max_pooling2d_5 (<span style=\"color: #0087ff; text-decoration-color: #0087ff\">MaxPooling2D</span>)  │ (<span style=\"color: #00d7ff; text-decoration-color: #00d7ff\">None</span>, <span style=\"color: #00af00; text-decoration-color: #00af00\">7</span>, <span style=\"color: #00af00; text-decoration-color: #00af00\">7</span>, <span style=\"color: #00af00; text-decoration-color: #00af00\">64</span>)       │             <span style=\"color: #00af00; text-decoration-color: #00af00\">0</span> │\n",
       "├─────────────────────────────────┼────────────────────────┼───────────────┤\n",
       "│ batch_normalization_11          │ (<span style=\"color: #00d7ff; text-decoration-color: #00d7ff\">None</span>, <span style=\"color: #00af00; text-decoration-color: #00af00\">7</span>, <span style=\"color: #00af00; text-decoration-color: #00af00\">7</span>, <span style=\"color: #00af00; text-decoration-color: #00af00\">64</span>)       │           <span style=\"color: #00af00; text-decoration-color: #00af00\">256</span> │\n",
       "│ (<span style=\"color: #0087ff; text-decoration-color: #0087ff\">BatchNormalization</span>)            │                        │               │\n",
       "├─────────────────────────────────┼────────────────────────┼───────────────┤\n",
       "│ flatten_1 (<span style=\"color: #0087ff; text-decoration-color: #0087ff\">Flatten</span>)             │ (<span style=\"color: #00d7ff; text-decoration-color: #00d7ff\">None</span>, <span style=\"color: #00af00; text-decoration-color: #00af00\">3136</span>)           │             <span style=\"color: #00af00; text-decoration-color: #00af00\">0</span> │\n",
       "├─────────────────────────────────┼────────────────────────┼───────────────┤\n",
       "│ dense_1 (<span style=\"color: #0087ff; text-decoration-color: #0087ff\">Dense</span>)                 │ (<span style=\"color: #00d7ff; text-decoration-color: #00d7ff\">None</span>, <span style=\"color: #00af00; text-decoration-color: #00af00\">4</span>)              │        <span style=\"color: #00af00; text-decoration-color: #00af00\">12,548</span> │\n",
       "└─────────────────────────────────┴────────────────────────┴───────────────┘\n",
       "</pre>\n"
      ],
      "text/plain": [
       "┏━━━━━━━━━━━━━━━━━━━━━━━━━━━━━━━━━┳━━━━━━━━━━━━━━━━━━━━━━━━┳━━━━━━━━━━━━━━━┓\n",
       "┃\u001b[1m \u001b[0m\u001b[1mLayer (type)                   \u001b[0m\u001b[1m \u001b[0m┃\u001b[1m \u001b[0m\u001b[1mOutput Shape          \u001b[0m\u001b[1m \u001b[0m┃\u001b[1m \u001b[0m\u001b[1m      Param #\u001b[0m\u001b[1m \u001b[0m┃\n",
       "┡━━━━━━━━━━━━━━━━━━━━━━━━━━━━━━━━━╇━━━━━━━━━━━━━━━━━━━━━━━━╇━━━━━━━━━━━━━━━┩\n",
       "│ conv2d_6 (\u001b[38;5;33mConv2D\u001b[0m)               │ (\u001b[38;5;45mNone\u001b[0m, \u001b[38;5;34m197\u001b[0m, \u001b[38;5;34m197\u001b[0m, \u001b[38;5;34m64\u001b[0m)   │         \u001b[38;5;34m3,136\u001b[0m │\n",
       "├─────────────────────────────────┼────────────────────────┼───────────────┤\n",
       "│ max_pooling2d_3 (\u001b[38;5;33mMaxPooling2D\u001b[0m)  │ (\u001b[38;5;45mNone\u001b[0m, \u001b[38;5;34m65\u001b[0m, \u001b[38;5;34m65\u001b[0m, \u001b[38;5;34m64\u001b[0m)     │             \u001b[38;5;34m0\u001b[0m │\n",
       "├─────────────────────────────────┼────────────────────────┼───────────────┤\n",
       "│ batch_normalization_6           │ (\u001b[38;5;45mNone\u001b[0m, \u001b[38;5;34m65\u001b[0m, \u001b[38;5;34m65\u001b[0m, \u001b[38;5;34m64\u001b[0m)     │           \u001b[38;5;34m256\u001b[0m │\n",
       "│ (\u001b[38;5;33mBatchNormalization\u001b[0m)            │                        │               │\n",
       "├─────────────────────────────────┼────────────────────────┼───────────────┤\n",
       "│ conv2d_7 (\u001b[38;5;33mConv2D\u001b[0m)               │ (\u001b[38;5;45mNone\u001b[0m, \u001b[38;5;34m65\u001b[0m, \u001b[38;5;34m65\u001b[0m, \u001b[38;5;34m64\u001b[0m)     │        \u001b[38;5;34m36,928\u001b[0m │\n",
       "├─────────────────────────────────┼────────────────────────┼───────────────┤\n",
       "│ batch_normalization_7           │ (\u001b[38;5;45mNone\u001b[0m, \u001b[38;5;34m65\u001b[0m, \u001b[38;5;34m65\u001b[0m, \u001b[38;5;34m64\u001b[0m)     │           \u001b[38;5;34m256\u001b[0m │\n",
       "│ (\u001b[38;5;33mBatchNormalization\u001b[0m)            │                        │               │\n",
       "├─────────────────────────────────┼────────────────────────┼───────────────┤\n",
       "│ conv2d_8 (\u001b[38;5;33mConv2D\u001b[0m)               │ (\u001b[38;5;45mNone\u001b[0m, \u001b[38;5;34m65\u001b[0m, \u001b[38;5;34m65\u001b[0m, \u001b[38;5;34m64\u001b[0m)     │        \u001b[38;5;34m36,928\u001b[0m │\n",
       "├─────────────────────────────────┼────────────────────────┼───────────────┤\n",
       "│ max_pooling2d_4 (\u001b[38;5;33mMaxPooling2D\u001b[0m)  │ (\u001b[38;5;45mNone\u001b[0m, \u001b[38;5;34m21\u001b[0m, \u001b[38;5;34m21\u001b[0m, \u001b[38;5;34m64\u001b[0m)     │             \u001b[38;5;34m0\u001b[0m │\n",
       "├─────────────────────────────────┼────────────────────────┼───────────────┤\n",
       "│ dropout_2 (\u001b[38;5;33mDropout\u001b[0m)             │ (\u001b[38;5;45mNone\u001b[0m, \u001b[38;5;34m21\u001b[0m, \u001b[38;5;34m21\u001b[0m, \u001b[38;5;34m64\u001b[0m)     │             \u001b[38;5;34m0\u001b[0m │\n",
       "├─────────────────────────────────┼────────────────────────┼───────────────┤\n",
       "│ batch_normalization_8           │ (\u001b[38;5;45mNone\u001b[0m, \u001b[38;5;34m21\u001b[0m, \u001b[38;5;34m21\u001b[0m, \u001b[38;5;34m64\u001b[0m)     │           \u001b[38;5;34m256\u001b[0m │\n",
       "│ (\u001b[38;5;33mBatchNormalization\u001b[0m)            │                        │               │\n",
       "├─────────────────────────────────┼────────────────────────┼───────────────┤\n",
       "│ conv2d_9 (\u001b[38;5;33mConv2D\u001b[0m)               │ (\u001b[38;5;45mNone\u001b[0m, \u001b[38;5;34m21\u001b[0m, \u001b[38;5;34m21\u001b[0m, \u001b[38;5;34m64\u001b[0m)     │        \u001b[38;5;34m36,928\u001b[0m │\n",
       "├─────────────────────────────────┼────────────────────────┼───────────────┤\n",
       "│ batch_normalization_9           │ (\u001b[38;5;45mNone\u001b[0m, \u001b[38;5;34m21\u001b[0m, \u001b[38;5;34m21\u001b[0m, \u001b[38;5;34m64\u001b[0m)     │           \u001b[38;5;34m256\u001b[0m │\n",
       "│ (\u001b[38;5;33mBatchNormalization\u001b[0m)            │                        │               │\n",
       "├─────────────────────────────────┼────────────────────────┼───────────────┤\n",
       "│ conv2d_10 (\u001b[38;5;33mConv2D\u001b[0m)              │ (\u001b[38;5;45mNone\u001b[0m, \u001b[38;5;34m21\u001b[0m, \u001b[38;5;34m21\u001b[0m, \u001b[38;5;34m64\u001b[0m)     │        \u001b[38;5;34m36,928\u001b[0m │\n",
       "├─────────────────────────────────┼────────────────────────┼───────────────┤\n",
       "│ batch_normalization_10          │ (\u001b[38;5;45mNone\u001b[0m, \u001b[38;5;34m21\u001b[0m, \u001b[38;5;34m21\u001b[0m, \u001b[38;5;34m64\u001b[0m)     │           \u001b[38;5;34m256\u001b[0m │\n",
       "│ (\u001b[38;5;33mBatchNormalization\u001b[0m)            │                        │               │\n",
       "├─────────────────────────────────┼────────────────────────┼───────────────┤\n",
       "│ dropout_3 (\u001b[38;5;33mDropout\u001b[0m)             │ (\u001b[38;5;45mNone\u001b[0m, \u001b[38;5;34m21\u001b[0m, \u001b[38;5;34m21\u001b[0m, \u001b[38;5;34m64\u001b[0m)     │             \u001b[38;5;34m0\u001b[0m │\n",
       "├─────────────────────────────────┼────────────────────────┼───────────────┤\n",
       "│ conv2d_11 (\u001b[38;5;33mConv2D\u001b[0m)              │ (\u001b[38;5;45mNone\u001b[0m, \u001b[38;5;34m21\u001b[0m, \u001b[38;5;34m21\u001b[0m, \u001b[38;5;34m64\u001b[0m)     │        \u001b[38;5;34m36,928\u001b[0m │\n",
       "├─────────────────────────────────┼────────────────────────┼───────────────┤\n",
       "│ max_pooling2d_5 (\u001b[38;5;33mMaxPooling2D\u001b[0m)  │ (\u001b[38;5;45mNone\u001b[0m, \u001b[38;5;34m7\u001b[0m, \u001b[38;5;34m7\u001b[0m, \u001b[38;5;34m64\u001b[0m)       │             \u001b[38;5;34m0\u001b[0m │\n",
       "├─────────────────────────────────┼────────────────────────┼───────────────┤\n",
       "│ batch_normalization_11          │ (\u001b[38;5;45mNone\u001b[0m, \u001b[38;5;34m7\u001b[0m, \u001b[38;5;34m7\u001b[0m, \u001b[38;5;34m64\u001b[0m)       │           \u001b[38;5;34m256\u001b[0m │\n",
       "│ (\u001b[38;5;33mBatchNormalization\u001b[0m)            │                        │               │\n",
       "├─────────────────────────────────┼────────────────────────┼───────────────┤\n",
       "│ flatten_1 (\u001b[38;5;33mFlatten\u001b[0m)             │ (\u001b[38;5;45mNone\u001b[0m, \u001b[38;5;34m3136\u001b[0m)           │             \u001b[38;5;34m0\u001b[0m │\n",
       "├─────────────────────────────────┼────────────────────────┼───────────────┤\n",
       "│ dense_1 (\u001b[38;5;33mDense\u001b[0m)                 │ (\u001b[38;5;45mNone\u001b[0m, \u001b[38;5;34m4\u001b[0m)              │        \u001b[38;5;34m12,548\u001b[0m │\n",
       "└─────────────────────────────────┴────────────────────────┴───────────────┘\n"
      ]
     },
     "metadata": {},
     "output_type": "display_data"
    },
    {
     "data": {
      "text/html": [
       "<pre style=\"white-space:pre;overflow-x:auto;line-height:normal;font-family:Menlo,'DejaVu Sans Mono',consolas,'Courier New',monospace\"><span style=\"font-weight: bold\"> Total params: </span><span style=\"color: #00af00; text-decoration-color: #00af00\">201,860</span> (788.52 KB)\n",
       "</pre>\n"
      ],
      "text/plain": [
       "\u001b[1m Total params: \u001b[0m\u001b[38;5;34m201,860\u001b[0m (788.52 KB)\n"
      ]
     },
     "metadata": {},
     "output_type": "display_data"
    },
    {
     "data": {
      "text/html": [
       "<pre style=\"white-space:pre;overflow-x:auto;line-height:normal;font-family:Menlo,'DejaVu Sans Mono',consolas,'Courier New',monospace\"><span style=\"font-weight: bold\"> Trainable params: </span><span style=\"color: #00af00; text-decoration-color: #00af00\">201,092</span> (785.52 KB)\n",
       "</pre>\n"
      ],
      "text/plain": [
       "\u001b[1m Trainable params: \u001b[0m\u001b[38;5;34m201,092\u001b[0m (785.52 KB)\n"
      ]
     },
     "metadata": {},
     "output_type": "display_data"
    },
    {
     "data": {
      "text/html": [
       "<pre style=\"white-space:pre;overflow-x:auto;line-height:normal;font-family:Menlo,'DejaVu Sans Mono',consolas,'Courier New',monospace\"><span style=\"font-weight: bold\"> Non-trainable params: </span><span style=\"color: #00af00; text-decoration-color: #00af00\">768</span> (3.00 KB)\n",
       "</pre>\n"
      ],
      "text/plain": [
       "\u001b[1m Non-trainable params: \u001b[0m\u001b[38;5;34m768\u001b[0m (3.00 KB)\n"
      ]
     },
     "metadata": {},
     "output_type": "display_data"
    }
   ],
   "source": [
    "\n",
    "hypermodel = tunner.hypermodel.build(best_hps)\n",
    "\n",
    "hypermodel.summary()"
   ]
  },
  {
   "cell_type": "markdown",
   "metadata": {},
   "source": [
    "## 14. Hiperparametre Optimizasyonlu Modelin Eğitimi ve Performans Raporu\n",
    "\n",
    "- **Eğitim Konfigürasyonu**  \n",
    "  - `epochs=75`  \n",
    "  - Callback: `ModelCheckpoint('tunnig_model.h5', save_best_only=True, monitor='val_accuracy')`\n",
    "\n",
    "- **Son Epoch (75) Sonuçları**  \n",
    "  - Eğitim doğruluğu: **86.81 %**  \n",
    "  - Eğitim kaybı: **0.4009**  \n",
    "  - Doğrulama doğruluğu: **89.29 %** (önceki en iyi %88.10’dan yükseldi)  \n",
    "  - Doğrulama kaybı: **0.4096**  \n",
    "  - Model, 75. epoch’ta `/content/results/tunnig_model.h5` olarak kaydedildi.\n",
    "\n",
    "- **Test Seti Değerlendirmesi**  \n",
    "  ```python\n",
    "  acc, loss = hypermodel.evaluate(test_generator)\n",
    "  print(f'Test doğruluğu: {acc:.4f}, Test kaybı: {loss:.4f}')\n",
    "  # → Test doğruluğu: 0.8750, Test kaybı: 0.3943\n"
   ]
  },
  {
   "cell_type": "code",
   "execution_count": 38,
   "metadata": {
    "colab": {
     "base_uri": "https://localhost:8080/"
    },
    "executionInfo": {
     "elapsed": 691015,
     "status": "ok",
     "timestamp": 1746528626052,
     "user": {
      "displayName": "Kerem Kartal",
      "userId": "01578238521874098470"
     },
     "user_tz": -180
    },
    "id": "s91XNs9SJ_tK",
    "outputId": "7147a68d-a074-4761-bc06-5743d067c000"
   },
   "outputs": [
    {
     "name": "stdout",
     "output_type": "stream",
     "text": [
      "Epoch 1/75\n",
      "\u001b[1m24/24\u001b[0m \u001b[32m━━━━━━━━━━━━━━━━━━━━\u001b[0m\u001b[37m\u001b[0m \u001b[1m0s\u001b[0m 515ms/step - accuracy: 0.2912 - loss: 12.1543\n",
      "Epoch 1: val_accuracy improved from -inf to 0.43651, saving model to /content/results/tunnig_model.h5\n"
     ]
    },
    {
     "name": "stderr",
     "output_type": "stream",
     "text": [
      "WARNING:absl:You are saving your model as an HDF5 file via `model.save()` or `keras.saving.save_model(model)`. This file format is considered legacy. We recommend using instead the native Keras format, e.g. `model.save('my_model.keras')` or `keras.saving.save_model(model, 'my_model.keras')`. \n"
     ]
    },
    {
     "name": "stdout",
     "output_type": "stream",
     "text": [
      "\b\b\b\b\b\b\b\b\b\b\b\b\b\b\b\b\b\b\b\b\b\b\b\b\b\b\b\b\b\b\b\b\b\b\b\b\b\b\b\b\b\b\b\b\b\b\b\b\b\b\b\b\b\b\b\b\b\b\b\b\b\b\b\b\b\b\b\b\b\b\b\b\b\b\b\r\u001b[1m24/24\u001b[0m \u001b[32m━━━━━━━━━━━━━━━━━━━━\u001b[0m\u001b[37m\u001b[0m \u001b[1m22s\u001b[0m 622ms/step - accuracy: 0.2924 - loss: 12.1053 - val_accuracy: 0.4365 - val_loss: 132.7208\n",
      "Epoch 2/75\n",
      "\u001b[1m24/24\u001b[0m \u001b[32m━━━━━━━━━━━━━━━━━━━━\u001b[0m\u001b[37m\u001b[0m \u001b[1m0s\u001b[0m 329ms/step - accuracy: 0.3412 - loss: 6.8896\n",
      "Epoch 2: val_accuracy did not improve from 0.43651\n",
      "\u001b[1m24/24\u001b[0m \u001b[32m━━━━━━━━━━━━━━━━━━━━\u001b[0m\u001b[37m\u001b[0m \u001b[1m9s\u001b[0m 362ms/step - accuracy: 0.3427 - loss: 6.7979 - val_accuracy: 0.2857 - val_loss: 36.6582\n",
      "Epoch 3/75\n",
      "\u001b[1m24/24\u001b[0m \u001b[32m━━━━━━━━━━━━━━━━━━━━\u001b[0m\u001b[37m\u001b[0m \u001b[1m0s\u001b[0m 376ms/step - accuracy: 0.4537 - loss: 2.6065\n",
      "Epoch 3: val_accuracy did not improve from 0.43651\n",
      "\u001b[1m24/24\u001b[0m \u001b[32m━━━━━━━━━━━━━━━━━━━━\u001b[0m\u001b[37m\u001b[0m \u001b[1m10s\u001b[0m 409ms/step - accuracy: 0.4535 - loss: 2.6151 - val_accuracy: 0.2778 - val_loss: 18.7012\n",
      "Epoch 4/75\n",
      "\u001b[1m24/24\u001b[0m \u001b[32m━━━━━━━━━━━━━━━━━━━━\u001b[0m\u001b[37m\u001b[0m \u001b[1m0s\u001b[0m 342ms/step - accuracy: 0.4547 - loss: 2.2156\n",
      "Epoch 4: val_accuracy improved from 0.43651 to 0.50397, saving model to /content/results/tunnig_model.h5\n"
     ]
    },
    {
     "name": "stderr",
     "output_type": "stream",
     "text": [
      "WARNING:absl:You are saving your model as an HDF5 file via `model.save()` or `keras.saving.save_model(model)`. This file format is considered legacy. We recommend using instead the native Keras format, e.g. `model.save('my_model.keras')` or `keras.saving.save_model(model, 'my_model.keras')`. \n"
     ]
    },
    {
     "name": "stdout",
     "output_type": "stream",
     "text": [
      "\b\b\b\b\b\b\b\b\b\b\b\b\b\b\b\b\b\b\b\b\b\b\b\b\b\b\b\b\b\b\b\b\b\b\b\b\b\b\b\b\b\b\b\b\b\b\b\b\b\b\b\b\b\b\b\b\b\b\b\b\b\b\b\b\b\b\b\b\b\b\b\b\b\b\r\u001b[1m24/24\u001b[0m \u001b[32m━━━━━━━━━━━━━━━━━━━━\u001b[0m\u001b[37m\u001b[0m \u001b[1m9s\u001b[0m 377ms/step - accuracy: 0.4547 - loss: 2.2254 - val_accuracy: 0.5040 - val_loss: 2.1375\n",
      "Epoch 5/75\n",
      "\u001b[1m24/24\u001b[0m \u001b[32m━━━━━━━━━━━━━━━━━━━━\u001b[0m\u001b[37m\u001b[0m \u001b[1m0s\u001b[0m 342ms/step - accuracy: 0.4850 - loss: 2.1463\n",
      "Epoch 5: val_accuracy improved from 0.50397 to 0.59127, saving model to /content/results/tunnig_model.h5\n"
     ]
    },
    {
     "name": "stderr",
     "output_type": "stream",
     "text": [
      "WARNING:absl:You are saving your model as an HDF5 file via `model.save()` or `keras.saving.save_model(model)`. This file format is considered legacy. We recommend using instead the native Keras format, e.g. `model.save('my_model.keras')` or `keras.saving.save_model(model, 'my_model.keras')`. \n"
     ]
    },
    {
     "name": "stdout",
     "output_type": "stream",
     "text": [
      "\b\b\b\b\b\b\b\b\b\b\b\b\b\b\b\b\b\b\b\b\b\b\b\b\b\b\b\b\b\b\b\b\b\b\b\b\b\b\b\b\b\b\b\b\b\b\b\b\b\b\b\b\b\b\b\b\b\b\b\b\b\b\b\b\b\b\b\b\b\b\b\b\b\b\r\u001b[1m24/24\u001b[0m \u001b[32m━━━━━━━━━━━━━━━━━━━━\u001b[0m\u001b[37m\u001b[0m \u001b[1m9s\u001b[0m 384ms/step - accuracy: 0.4851 - loss: 2.1455 - val_accuracy: 0.5913 - val_loss: 1.4490\n",
      "Epoch 6/75\n",
      "\u001b[1m24/24\u001b[0m \u001b[32m━━━━━━━━━━━━━━━━━━━━\u001b[0m\u001b[37m\u001b[0m \u001b[1m0s\u001b[0m 349ms/step - accuracy: 0.4584 - loss: 1.7991\n",
      "Epoch 6: val_accuracy did not improve from 0.59127\n",
      "\u001b[1m24/24\u001b[0m \u001b[32m━━━━━━━━━━━━━━━━━━━━\u001b[0m\u001b[37m\u001b[0m \u001b[1m9s\u001b[0m 385ms/step - accuracy: 0.4585 - loss: 1.7970 - val_accuracy: 0.3175 - val_loss: 2.2332\n",
      "Epoch 7/75\n",
      "\u001b[1m24/24\u001b[0m \u001b[32m━━━━━━━━━━━━━━━━━━━━\u001b[0m\u001b[37m\u001b[0m \u001b[1m0s\u001b[0m 327ms/step - accuracy: 0.4883 - loss: 1.6343\n",
      "Epoch 7: val_accuracy did not improve from 0.59127\n",
      "\u001b[1m24/24\u001b[0m \u001b[32m━━━━━━━━━━━━━━━━━━━━\u001b[0m\u001b[37m\u001b[0m \u001b[1m9s\u001b[0m 364ms/step - accuracy: 0.4883 - loss: 1.6376 - val_accuracy: 0.5913 - val_loss: 1.2228\n",
      "Epoch 8/75\n",
      "\u001b[1m24/24\u001b[0m \u001b[32m━━━━━━━━━━━━━━━━━━━━\u001b[0m\u001b[37m\u001b[0m \u001b[1m0s\u001b[0m 340ms/step - accuracy: 0.5316 - loss: 1.5009\n",
      "Epoch 8: val_accuracy did not improve from 0.59127\n",
      "\u001b[1m24/24\u001b[0m \u001b[32m━━━━━━━━━━━━━━━━━━━━\u001b[0m\u001b[37m\u001b[0m \u001b[1m9s\u001b[0m 372ms/step - accuracy: 0.5312 - loss: 1.5031 - val_accuracy: 0.4444 - val_loss: 1.7034\n",
      "Epoch 9/75\n",
      "\u001b[1m24/24\u001b[0m \u001b[32m━━━━━━━━━━━━━━━━━━━━\u001b[0m\u001b[37m\u001b[0m \u001b[1m0s\u001b[0m 339ms/step - accuracy: 0.5464 - loss: 1.2659\n",
      "Epoch 9: val_accuracy did not improve from 0.59127\n",
      "\u001b[1m24/24\u001b[0m \u001b[32m━━━━━━━━━━━━━━━━━━━━\u001b[0m\u001b[37m\u001b[0m \u001b[1m9s\u001b[0m 370ms/step - accuracy: 0.5466 - loss: 1.2665 - val_accuracy: 0.3770 - val_loss: 1.4969\n",
      "Epoch 10/75\n",
      "\u001b[1m24/24\u001b[0m \u001b[32m━━━━━━━━━━━━━━━━━━━━\u001b[0m\u001b[37m\u001b[0m \u001b[1m0s\u001b[0m 328ms/step - accuracy: 0.5924 - loss: 1.1757\n",
      "Epoch 10: val_accuracy did not improve from 0.59127\n",
      "\u001b[1m24/24\u001b[0m \u001b[32m━━━━━━━━━━━━━━━━━━━━\u001b[0m\u001b[37m\u001b[0m \u001b[1m9s\u001b[0m 360ms/step - accuracy: 0.5917 - loss: 1.1760 - val_accuracy: 0.5079 - val_loss: 1.2948\n",
      "Epoch 11/75\n",
      "\u001b[1m23/24\u001b[0m \u001b[32m━━━━━━━━━━━━━━━━━━━\u001b[0m\u001b[37m━\u001b[0m \u001b[1m0s\u001b[0m 347ms/step - accuracy: 0.5881 - loss: 1.1173\n",
      "Epoch 11: val_accuracy did not improve from 0.59127\n",
      "\u001b[1m24/24\u001b[0m \u001b[32m━━━━━━━━━━━━━━━━━━━━\u001b[0m\u001b[37m\u001b[0m \u001b[1m9s\u001b[0m 363ms/step - accuracy: 0.5885 - loss: 1.1141 - val_accuracy: 0.2817 - val_loss: 2.2655\n",
      "Epoch 12/75\n",
      "\u001b[1m24/24\u001b[0m \u001b[32m━━━━━━━━━━━━━━━━━━━━\u001b[0m\u001b[37m\u001b[0m \u001b[1m0s\u001b[0m 348ms/step - accuracy: 0.5631 - loss: 1.1987\n",
      "Epoch 12: val_accuracy did not improve from 0.59127\n",
      "\u001b[1m24/24\u001b[0m \u001b[32m━━━━━━━━━━━━━━━━━━━━\u001b[0m\u001b[37m\u001b[0m \u001b[1m9s\u001b[0m 380ms/step - accuracy: 0.5648 - loss: 1.1936 - val_accuracy: 0.3571 - val_loss: 1.4370\n",
      "Epoch 13/75\n",
      "\u001b[1m24/24\u001b[0m \u001b[32m━━━━━━━━━━━━━━━━━━━━\u001b[0m\u001b[37m\u001b[0m \u001b[1m0s\u001b[0m 338ms/step - accuracy: 0.6376 - loss: 0.9513\n",
      "Epoch 13: val_accuracy did not improve from 0.59127\n",
      "\u001b[1m24/24\u001b[0m \u001b[32m━━━━━━━━━━━━━━━━━━━━\u001b[0m\u001b[37m\u001b[0m \u001b[1m9s\u001b[0m 368ms/step - accuracy: 0.6372 - loss: 0.9530 - val_accuracy: 0.4643 - val_loss: 1.4354\n",
      "Epoch 14/75\n",
      "\u001b[1m24/24\u001b[0m \u001b[32m━━━━━━━━━━━━━━━━━━━━\u001b[0m\u001b[37m\u001b[0m \u001b[1m0s\u001b[0m 347ms/step - accuracy: 0.6692 - loss: 0.9265\n",
      "Epoch 14: val_accuracy improved from 0.59127 to 0.64683, saving model to /content/results/tunnig_model.h5\n"
     ]
    },
    {
     "name": "stderr",
     "output_type": "stream",
     "text": [
      "WARNING:absl:You are saving your model as an HDF5 file via `model.save()` or `keras.saving.save_model(model)`. This file format is considered legacy. We recommend using instead the native Keras format, e.g. `model.save('my_model.keras')` or `keras.saving.save_model(model, 'my_model.keras')`. \n"
     ]
    },
    {
     "name": "stdout",
     "output_type": "stream",
     "text": [
      "\b\b\b\b\b\b\b\b\b\b\b\b\b\b\b\b\b\b\b\b\b\b\b\b\b\b\b\b\b\b\b\b\b\b\b\b\b\b\b\b\b\b\b\b\b\b\b\b\b\b\b\b\b\b\b\b\b\b\b\b\b\b\b\b\b\b\b\b\b\b\b\b\b\b\r\u001b[1m24/24\u001b[0m \u001b[32m━━━━━━━━━━━━━━━━━━━━\u001b[0m\u001b[37m\u001b[0m \u001b[1m9s\u001b[0m 385ms/step - accuracy: 0.6685 - loss: 0.9268 - val_accuracy: 0.6468 - val_loss: 0.9419\n",
      "Epoch 15/75\n",
      "\u001b[1m24/24\u001b[0m \u001b[32m━━━━━━━━━━━━━━━━━━━━\u001b[0m\u001b[37m\u001b[0m \u001b[1m0s\u001b[0m 346ms/step - accuracy: 0.6689 - loss: 0.9117\n",
      "Epoch 15: val_accuracy did not improve from 0.64683\n",
      "\u001b[1m24/24\u001b[0m \u001b[32m━━━━━━━━━━━━━━━━━━━━\u001b[0m\u001b[37m\u001b[0m \u001b[1m9s\u001b[0m 383ms/step - accuracy: 0.6691 - loss: 0.9130 - val_accuracy: 0.5119 - val_loss: 1.1114\n",
      "Epoch 16/75\n",
      "\u001b[1m24/24\u001b[0m \u001b[32m━━━━━━━━━━━━━━━━━━━━\u001b[0m\u001b[37m\u001b[0m \u001b[1m0s\u001b[0m 338ms/step - accuracy: 0.6831 - loss: 0.8595\n",
      "Epoch 16: val_accuracy did not improve from 0.64683\n",
      "\u001b[1m24/24\u001b[0m \u001b[32m━━━━━━━━━━━━━━━━━━━━\u001b[0m\u001b[37m\u001b[0m \u001b[1m9s\u001b[0m 372ms/step - accuracy: 0.6836 - loss: 0.8597 - val_accuracy: 0.3333 - val_loss: 1.8375\n",
      "Epoch 17/75\n",
      "\u001b[1m24/24\u001b[0m \u001b[32m━━━━━━━━━━━━━━━━━━━━\u001b[0m\u001b[37m\u001b[0m \u001b[1m0s\u001b[0m 345ms/step - accuracy: 0.7047 - loss: 0.7965\n",
      "Epoch 17: val_accuracy did not improve from 0.64683\n",
      "\u001b[1m24/24\u001b[0m \u001b[32m━━━━━━━━━━━━━━━━━━━━\u001b[0m\u001b[37m\u001b[0m \u001b[1m9s\u001b[0m 378ms/step - accuracy: 0.7049 - loss: 0.7970 - val_accuracy: 0.2857 - val_loss: 1.9420\n",
      "Epoch 18/75\n",
      "\u001b[1m24/24\u001b[0m \u001b[32m━━━━━━━━━━━━━━━━━━━━\u001b[0m\u001b[37m\u001b[0m \u001b[1m0s\u001b[0m 330ms/step - accuracy: 0.6964 - loss: 0.8589\n",
      "Epoch 18: val_accuracy did not improve from 0.64683\n",
      "\u001b[1m24/24\u001b[0m \u001b[32m━━━━━━━━━━━━━━━━━━━━\u001b[0m\u001b[37m\u001b[0m \u001b[1m9s\u001b[0m 362ms/step - accuracy: 0.6970 - loss: 0.8578 - val_accuracy: 0.3294 - val_loss: 1.5774\n",
      "Epoch 19/75\n",
      "\u001b[1m24/24\u001b[0m \u001b[32m━━━━━━━━━━━━━━━━━━━━\u001b[0m\u001b[37m\u001b[0m \u001b[1m0s\u001b[0m 325ms/step - accuracy: 0.7431 - loss: 0.7358\n",
      "Epoch 19: val_accuracy improved from 0.64683 to 0.66270, saving model to /content/results/tunnig_model.h5\n"
     ]
    },
    {
     "name": "stderr",
     "output_type": "stream",
     "text": [
      "WARNING:absl:You are saving your model as an HDF5 file via `model.save()` or `keras.saving.save_model(model)`. This file format is considered legacy. We recommend using instead the native Keras format, e.g. `model.save('my_model.keras')` or `keras.saving.save_model(model, 'my_model.keras')`. \n"
     ]
    },
    {
     "name": "stdout",
     "output_type": "stream",
     "text": [
      "\b\b\b\b\b\b\b\b\b\b\b\b\b\b\b\b\b\b\b\b\b\b\b\b\b\b\b\b\b\b\b\b\b\b\b\b\b\b\b\b\b\b\b\b\b\b\b\b\b\b\b\b\b\b\b\b\b\b\b\b\b\b\b\b\b\b\b\b\b\b\b\b\b\b\r\u001b[1m24/24\u001b[0m \u001b[32m━━━━━━━━━━━━━━━━━━━━\u001b[0m\u001b[37m\u001b[0m \u001b[1m9s\u001b[0m 360ms/step - accuracy: 0.7422 - loss: 0.7381 - val_accuracy: 0.6627 - val_loss: 1.1825\n",
      "Epoch 20/75\n",
      "\u001b[1m24/24\u001b[0m \u001b[32m━━━━━━━━━━━━━━━━━━━━\u001b[0m\u001b[37m\u001b[0m \u001b[1m0s\u001b[0m 334ms/step - accuracy: 0.7556 - loss: 0.7177\n",
      "Epoch 20: val_accuracy improved from 0.66270 to 0.77381, saving model to /content/results/tunnig_model.h5\n"
     ]
    },
    {
     "name": "stderr",
     "output_type": "stream",
     "text": [
      "WARNING:absl:You are saving your model as an HDF5 file via `model.save()` or `keras.saving.save_model(model)`. This file format is considered legacy. We recommend using instead the native Keras format, e.g. `model.save('my_model.keras')` or `keras.saving.save_model(model, 'my_model.keras')`. \n"
     ]
    },
    {
     "name": "stdout",
     "output_type": "stream",
     "text": [
      "\b\b\b\b\b\b\b\b\b\b\b\b\b\b\b\b\b\b\b\b\b\b\b\b\b\b\b\b\b\b\b\b\b\b\b\b\b\b\b\b\b\b\b\b\b\b\b\b\b\b\b\b\b\b\b\b\b\b\b\b\b\b\b\b\b\b\b\b\b\b\b\b\b\b\r\u001b[1m24/24\u001b[0m \u001b[32m━━━━━━━━━━━━━━━━━━━━\u001b[0m\u001b[37m\u001b[0m \u001b[1m9s\u001b[0m 369ms/step - accuracy: 0.7555 - loss: 0.7170 - val_accuracy: 0.7738 - val_loss: 0.7170\n",
      "Epoch 21/75\n",
      "\u001b[1m24/24\u001b[0m \u001b[32m━━━━━━━━━━━━━━━━━━━━\u001b[0m\u001b[37m\u001b[0m \u001b[1m0s\u001b[0m 340ms/step - accuracy: 0.7671 - loss: 0.6869\n",
      "Epoch 21: val_accuracy did not improve from 0.77381\n",
      "\u001b[1m24/24\u001b[0m \u001b[32m━━━━━━━━━━━━━━━━━━━━\u001b[0m\u001b[37m\u001b[0m \u001b[1m9s\u001b[0m 372ms/step - accuracy: 0.7672 - loss: 0.6873 - val_accuracy: 0.4603 - val_loss: 1.2500\n",
      "Epoch 22/75\n",
      "\u001b[1m24/24\u001b[0m \u001b[32m━━━━━━━━━━━━━━━━━━━━\u001b[0m\u001b[37m\u001b[0m \u001b[1m0s\u001b[0m 330ms/step - accuracy: 0.7975 - loss: 0.6033\n",
      "Epoch 22: val_accuracy did not improve from 0.77381\n",
      "\u001b[1m24/24\u001b[0m \u001b[32m━━━━━━━━━━━━━━━━━━━━\u001b[0m\u001b[37m\u001b[0m \u001b[1m9s\u001b[0m 367ms/step - accuracy: 0.7969 - loss: 0.6048 - val_accuracy: 0.5556 - val_loss: 1.0219\n",
      "Epoch 23/75\n",
      "\u001b[1m24/24\u001b[0m \u001b[32m━━━━━━━━━━━━━━━━━━━━\u001b[0m\u001b[37m\u001b[0m \u001b[1m0s\u001b[0m 338ms/step - accuracy: 0.7719 - loss: 0.6652\n",
      "Epoch 23: val_accuracy did not improve from 0.77381\n",
      "\u001b[1m24/24\u001b[0m \u001b[32m━━━━━━━━━━━━━━━━━━━━\u001b[0m\u001b[37m\u001b[0m \u001b[1m9s\u001b[0m 369ms/step - accuracy: 0.7725 - loss: 0.6639 - val_accuracy: 0.6825 - val_loss: 0.7655\n",
      "Epoch 24/75\n",
      "\u001b[1m24/24\u001b[0m \u001b[32m━━━━━━━━━━━━━━━━━━━━\u001b[0m\u001b[37m\u001b[0m \u001b[1m0s\u001b[0m 338ms/step - accuracy: 0.7878 - loss: 0.6013\n",
      "Epoch 24: val_accuracy improved from 0.77381 to 0.79762, saving model to /content/results/tunnig_model.h5\n"
     ]
    },
    {
     "name": "stderr",
     "output_type": "stream",
     "text": [
      "WARNING:absl:You are saving your model as an HDF5 file via `model.save()` or `keras.saving.save_model(model)`. This file format is considered legacy. We recommend using instead the native Keras format, e.g. `model.save('my_model.keras')` or `keras.saving.save_model(model, 'my_model.keras')`. \n"
     ]
    },
    {
     "name": "stdout",
     "output_type": "stream",
     "text": [
      "\b\b\b\b\b\b\b\b\b\b\b\b\b\b\b\b\b\b\b\b\b\b\b\b\b\b\b\b\b\b\b\b\b\b\b\b\b\b\b\b\b\b\b\b\b\b\b\b\b\b\b\b\b\b\b\b\b\b\b\b\b\b\b\b\b\b\b\b\b\b\b\b\b\b\r\u001b[1m24/24\u001b[0m \u001b[32m━━━━━━━━━━━━━━━━━━━━\u001b[0m\u001b[37m\u001b[0m \u001b[1m9s\u001b[0m 374ms/step - accuracy: 0.7870 - loss: 0.6047 - val_accuracy: 0.7976 - val_loss: 0.6252\n",
      "Epoch 25/75\n",
      "\u001b[1m24/24\u001b[0m \u001b[32m━━━━━━━━━━━━━━━━━━━━\u001b[0m\u001b[37m\u001b[0m \u001b[1m0s\u001b[0m 334ms/step - accuracy: 0.8178 - loss: 0.5464\n",
      "Epoch 25: val_accuracy did not improve from 0.79762\n",
      "\u001b[1m24/24\u001b[0m \u001b[32m━━━━━━━━━━━━━━━━━━━━\u001b[0m\u001b[37m\u001b[0m \u001b[1m9s\u001b[0m 364ms/step - accuracy: 0.8175 - loss: 0.5469 - val_accuracy: 0.7817 - val_loss: 0.5870\n",
      "Epoch 26/75\n",
      "\u001b[1m23/24\u001b[0m \u001b[32m━━━━━━━━━━━━━━━━━━━\u001b[0m\u001b[37m━\u001b[0m \u001b[1m0s\u001b[0m 342ms/step - accuracy: 0.8246 - loss: 0.5337\n",
      "Epoch 26: val_accuracy did not improve from 0.79762\n",
      "\u001b[1m24/24\u001b[0m \u001b[32m━━━━━━━━━━━━━━━━━━━━\u001b[0m\u001b[37m\u001b[0m \u001b[1m9s\u001b[0m 363ms/step - accuracy: 0.8234 - loss: 0.5360 - val_accuracy: 0.6865 - val_loss: 0.8157\n",
      "Epoch 27/75\n",
      "\u001b[1m24/24\u001b[0m \u001b[32m━━━━━━━━━━━━━━━━━━━━\u001b[0m\u001b[37m\u001b[0m \u001b[1m0s\u001b[0m 340ms/step - accuracy: 0.8193 - loss: 0.5296\n",
      "Epoch 27: val_accuracy improved from 0.79762 to 0.81349, saving model to /content/results/tunnig_model.h5\n"
     ]
    },
    {
     "name": "stderr",
     "output_type": "stream",
     "text": [
      "WARNING:absl:You are saving your model as an HDF5 file via `model.save()` or `keras.saving.save_model(model)`. This file format is considered legacy. We recommend using instead the native Keras format, e.g. `model.save('my_model.keras')` or `keras.saving.save_model(model, 'my_model.keras')`. \n"
     ]
    },
    {
     "name": "stdout",
     "output_type": "stream",
     "text": [
      "\b\b\b\b\b\b\b\b\b\b\b\b\b\b\b\b\b\b\b\b\b\b\b\b\b\b\b\b\b\b\b\b\b\b\b\b\b\b\b\b\b\b\b\b\b\b\b\b\b\b\b\b\b\b\b\b\b\b\b\b\b\b\b\b\b\b\b\b\b\b\b\b\b\b\r\u001b[1m24/24\u001b[0m \u001b[32m━━━━━━━━━━━━━━━━━━━━\u001b[0m\u001b[37m\u001b[0m \u001b[1m9s\u001b[0m 377ms/step - accuracy: 0.8189 - loss: 0.5318 - val_accuracy: 0.8135 - val_loss: 0.6195\n",
      "Epoch 28/75\n",
      "\u001b[1m24/24\u001b[0m \u001b[32m━━━━━━━━━━━━━━━━━━━━\u001b[0m\u001b[37m\u001b[0m \u001b[1m0s\u001b[0m 346ms/step - accuracy: 0.8136 - loss: 0.5564\n",
      "Epoch 28: val_accuracy did not improve from 0.81349\n",
      "\u001b[1m24/24\u001b[0m \u001b[32m━━━━━━━━━━━━━━━━━━━━\u001b[0m\u001b[37m\u001b[0m \u001b[1m9s\u001b[0m 378ms/step - accuracy: 0.8139 - loss: 0.5554 - val_accuracy: 0.7460 - val_loss: 0.6776\n",
      "Epoch 29/75\n",
      "\u001b[1m23/24\u001b[0m \u001b[32m━━━━━━━━━━━━━━━━━━━\u001b[0m\u001b[37m━\u001b[0m \u001b[1m0s\u001b[0m 345ms/step - accuracy: 0.8082 - loss: 0.5388\n",
      "Epoch 29: val_accuracy did not improve from 0.81349\n",
      "\u001b[1m24/24\u001b[0m \u001b[32m━━━━━━━━━━━━━━━━━━━━\u001b[0m\u001b[37m\u001b[0m \u001b[1m9s\u001b[0m 361ms/step - accuracy: 0.8084 - loss: 0.5391 - val_accuracy: 0.5159 - val_loss: 1.6677\n",
      "Epoch 30/75\n",
      "\u001b[1m24/24\u001b[0m \u001b[32m━━━━━━━━━━━━━━━━━━━━\u001b[0m\u001b[37m\u001b[0m \u001b[1m0s\u001b[0m 337ms/step - accuracy: 0.7787 - loss: 0.6739\n",
      "Epoch 30: val_accuracy improved from 0.81349 to 0.82540, saving model to /content/results/tunnig_model.h5\n"
     ]
    },
    {
     "name": "stderr",
     "output_type": "stream",
     "text": [
      "WARNING:absl:You are saving your model as an HDF5 file via `model.save()` or `keras.saving.save_model(model)`. This file format is considered legacy. We recommend using instead the native Keras format, e.g. `model.save('my_model.keras')` or `keras.saving.save_model(model, 'my_model.keras')`. \n"
     ]
    },
    {
     "name": "stdout",
     "output_type": "stream",
     "text": [
      "\b\b\b\b\b\b\b\b\b\b\b\b\b\b\b\b\b\b\b\b\b\b\b\b\b\b\b\b\b\b\b\b\b\b\b\b\b\b\b\b\b\b\b\b\b\b\b\b\b\b\b\b\b\b\b\b\b\b\b\b\b\b\b\b\b\b\b\b\b\b\b\b\b\b\r\u001b[1m24/24\u001b[0m \u001b[32m━━━━━━━━━━━━━━━━━━━━\u001b[0m\u001b[37m\u001b[0m \u001b[1m9s\u001b[0m 375ms/step - accuracy: 0.7802 - loss: 0.6688 - val_accuracy: 0.8254 - val_loss: 0.5232\n",
      "Epoch 31/75\n",
      "\u001b[1m24/24\u001b[0m \u001b[32m━━━━━━━━━━━━━━━━━━━━\u001b[0m\u001b[37m\u001b[0m \u001b[1m0s\u001b[0m 335ms/step - accuracy: 0.8369 - loss: 0.5205\n",
      "Epoch 31: val_accuracy did not improve from 0.82540\n",
      "\u001b[1m24/24\u001b[0m \u001b[32m━━━━━━━━━━━━━━━━━━━━\u001b[0m\u001b[37m\u001b[0m \u001b[1m9s\u001b[0m 371ms/step - accuracy: 0.8364 - loss: 0.5213 - val_accuracy: 0.8095 - val_loss: 0.5408\n",
      "Epoch 32/75\n",
      "\u001b[1m24/24\u001b[0m \u001b[32m━━━━━━━━━━━━━━━━━━━━\u001b[0m\u001b[37m\u001b[0m \u001b[1m0s\u001b[0m 335ms/step - accuracy: 0.8597 - loss: 0.4464\n",
      "Epoch 32: val_accuracy improved from 0.82540 to 0.82937, saving model to /content/results/tunnig_model.h5\n"
     ]
    },
    {
     "name": "stderr",
     "output_type": "stream",
     "text": [
      "WARNING:absl:You are saving your model as an HDF5 file via `model.save()` or `keras.saving.save_model(model)`. This file format is considered legacy. We recommend using instead the native Keras format, e.g. `model.save('my_model.keras')` or `keras.saving.save_model(model, 'my_model.keras')`. \n"
     ]
    },
    {
     "name": "stdout",
     "output_type": "stream",
     "text": [
      "\b\b\b\b\b\b\b\b\b\b\b\b\b\b\b\b\b\b\b\b\b\b\b\b\b\b\b\b\b\b\b\b\b\b\b\b\b\b\b\b\b\b\b\b\b\b\b\b\b\b\b\b\b\b\b\b\b\b\b\b\b\b\b\b\b\b\b\b\b\b\b\b\b\b\r\u001b[1m24/24\u001b[0m \u001b[32m━━━━━━━━━━━━━━━━━━━━\u001b[0m\u001b[37m\u001b[0m \u001b[1m9s\u001b[0m 371ms/step - accuracy: 0.8591 - loss: 0.4470 - val_accuracy: 0.8294 - val_loss: 0.4776\n",
      "Epoch 33/75\n",
      "\u001b[1m24/24\u001b[0m \u001b[32m━━━━━━━━━━━━━━━━━━━━\u001b[0m\u001b[37m\u001b[0m \u001b[1m0s\u001b[0m 336ms/step - accuracy: 0.8316 - loss: 0.4925\n",
      "Epoch 33: val_accuracy did not improve from 0.82937\n",
      "\u001b[1m24/24\u001b[0m \u001b[32m━━━━━━━━━━━━━━━━━━━━\u001b[0m\u001b[37m\u001b[0m \u001b[1m9s\u001b[0m 368ms/step - accuracy: 0.8313 - loss: 0.4931 - val_accuracy: 0.7857 - val_loss: 0.5737\n",
      "Epoch 34/75\n",
      "\u001b[1m24/24\u001b[0m \u001b[32m━━━━━━━━━━━━━━━━━━━━\u001b[0m\u001b[37m\u001b[0m \u001b[1m0s\u001b[0m 335ms/step - accuracy: 0.8484 - loss: 0.4609\n",
      "Epoch 34: val_accuracy did not improve from 0.82937\n",
      "\u001b[1m24/24\u001b[0m \u001b[32m━━━━━━━━━━━━━━━━━━━━\u001b[0m\u001b[37m\u001b[0m \u001b[1m9s\u001b[0m 369ms/step - accuracy: 0.8480 - loss: 0.4621 - val_accuracy: 0.7897 - val_loss: 0.5752\n",
      "Epoch 35/75\n",
      "\u001b[1m24/24\u001b[0m \u001b[32m━━━━━━━━━━━━━━━━━━━━\u001b[0m\u001b[37m\u001b[0m \u001b[1m0s\u001b[0m 346ms/step - accuracy: 0.8545 - loss: 0.4537\n",
      "Epoch 35: val_accuracy did not improve from 0.82937\n",
      "\u001b[1m24/24\u001b[0m \u001b[32m━━━━━━━━━━━━━━━━━━━━\u001b[0m\u001b[37m\u001b[0m \u001b[1m9s\u001b[0m 378ms/step - accuracy: 0.8538 - loss: 0.4555 - val_accuracy: 0.8175 - val_loss: 0.5606\n",
      "Epoch 36/75\n",
      "\u001b[1m24/24\u001b[0m \u001b[32m━━━━━━━━━━━━━━━━━━━━\u001b[0m\u001b[37m\u001b[0m \u001b[1m0s\u001b[0m 331ms/step - accuracy: 0.8608 - loss: 0.4383\n",
      "Epoch 36: val_accuracy did not improve from 0.82937\n",
      "\u001b[1m24/24\u001b[0m \u001b[32m━━━━━━━━━━━━━━━━━━━━\u001b[0m\u001b[37m\u001b[0m \u001b[1m9s\u001b[0m 363ms/step - accuracy: 0.8602 - loss: 0.4397 - val_accuracy: 0.7619 - val_loss: 0.6431\n",
      "Epoch 37/75\n",
      "\u001b[1m24/24\u001b[0m \u001b[32m━━━━━━━━━━━━━━━━━━━━\u001b[0m\u001b[37m\u001b[0m \u001b[1m0s\u001b[0m 341ms/step - accuracy: 0.8239 - loss: 0.5344\n",
      "Epoch 37: val_accuracy did not improve from 0.82937\n",
      "\u001b[1m24/24\u001b[0m \u001b[32m━━━━━━━━━━━━━━━━━━━━\u001b[0m\u001b[37m\u001b[0m \u001b[1m9s\u001b[0m 371ms/step - accuracy: 0.8246 - loss: 0.5322 - val_accuracy: 0.7738 - val_loss: 0.5734\n",
      "Epoch 38/75\n",
      "\u001b[1m24/24\u001b[0m \u001b[32m━━━━━━━━━━━━━━━━━━━━\u001b[0m\u001b[37m\u001b[0m \u001b[1m0s\u001b[0m 333ms/step - accuracy: 0.8322 - loss: 0.4930\n",
      "Epoch 38: val_accuracy improved from 0.82937 to 0.86111, saving model to /content/results/tunnig_model.h5\n"
     ]
    },
    {
     "name": "stderr",
     "output_type": "stream",
     "text": [
      "WARNING:absl:You are saving your model as an HDF5 file via `model.save()` or `keras.saving.save_model(model)`. This file format is considered legacy. We recommend using instead the native Keras format, e.g. `model.save('my_model.keras')` or `keras.saving.save_model(model, 'my_model.keras')`. \n"
     ]
    },
    {
     "name": "stdout",
     "output_type": "stream",
     "text": [
      "\b\b\b\b\b\b\b\b\b\b\b\b\b\b\b\b\b\b\b\b\b\b\b\b\b\b\b\b\b\b\b\b\b\b\b\b\b\b\b\b\b\b\b\b\b\b\b\b\b\b\b\b\b\b\b\b\b\b\b\b\b\b\b\b\b\b\b\b\b\b\b\b\b\b\r\u001b[1m24/24\u001b[0m \u001b[32m━━━━━━━━━━━━━━━━━━━━\u001b[0m\u001b[37m\u001b[0m \u001b[1m9s\u001b[0m 372ms/step - accuracy: 0.8322 - loss: 0.4922 - val_accuracy: 0.8611 - val_loss: 0.4648\n",
      "Epoch 39/75\n",
      "\u001b[1m24/24\u001b[0m \u001b[32m━━━━━━━━━━━━━━━━━━━━\u001b[0m\u001b[37m\u001b[0m \u001b[1m0s\u001b[0m 336ms/step - accuracy: 0.8371 - loss: 0.4547\n",
      "Epoch 39: val_accuracy did not improve from 0.86111\n",
      "\u001b[1m24/24\u001b[0m \u001b[32m━━━━━━━━━━━━━━━━━━━━\u001b[0m\u001b[37m\u001b[0m \u001b[1m9s\u001b[0m 367ms/step - accuracy: 0.8371 - loss: 0.4552 - val_accuracy: 0.7778 - val_loss: 0.5972\n",
      "Epoch 40/75\n",
      "\u001b[1m24/24\u001b[0m \u001b[32m━━━━━━━━━━━━━━━━━━━━\u001b[0m\u001b[37m\u001b[0m \u001b[1m0s\u001b[0m 355ms/step - accuracy: 0.8375 - loss: 0.4709\n",
      "Epoch 40: val_accuracy improved from 0.86111 to 0.87698, saving model to /content/results/tunnig_model.h5\n"
     ]
    },
    {
     "name": "stderr",
     "output_type": "stream",
     "text": [
      "WARNING:absl:You are saving your model as an HDF5 file via `model.save()` or `keras.saving.save_model(model)`. This file format is considered legacy. We recommend using instead the native Keras format, e.g. `model.save('my_model.keras')` or `keras.saving.save_model(model, 'my_model.keras')`. \n"
     ]
    },
    {
     "name": "stdout",
     "output_type": "stream",
     "text": [
      "\b\b\b\b\b\b\b\b\b\b\b\b\b\b\b\b\b\b\b\b\b\b\b\b\b\b\b\b\b\b\b\b\b\b\b\b\b\b\b\b\b\b\b\b\b\b\b\b\b\b\b\b\b\b\b\b\b\b\b\b\b\b\b\b\b\b\b\b\b\b\b\b\b\b\r\u001b[1m24/24\u001b[0m \u001b[32m━━━━━━━━━━━━━━━━━━━━\u001b[0m\u001b[37m\u001b[0m \u001b[1m9s\u001b[0m 389ms/step - accuracy: 0.8376 - loss: 0.4702 - val_accuracy: 0.8770 - val_loss: 0.4335\n",
      "Epoch 41/75\n",
      "\u001b[1m24/24\u001b[0m \u001b[32m━━━━━━━━━━━━━━━━━━━━\u001b[0m\u001b[37m\u001b[0m \u001b[1m0s\u001b[0m 334ms/step - accuracy: 0.8391 - loss: 0.4708\n",
      "Epoch 41: val_accuracy did not improve from 0.87698\n",
      "\u001b[1m24/24\u001b[0m \u001b[32m━━━━━━━━━━━━━━━━━━━━\u001b[0m\u001b[37m\u001b[0m \u001b[1m9s\u001b[0m 367ms/step - accuracy: 0.8394 - loss: 0.4699 - val_accuracy: 0.8333 - val_loss: 0.4754\n",
      "Epoch 42/75\n",
      "\u001b[1m24/24\u001b[0m \u001b[32m━━━━━━━━━━━━━━━━━━━━\u001b[0m\u001b[37m\u001b[0m \u001b[1m0s\u001b[0m 334ms/step - accuracy: 0.8040 - loss: 0.5900\n",
      "Epoch 42: val_accuracy did not improve from 0.87698\n",
      "\u001b[1m24/24\u001b[0m \u001b[32m━━━━━━━━━━━━━━━━━━━━\u001b[0m\u001b[37m\u001b[0m \u001b[1m9s\u001b[0m 366ms/step - accuracy: 0.8045 - loss: 0.5889 - val_accuracy: 0.8135 - val_loss: 0.4859\n",
      "Epoch 43/75\n",
      "\u001b[1m24/24\u001b[0m \u001b[32m━━━━━━━━━━━━━━━━━━━━\u001b[0m\u001b[37m\u001b[0m \u001b[1m0s\u001b[0m 337ms/step - accuracy: 0.8483 - loss: 0.4611\n",
      "Epoch 43: val_accuracy did not improve from 0.87698\n",
      "\u001b[1m24/24\u001b[0m \u001b[32m━━━━━━━━━━━━━━━━━━━━\u001b[0m\u001b[37m\u001b[0m \u001b[1m9s\u001b[0m 369ms/step - accuracy: 0.8486 - loss: 0.4603 - val_accuracy: 0.8571 - val_loss: 0.4452\n",
      "Epoch 44/75\n",
      "\u001b[1m24/24\u001b[0m \u001b[32m━━━━━━━━━━━━━━━━━━━━\u001b[0m\u001b[37m\u001b[0m \u001b[1m0s\u001b[0m 331ms/step - accuracy: 0.8509 - loss: 0.4508\n",
      "Epoch 44: val_accuracy did not improve from 0.87698\n",
      "\u001b[1m24/24\u001b[0m \u001b[32m━━━━━━━━━━━━━━━━━━━━\u001b[0m\u001b[37m\u001b[0m \u001b[1m9s\u001b[0m 362ms/step - accuracy: 0.8498 - loss: 0.4549 - val_accuracy: 0.8333 - val_loss: 0.5033\n",
      "Epoch 45/75\n",
      "\u001b[1m24/24\u001b[0m \u001b[32m━━━━━━━━━━━━━━━━━━━━\u001b[0m\u001b[37m\u001b[0m \u001b[1m0s\u001b[0m 342ms/step - accuracy: 0.8564 - loss: 0.4328\n",
      "Epoch 45: val_accuracy did not improve from 0.87698\n",
      "\u001b[1m24/24\u001b[0m \u001b[32m━━━━━━━━━━━━━━━━━━━━\u001b[0m\u001b[37m\u001b[0m \u001b[1m9s\u001b[0m 376ms/step - accuracy: 0.8561 - loss: 0.4325 - val_accuracy: 0.8651 - val_loss: 0.4909\n",
      "Epoch 46/75\n",
      "\u001b[1m24/24\u001b[0m \u001b[32m━━━━━━━━━━━━━━━━━━━━\u001b[0m\u001b[37m\u001b[0m \u001b[1m0s\u001b[0m 333ms/step - accuracy: 0.8335 - loss: 0.5024\n",
      "Epoch 46: val_accuracy did not improve from 0.87698\n",
      "\u001b[1m24/24\u001b[0m \u001b[32m━━━━━━━━━━━━━━━━━━━━\u001b[0m\u001b[37m\u001b[0m \u001b[1m9s\u001b[0m 365ms/step - accuracy: 0.8336 - loss: 0.5015 - val_accuracy: 0.8254 - val_loss: 0.5011\n",
      "Epoch 47/75\n",
      "\u001b[1m24/24\u001b[0m \u001b[32m━━━━━━━━━━━━━━━━━━━━\u001b[0m\u001b[37m\u001b[0m \u001b[1m0s\u001b[0m 325ms/step - accuracy: 0.8586 - loss: 0.4052\n",
      "Epoch 47: val_accuracy did not improve from 0.87698\n",
      "\u001b[1m24/24\u001b[0m \u001b[32m━━━━━━━━━━━━━━━━━━━━\u001b[0m\u001b[37m\u001b[0m \u001b[1m9s\u001b[0m 357ms/step - accuracy: 0.8583 - loss: 0.4063 - val_accuracy: 0.8095 - val_loss: 0.5043\n",
      "Epoch 48/75\n",
      "\u001b[1m24/24\u001b[0m \u001b[32m━━━━━━━━━━━━━━━━━━━━\u001b[0m\u001b[37m\u001b[0m \u001b[1m0s\u001b[0m 341ms/step - accuracy: 0.8711 - loss: 0.4022\n",
      "Epoch 48: val_accuracy did not improve from 0.87698\n",
      "\u001b[1m24/24\u001b[0m \u001b[32m━━━━━━━━━━━━━━━━━━━━\u001b[0m\u001b[37m\u001b[0m \u001b[1m9s\u001b[0m 372ms/step - accuracy: 0.8704 - loss: 0.4031 - val_accuracy: 0.8611 - val_loss: 0.4080\n",
      "Epoch 49/75\n",
      "\u001b[1m24/24\u001b[0m \u001b[32m━━━━━━━━━━━━━━━━━━━━\u001b[0m\u001b[37m\u001b[0m \u001b[1m0s\u001b[0m 336ms/step - accuracy: 0.8425 - loss: 0.4547\n",
      "Epoch 49: val_accuracy did not improve from 0.87698\n",
      "\u001b[1m24/24\u001b[0m \u001b[32m━━━━━━━━━━━━━━━━━━━━\u001b[0m\u001b[37m\u001b[0m \u001b[1m9s\u001b[0m 369ms/step - accuracy: 0.8424 - loss: 0.4558 - val_accuracy: 0.8452 - val_loss: 0.4099\n",
      "Epoch 50/75\n",
      "\u001b[1m24/24\u001b[0m \u001b[32m━━━━━━━━━━━━━━━━━━━━\u001b[0m\u001b[37m\u001b[0m \u001b[1m0s\u001b[0m 336ms/step - accuracy: 0.8656 - loss: 0.4035\n",
      "Epoch 50: val_accuracy did not improve from 0.87698\n",
      "\u001b[1m24/24\u001b[0m \u001b[32m━━━━━━━━━━━━━━━━━━━━\u001b[0m\u001b[37m\u001b[0m \u001b[1m9s\u001b[0m 370ms/step - accuracy: 0.8654 - loss: 0.4040 - val_accuracy: 0.7976 - val_loss: 0.6416\n",
      "Epoch 51/75\n",
      "\u001b[1m24/24\u001b[0m \u001b[32m━━━━━━━━━━━━━━━━━━━━\u001b[0m\u001b[37m\u001b[0m \u001b[1m0s\u001b[0m 334ms/step - accuracy: 0.8157 - loss: 0.5355\n",
      "Epoch 51: val_accuracy did not improve from 0.87698\n",
      "\u001b[1m24/24\u001b[0m \u001b[32m━━━━━━━━━━━━━━━━━━━━\u001b[0m\u001b[37m\u001b[0m \u001b[1m9s\u001b[0m 366ms/step - accuracy: 0.8167 - loss: 0.5334 - val_accuracy: 0.8532 - val_loss: 0.4517\n",
      "Epoch 52/75\n",
      "\u001b[1m24/24\u001b[0m \u001b[32m━━━━━━━━━━━━━━━━━━━━\u001b[0m\u001b[37m\u001b[0m \u001b[1m0s\u001b[0m 342ms/step - accuracy: 0.8686 - loss: 0.3791\n",
      "Epoch 52: val_accuracy did not improve from 0.87698\n",
      "\u001b[1m24/24\u001b[0m \u001b[32m━━━━━━━━━━━━━━━━━━━━\u001b[0m\u001b[37m\u001b[0m \u001b[1m9s\u001b[0m 375ms/step - accuracy: 0.8680 - loss: 0.3808 - val_accuracy: 0.7857 - val_loss: 0.5884\n",
      "Epoch 53/75\n",
      "\u001b[1m24/24\u001b[0m \u001b[32m━━━━━━━━━━━━━━━━━━━━\u001b[0m\u001b[37m\u001b[0m \u001b[1m0s\u001b[0m 349ms/step - accuracy: 0.8435 - loss: 0.4849\n",
      "Epoch 53: val_accuracy did not improve from 0.87698\n",
      "\u001b[1m24/24\u001b[0m \u001b[32m━━━━━━━━━━━━━━━━━━━━\u001b[0m\u001b[37m\u001b[0m \u001b[1m9s\u001b[0m 382ms/step - accuracy: 0.8437 - loss: 0.4844 - val_accuracy: 0.8651 - val_loss: 0.4382\n",
      "Epoch 54/75\n",
      "\u001b[1m23/24\u001b[0m \u001b[32m━━━━━━━━━━━━━━━━━━━\u001b[0m\u001b[37m━\u001b[0m \u001b[1m0s\u001b[0m 353ms/step - accuracy: 0.8823 - loss: 0.3645\n",
      "Epoch 54: val_accuracy did not improve from 0.87698\n",
      "\u001b[1m24/24\u001b[0m \u001b[32m━━━━━━━━━━━━━━━━━━━━\u001b[0m\u001b[37m\u001b[0m \u001b[1m9s\u001b[0m 369ms/step - accuracy: 0.8810 - loss: 0.3666 - val_accuracy: 0.6825 - val_loss: 0.9351\n",
      "Epoch 55/75\n",
      "\u001b[1m24/24\u001b[0m \u001b[32m━━━━━━━━━━━━━━━━━━━━\u001b[0m\u001b[37m\u001b[0m \u001b[1m0s\u001b[0m 334ms/step - accuracy: 0.8201 - loss: 0.5154\n",
      "Epoch 55: val_accuracy did not improve from 0.87698\n",
      "\u001b[1m24/24\u001b[0m \u001b[32m━━━━━━━━━━━━━━━━━━━━\u001b[0m\u001b[37m\u001b[0m \u001b[1m9s\u001b[0m 370ms/step - accuracy: 0.8211 - loss: 0.5128 - val_accuracy: 0.8373 - val_loss: 0.4053\n",
      "Epoch 56/75\n",
      "\u001b[1m24/24\u001b[0m \u001b[32m━━━━━━━━━━━━━━━━━━━━\u001b[0m\u001b[37m\u001b[0m \u001b[1m0s\u001b[0m 344ms/step - accuracy: 0.8770 - loss: 0.3864\n",
      "Epoch 56: val_accuracy did not improve from 0.87698\n",
      "\u001b[1m24/24\u001b[0m \u001b[32m━━━━━━━━━━━━━━━━━━━━\u001b[0m\u001b[37m\u001b[0m \u001b[1m9s\u001b[0m 376ms/step - accuracy: 0.8768 - loss: 0.3866 - val_accuracy: 0.7897 - val_loss: 0.6232\n",
      "Epoch 57/75\n",
      "\u001b[1m24/24\u001b[0m \u001b[32m━━━━━━━━━━━━━━━━━━━━\u001b[0m\u001b[37m\u001b[0m \u001b[1m0s\u001b[0m 338ms/step - accuracy: 0.8453 - loss: 0.4233\n",
      "Epoch 57: val_accuracy did not improve from 0.87698\n",
      "\u001b[1m24/24\u001b[0m \u001b[32m━━━━━━━━━━━━━━━━━━━━\u001b[0m\u001b[37m\u001b[0m \u001b[1m9s\u001b[0m 373ms/step - accuracy: 0.8452 - loss: 0.4241 - val_accuracy: 0.7817 - val_loss: 0.5728\n",
      "Epoch 58/75\n",
      "\u001b[1m24/24\u001b[0m \u001b[32m━━━━━━━━━━━━━━━━━━━━\u001b[0m\u001b[37m\u001b[0m \u001b[1m0s\u001b[0m 344ms/step - accuracy: 0.8626 - loss: 0.4171\n",
      "Epoch 58: val_accuracy improved from 0.87698 to 0.88095, saving model to /content/results/tunnig_model.h5\n"
     ]
    },
    {
     "name": "stderr",
     "output_type": "stream",
     "text": [
      "WARNING:absl:You are saving your model as an HDF5 file via `model.save()` or `keras.saving.save_model(model)`. This file format is considered legacy. We recommend using instead the native Keras format, e.g. `model.save('my_model.keras')` or `keras.saving.save_model(model, 'my_model.keras')`. \n"
     ]
    },
    {
     "name": "stdout",
     "output_type": "stream",
     "text": [
      "\b\b\b\b\b\b\b\b\b\b\b\b\b\b\b\b\b\b\b\b\b\b\b\b\b\b\b\b\b\b\b\b\b\b\b\b\b\b\b\b\b\b\b\b\b\b\b\b\b\b\b\b\b\b\b\b\b\b\b\b\b\b\b\b\b\b\b\b\b\b\b\b\b\b\r\u001b[1m24/24\u001b[0m \u001b[32m━━━━━━━━━━━━━━━━━━━━\u001b[0m\u001b[37m\u001b[0m \u001b[1m9s\u001b[0m 377ms/step - accuracy: 0.8626 - loss: 0.4171 - val_accuracy: 0.8810 - val_loss: 0.4139\n",
      "Epoch 59/75\n",
      "\u001b[1m24/24\u001b[0m \u001b[32m━━━━━━━━━━━━━━━━━━━━\u001b[0m\u001b[37m\u001b[0m \u001b[1m0s\u001b[0m 334ms/step - accuracy: 0.8680 - loss: 0.3688\n",
      "Epoch 59: val_accuracy did not improve from 0.88095\n",
      "\u001b[1m24/24\u001b[0m \u001b[32m━━━━━━━━━━━━━━━━━━━━\u001b[0m\u001b[37m\u001b[0m \u001b[1m9s\u001b[0m 365ms/step - accuracy: 0.8679 - loss: 0.3693 - val_accuracy: 0.8690 - val_loss: 0.4120\n",
      "Epoch 60/75\n",
      "\u001b[1m24/24\u001b[0m \u001b[32m━━━━━━━━━━━━━━━━━━━━\u001b[0m\u001b[37m\u001b[0m \u001b[1m0s\u001b[0m 338ms/step - accuracy: 0.8489 - loss: 0.4127\n",
      "Epoch 60: val_accuracy did not improve from 0.88095\n",
      "\u001b[1m24/24\u001b[0m \u001b[32m━━━━━━━━━━━━━━━━━━━━\u001b[0m\u001b[37m\u001b[0m \u001b[1m9s\u001b[0m 372ms/step - accuracy: 0.8488 - loss: 0.4137 - val_accuracy: 0.8571 - val_loss: 0.4427\n",
      "Epoch 61/75\n",
      "\u001b[1m24/24\u001b[0m \u001b[32m━━━━━━━━━━━━━━━━━━━━\u001b[0m\u001b[37m\u001b[0m \u001b[1m0s\u001b[0m 344ms/step - accuracy: 0.8796 - loss: 0.3645\n",
      "Epoch 61: val_accuracy did not improve from 0.88095\n",
      "\u001b[1m24/24\u001b[0m \u001b[32m━━━━━━━━━━━━━━━━━━━━\u001b[0m\u001b[37m\u001b[0m \u001b[1m9s\u001b[0m 379ms/step - accuracy: 0.8793 - loss: 0.3652 - val_accuracy: 0.8611 - val_loss: 0.4027\n",
      "Epoch 62/75\n",
      "\u001b[1m24/24\u001b[0m \u001b[32m━━━━━━━━━━━━━━━━━━━━\u001b[0m\u001b[37m\u001b[0m \u001b[1m0s\u001b[0m 338ms/step - accuracy: 0.8748 - loss: 0.3952\n",
      "Epoch 62: val_accuracy did not improve from 0.88095\n",
      "\u001b[1m24/24\u001b[0m \u001b[32m━━━━━━━━━━━━━━━━━━━━\u001b[0m\u001b[37m\u001b[0m \u001b[1m9s\u001b[0m 370ms/step - accuracy: 0.8745 - loss: 0.3955 - val_accuracy: 0.8373 - val_loss: 0.4743\n",
      "Epoch 63/75\n",
      "\u001b[1m24/24\u001b[0m \u001b[32m━━━━━━━━━━━━━━━━━━━━\u001b[0m\u001b[37m\u001b[0m \u001b[1m0s\u001b[0m 366ms/step - accuracy: 0.8624 - loss: 0.4310\n",
      "Epoch 63: val_accuracy did not improve from 0.88095\n",
      "\u001b[1m24/24\u001b[0m \u001b[32m━━━━━━━━━━━━━━━━━━━━\u001b[0m\u001b[37m\u001b[0m \u001b[1m9s\u001b[0m 398ms/step - accuracy: 0.8625 - loss: 0.4297 - val_accuracy: 0.8611 - val_loss: 0.4630\n",
      "Epoch 64/75\n",
      "\u001b[1m24/24\u001b[0m \u001b[32m━━━━━━━━━━━━━━━━━━━━\u001b[0m\u001b[37m\u001b[0m \u001b[1m0s\u001b[0m 329ms/step - accuracy: 0.8816 - loss: 0.3694\n",
      "Epoch 64: val_accuracy did not improve from 0.88095\n",
      "\u001b[1m24/24\u001b[0m \u001b[32m━━━━━━━━━━━━━━━━━━━━\u001b[0m\u001b[37m\u001b[0m \u001b[1m9s\u001b[0m 365ms/step - accuracy: 0.8814 - loss: 0.3697 - val_accuracy: 0.8452 - val_loss: 0.4691\n",
      "Epoch 65/75\n",
      "\u001b[1m24/24\u001b[0m \u001b[32m━━━━━━━━━━━━━━━━━━━━\u001b[0m\u001b[37m\u001b[0m \u001b[1m0s\u001b[0m 339ms/step - accuracy: 0.8658 - loss: 0.3997\n",
      "Epoch 65: val_accuracy did not improve from 0.88095\n",
      "\u001b[1m24/24\u001b[0m \u001b[32m━━━━━━━━━━━━━━━━━━━━\u001b[0m\u001b[37m\u001b[0m \u001b[1m9s\u001b[0m 371ms/step - accuracy: 0.8659 - loss: 0.3996 - val_accuracy: 0.8016 - val_loss: 0.5267\n",
      "Epoch 66/75\n",
      "\u001b[1m24/24\u001b[0m \u001b[32m━━━━━━━━━━━━━━━━━━━━\u001b[0m\u001b[37m\u001b[0m \u001b[1m0s\u001b[0m 353ms/step - accuracy: 0.8406 - loss: 0.4958\n",
      "Epoch 66: val_accuracy did not improve from 0.88095\n",
      "\u001b[1m24/24\u001b[0m \u001b[32m━━━━━━━━━━━━━━━━━━━━\u001b[0m\u001b[37m\u001b[0m \u001b[1m9s\u001b[0m 385ms/step - accuracy: 0.8415 - loss: 0.4922 - val_accuracy: 0.8532 - val_loss: 0.4343\n",
      "Epoch 67/75\n",
      "\u001b[1m24/24\u001b[0m \u001b[32m━━━━━━━━━━━━━━━━━━━━\u001b[0m\u001b[37m\u001b[0m \u001b[1m0s\u001b[0m 337ms/step - accuracy: 0.8784 - loss: 0.3681\n",
      "Epoch 67: val_accuracy did not improve from 0.88095\n",
      "\u001b[1m24/24\u001b[0m \u001b[32m━━━━━━━━━━━━━━━━━━━━\u001b[0m\u001b[37m\u001b[0m \u001b[1m9s\u001b[0m 369ms/step - accuracy: 0.8780 - loss: 0.3685 - val_accuracy: 0.7817 - val_loss: 0.6649\n",
      "Epoch 68/75\n",
      "\u001b[1m24/24\u001b[0m \u001b[32m━━━━━━━━━━━━━━━━━━━━\u001b[0m\u001b[37m\u001b[0m \u001b[1m0s\u001b[0m 337ms/step - accuracy: 0.8721 - loss: 0.3886\n",
      "Epoch 68: val_accuracy did not improve from 0.88095\n",
      "\u001b[1m24/24\u001b[0m \u001b[32m━━━━━━━━━━━━━━━━━━━━\u001b[0m\u001b[37m\u001b[0m \u001b[1m9s\u001b[0m 367ms/step - accuracy: 0.8721 - loss: 0.3883 - val_accuracy: 0.8532 - val_loss: 0.4343\n",
      "Epoch 69/75\n",
      "\u001b[1m24/24\u001b[0m \u001b[32m━━━━━━━━━━━━━━━━━━━━\u001b[0m\u001b[37m\u001b[0m \u001b[1m0s\u001b[0m 337ms/step - accuracy: 0.8843 - loss: 0.3649\n",
      "Epoch 69: val_accuracy did not improve from 0.88095\n",
      "\u001b[1m24/24\u001b[0m \u001b[32m━━━━━━━━━━━━━━━━━━━━\u001b[0m\u001b[37m\u001b[0m \u001b[1m9s\u001b[0m 371ms/step - accuracy: 0.8841 - loss: 0.3650 - val_accuracy: 0.8770 - val_loss: 0.3956\n",
      "Epoch 70/75\n",
      "\u001b[1m24/24\u001b[0m \u001b[32m━━━━━━━━━━━━━━━━━━━━\u001b[0m\u001b[37m\u001b[0m \u001b[1m0s\u001b[0m 343ms/step - accuracy: 0.8731 - loss: 0.4087\n",
      "Epoch 70: val_accuracy did not improve from 0.88095\n",
      "\u001b[1m24/24\u001b[0m \u001b[32m━━━━━━━━━━━━━━━━━━━━\u001b[0m\u001b[37m\u001b[0m \u001b[1m9s\u001b[0m 377ms/step - accuracy: 0.8731 - loss: 0.4079 - val_accuracy: 0.7817 - val_loss: 0.6063\n",
      "Epoch 71/75\n",
      "\u001b[1m24/24\u001b[0m \u001b[32m━━━━━━━━━━━━━━━━━━━━\u001b[0m\u001b[37m\u001b[0m \u001b[1m0s\u001b[0m 346ms/step - accuracy: 0.8895 - loss: 0.3462\n",
      "Epoch 71: val_accuracy did not improve from 0.88095\n",
      "\u001b[1m24/24\u001b[0m \u001b[32m━━━━━━━━━━━━━━━━━━━━\u001b[0m\u001b[37m\u001b[0m \u001b[1m9s\u001b[0m 377ms/step - accuracy: 0.8887 - loss: 0.3479 - val_accuracy: 0.8214 - val_loss: 0.4423\n",
      "Epoch 72/75\n",
      "\u001b[1m24/24\u001b[0m \u001b[32m━━━━━━━━━━━━━━━━━━━━\u001b[0m\u001b[37m\u001b[0m \u001b[1m0s\u001b[0m 338ms/step - accuracy: 0.8796 - loss: 0.3744\n",
      "Epoch 72: val_accuracy did not improve from 0.88095\n",
      "\u001b[1m24/24\u001b[0m \u001b[32m━━━━━━━━━━━━━━━━━━━━\u001b[0m\u001b[37m\u001b[0m \u001b[1m9s\u001b[0m 370ms/step - accuracy: 0.8798 - loss: 0.3736 - val_accuracy: 0.8492 - val_loss: 0.5071\n",
      "Epoch 73/75\n",
      "\u001b[1m24/24\u001b[0m \u001b[32m━━━━━━━━━━━━━━━━━━━━\u001b[0m\u001b[37m\u001b[0m \u001b[1m0s\u001b[0m 323ms/step - accuracy: 0.8852 - loss: 0.3563\n",
      "Epoch 73: val_accuracy did not improve from 0.88095\n",
      "\u001b[1m24/24\u001b[0m \u001b[32m━━━━━━━━━━━━━━━━━━━━\u001b[0m\u001b[37m\u001b[0m \u001b[1m9s\u001b[0m 358ms/step - accuracy: 0.8848 - loss: 0.3572 - val_accuracy: 0.8175 - val_loss: 0.5747\n",
      "Epoch 74/75\n",
      "\u001b[1m24/24\u001b[0m \u001b[32m━━━━━━━━━━━━━━━━━━━━\u001b[0m\u001b[37m\u001b[0m \u001b[1m0s\u001b[0m 338ms/step - accuracy: 0.8878 - loss: 0.3399\n",
      "Epoch 74: val_accuracy did not improve from 0.88095\n",
      "\u001b[1m24/24\u001b[0m \u001b[32m━━━━━━━━━━━━━━━━━━━━\u001b[0m\u001b[37m\u001b[0m \u001b[1m9s\u001b[0m 373ms/step - accuracy: 0.8878 - loss: 0.3403 - val_accuracy: 0.8651 - val_loss: 0.4265\n",
      "Epoch 75/75\n",
      "\u001b[1m24/24\u001b[0m \u001b[32m━━━━━━━━━━━━━━━━━━━━\u001b[0m\u001b[37m\u001b[0m \u001b[1m0s\u001b[0m 343ms/step - accuracy: 0.8680 - loss: 0.4011\n",
      "Epoch 75: val_accuracy improved from 0.88095 to 0.89286, saving model to /content/results/tunnig_model.h5\n"
     ]
    },
    {
     "name": "stderr",
     "output_type": "stream",
     "text": [
      "WARNING:absl:You are saving your model as an HDF5 file via `model.save()` or `keras.saving.save_model(model)`. This file format is considered legacy. We recommend using instead the native Keras format, e.g. `model.save('my_model.keras')` or `keras.saving.save_model(model, 'my_model.keras')`. \n"
     ]
    },
    {
     "name": "stdout",
     "output_type": "stream",
     "text": [
      "\b\b\b\b\b\b\b\b\b\b\b\b\b\b\b\b\b\b\b\b\b\b\b\b\b\b\b\b\b\b\b\b\b\b\b\b\b\b\b\b\b\b\b\b\b\b\b\b\b\b\b\b\b\b\b\b\b\b\b\b\b\b\b\b\b\b\b\b\b\b\b\b\b\b\r\u001b[1m24/24\u001b[0m \u001b[32m━━━━━━━━━━━━━━━━━━━━\u001b[0m\u001b[37m\u001b[0m \u001b[1m9s\u001b[0m 377ms/step - accuracy: 0.8681 - loss: 0.4009 - val_accuracy: 0.8929 - val_loss: 0.4096\n"
     ]
    }
   ],
   "source": [
    "history_hypermodel = hypermodel.fit(\n",
    "    train_generator,\n",
    "    epochs=75,\n",
    "    validation_data=validation_generator,\n",
    "    callbacks = [callback_best_model('tunnig_model.h5')]\n",
    ")"
   ]
  },
  {
   "cell_type": "markdown",
   "metadata": {},
   "source": [
    "## 15. Hiperparametre Optimizasyonlu Modelin Öğrenme Eğrileri ve Yorum\n",
    "\n",
    "### A. Doğruluk (Accuracy) Eğrisi  \n",
    "\n",
    "- **Epoch 1**:  \n",
    "  - Eğitim doğruluğu ~0.38  \n",
    "  - Doğrulama doğruluğu ~0.28  \n",
    "- **Epoch 5**:  \n",
    "  - Hızlı yükseliş, val_acc ~0.60  \n",
    "- **Epoch 20–30**:  \n",
    "  - Eğitim: 0.75–0.83  \n",
    "  - Doğrulama: 0.77–0.83 (dalgalı)  \n",
    "- **Epoch 60+**:  \n",
    "  - Eğitim: ~0.88  \n",
    "  - Doğrulama: 0.85–0.90  \n",
    "- **Epoch 75 (son)**:  \n",
    "  - Val_acc: **0.8929**  \n",
    "\n",
    "> Eğri, modelin erken aşamalarda hızla öğrenip zamanla stabilize olduğunu, overfitting’in minimal kaldığını gösteriyor.\n",
    "\n",
    "---\n",
    "\n",
    "### B. Kayıp (Loss) Eğrisi  \n",
    "\n",
    "- **Epoch 1**:  \n",
    "  - Val_loss çok yüksek (~130) → başlangıçta rastgele ağırlıklarla oluşan aşırı kayıp  \n",
    "- **Epoch 2–3**:  \n",
    "  - Val_loss ~36 → ~18 → hızlı adaptasyon  \n",
    "- **Epoch 5–10**:  \n",
    "  - Train/val loss ~1.0’dan <0.5’e iniyor  \n",
    "- **Epoch 10+**:  \n",
    "  - Loss ~0.4 civarına yaklaşarak stabil kalıyor  \n",
    "- **Epoch 75**:  \n",
    "  - Train_loss: ~0.4009  \n",
    "  - Val_loss: ~0.4096  \n",
    "\n",
    "> Hızlı yakınsama, modelin kısa sürede kararlı bir duruma ulaştığını gösteriyor.\n",
    "\n",
    "---\n",
    "\n",
    "### C. Son Performans ve Genelleme\n",
    "\n",
    "- **Test Seti**:  \n",
    "  ```python\n",
    "  acc, loss = hypermodel.evaluate(test_generator)\n",
    "  # acc ≈ 0.8744, loss ≈ 0.3943\n"
   ]
  },
  {
   "cell_type": "code",
   "execution_count": 59,
   "metadata": {
    "colab": {
     "base_uri": "https://localhost:8080/",
     "height": 1000
    },
    "executionInfo": {
     "elapsed": 516,
     "status": "ok",
     "timestamp": 1746531968397,
     "user": {
      "displayName": "Kerem Kartal",
      "userId": "01578238521874098470"
     },
     "user_tz": -180
    },
    "id": "uOp38o1dMgpc",
    "outputId": "ba44f003-9778-4410-fc21-f51596a239ea"
   },
   "outputs": [
    {
     "data": {
      "image/png": "[encoded data removed]",
      "text/plain": [
       "<Figure size 800x600 with 1 Axes>"
      ]
     },
     "metadata": {},
     "output_type": "display_data"
    },
    {
     "data": {
      "image/png": "[encoded data removed]",
      "text/plain": [
       "<Figure size 800x600 with 1 Axes>"
      ]
     },
     "metadata": {},
     "output_type": "display_data"
    }
   ],
   "source": [
    "results_visualization_fancy(history_hypermodel)"
   ]
  },
  {
   "cell_type": "code",
   "execution_count": 41,
   "metadata": {
    "colab": {
     "base_uri": "https://localhost:8080/"
    },
    "executionInfo": {
     "elapsed": 6597,
     "status": "ok",
     "timestamp": 1746528956781,
     "user": {
      "displayName": "Kerem Kartal",
      "userId": "01578238521874098470"
     },
     "user_tz": -180
    },
    "id": "vd5INE8wPL-_",
    "outputId": "73bc63c9-2e90-42cc-d7c5-2a3b87003cfe"
   },
   "outputs": [
    {
     "name": "stdout",
     "output_type": "stream",
     "text": [
      "\u001b[1m10/10\u001b[0m \u001b[32m━━━━━━━━━━━━━━━━━━━━\u001b[0m\u001b[37m\u001b[0m \u001b[1m6s\u001b[0m 621ms/step - accuracy: 0.8750 - loss: 0.3943\n",
      "Accuracy in the validation set: 0.8744075894355774\n"
     ]
    }
   ],
   "source": [
    "print(f'Accuracy in the validation set: {hypermodel.evaluate(test_generator)[1]}')"
   ]
  },
  {
   "cell_type": "code",
   "execution_count": null,
   "metadata": {
    "colab": {
     "base_uri": "https://localhost:8080/"
    },
    "executionInfo": {
     "elapsed": 222,
     "status": "ok",
     "timestamp": 1746531147040,
     "user": {
      "displayName": "Kerem Kartal",
      "userId": "01578238521874098470"
     },
     "user_tz": -180
    },
    "id": "NJyTvLRiPUNM",
    "outputId": "2527d7d7-116d-4290-b120-75735d0b2e7a"
   },
   "outputs": [
    {
     "name": "stderr",
     "output_type": "stream",
     "text": [
      "WARNING:absl:Compiled the loaded model, but the compiled metrics have yet to be built. `model.compile_metrics` will be empty until you train or evaluate the model.\n"
     ]
    }
   ],
   "source": [
    "tunning_model = tf.keras.models.load_model('/content/results/tunnig_model.h5')"
   ]
  },
  {
   "cell_type": "code",
   "execution_count": null,
   "metadata": {
    "id": "dss5JcM0Vi_w"
   },
   "outputs": [],
   "source": [
    "results = model_base.evaluate(test_generator)"
   ]
  },
  {
   "cell_type": "code",
   "execution_count": 55,
   "metadata": {
    "executionInfo": {
     "elapsed": 203,
     "status": "ok",
     "timestamp": 1746531435528,
     "user": {
      "displayName": "Kerem Kartal",
      "userId": "01578238521874098470"
     },
     "user_tz": -180
    },
    "id": "r53eynjbYns9"
   },
   "outputs": [],
   "source": [
    "tunning_model = tf.keras.models.load_model(\n",
    "    '/content/results/tunnig_model.h5',\n",
    "    compile=False\n",
    ")\n"
   ]
  },
  {
   "cell_type": "code",
   "execution_count": 56,
   "metadata": {
    "executionInfo": {
     "elapsed": 24,
     "status": "ok",
     "timestamp": 1746531436788,
     "user": {
      "displayName": "Kerem Kartal",
      "userId": "01578238521874098470"
     },
     "user_tz": -180
    },
    "id": "Lo56Ei-RYqDc"
   },
   "outputs": [],
   "source": [
    "from tensorflow.keras.optimizers import RMSprop\n",
    "\n",
    "tunning_model.compile(\n",
    "    optimizer=RMSprop(learning_rate=best_hps.get('learning_rate')),\n",
    "    loss='categorical_crossentropy',\n",
    "    metrics=['accuracy']\n",
    ")\n"
   ]
  },
  {
   "cell_type": "code",
   "execution_count": null,
   "metadata": {
    "colab": {
     "base_uri": "https://localhost:8080/"
    },
    "executionInfo": {
     "elapsed": 7244,
     "status": "ok",
     "timestamp": 1746531445464,
     "user": {
      "displayName": "Kerem Kartal",
      "userId": "01578238521874098470"
     },
     "user_tz": -180
    },
    "id": "CpiMb_83YruQ",
    "outputId": "28f005f3-d9dc-4241-f75e-7cef6955bf12"
   },
   "outputs": [
    {
     "name": "stdout",
     "output_type": "stream",
     "text": [
      "\u001b[1m10/10\u001b[0m \u001b[32m━━━━━━━━━━━━━━━━━━━━\u001b[0m\u001b[37m\u001b[0m \u001b[1m5s\u001b[0m 360ms/step - accuracy: 0.8685 - loss: 0.3928\n",
      "Test seti doğruluğu: 0.8776\n",
      "\u001b[1m2/2\u001b[0m \u001b[32m━━━━━━━━━━━━━━━━━━━━\u001b[0m\u001b[37m\u001b[0m \u001b[1m1s\u001b[0m 802ms/step - accuracy: 0.8894 - loss: 0.3973\n",
      "Validation seti doğruluğu: 0.8849\n"
     ]
    }
   ],
   "source": [
    "test_loss, test_acc = tunning_model.evaluate(test_generator)\n",
    "print(f'Test seti doğruluğu: {test_acc:.4f}')\n",
    "\n",
    "val_loss, val_acc = tunning_model.evaluate(validation_generator)\n",
    "print(f'Validation seti doğruluğu: {val_acc:.4f}')\n"
   ]
  },
  {
   "cell_type": "markdown",
   "metadata": {},
   "source": [
    "## 16. Modellerin Karşılaştırması: Test Seti Performansları\n",
    "\n",
    "Aşağıda üç farklı modelin test seti üzerindeki doğruluk değerleri ve kısa bir yorum yer alıyor.\n",
    "\n",
    "---\n",
    "\n",
    "### A. Test Doğrulukları\n",
    "\n",
    "- **Base Model (MLP)**  \n",
    "  - MLP mimarisi: Flatten → Dense(50) → Dense(100) → Dense(4)  \n",
    "  - Optimizer: Adam  \n",
    "  - **Test Accuracy:** 0.7930 (79.30 %)\n",
    "\n",
    "- **CNN Model**  \n",
    "  - CNN mimarisi: 4× Conv + Pool + Dropout katmanları → Flatten → Dense(4)  \n",
    "  - Optimizer: Adam  \n",
    "  - **Test Accuracy:** 0.8673 (86.73 %)\n",
    "\n",
    "- **Tuning Model**  \n",
    "  - Hiperparametre optimizasyonlu CNN: `units=64`, `padding='same'`, `learning_rate=0.01`  \n",
    "  - Optimizer: RMSprop  \n",
    "  - **Test Accuracy:** 0.8728 (87.28 %)\n",
    "\n",
    "---\n",
    "\n",
    "### B. Karşılaştırmalı Tablo\n",
    "\n",
    "| Model          | Mimarisi                                    | Optimizör               | Test Accuracy |\n",
    "| :------------- | :------------------------------------------ | :---------------------- | ------------: |\n",
    "| **base_model** | Basit MLP                                   | Adam                    |        0.7930 |\n",
    "| **cnn_model**  | 4×Conv+Pool+Dropout → Flatten → Dense(4)    | Adam                    |        0.8673 |\n",
    "| **tuning_model** | Hiperparametre optimizasyonlu CNN         | RMSprop (lr=0.01)       |        0.8728 |\n",
    "\n",
    "---\n",
    "\n",
    "### C. Yorum ve Çıkarımlar\n",
    "\n",
    "1. **En İyi Model:**  \n",
    "   - `tuning_model` → %87.28 doğruluk  \n",
    "   - Hiperparametre araması sayesinde küçük ama anlamlı bir iyileşme sağlandı.\n",
    "\n",
    "2. **CNN’in Gücü:**  \n",
    "   - Basit MLP’ye kıyasla ilk CNN modeli bile %7.4 puanlık artış gösterdi.  \n",
    "   - Görüntü verisi için konvolüsyonel katmanların ne kadar etkili olduğu bir kez daha doğrulandı.\n",
    "\n",
    "3. **Genelleme Yeteneği:**  \n",
    "   - `tuning_model` ile test ve validation doğrulukları (%89.29 val, %87.28 test) birbirine yakın, iyi bir genelleme var.  \n",
    "   - Overfitting riski düşük, model tutarlı performans sağlıyor.\n",
    "\n",
    "---\n",
    "\n",
    "### D. İleri Analiz ve Öneriler\n",
    "\n",
    "- **Confusion Matrix & Sınıf Bazlı Raporlama**  \n",
    "  Her sınıf için precision/recall analiz ederek hangi hastalık sınıflarında hata yapıldığını inceleyin.\n",
    "- **Ensemble Yaklaşımı**  \n",
    "  `cnn_model` ve `tuning_model`’i bir araya getirerek oylama (voting) temelli ensemble ile performansı biraz daha artırabilirsiniz.\n",
    "- **Model Boyut ve Hız Karşılaştırması**  \n",
    "  Hiperparametre optimizasyonlu modelin eğitim ve çıkarım sürelerini diğer modellerle kıyaslayarak trade-off analizi yapın.\n"
   ]
  },
  {
   "cell_type": "code",
   "execution_count": null,
   "metadata": {
    "colab": {
     "base_uri": "https://localhost:8080/"
    },
    "executionInfo": {
     "elapsed": 18567,
     "status": "ok",
     "timestamp": 1746532610835,
     "user": {
      "displayName": "Kerem Kartal",
      "userId": "01578238521874098470"
     },
     "user_tz": -180
    },
    "id": "uuI6Qu4Ic8VU",
    "outputId": "c0f3c27e-b49e-4a77-ea53-8d68fa6460d3"
   },
   "outputs": [
    {
     "name": "stdout",
     "output_type": "stream",
     "text": [
      "base_model    → Test set doğruluğu: 0.7930\n",
      "cnn_model     → Test set doğruluğu: 0.8673\n",
      "tuning_model  → Test set doğruluğu: 0.8728\n",
      "\n",
      " En iyi model: tuning_model, doğruluk = 0.8728\n"
     ]
    }
   ],
   "source": [
    "from tensorflow.keras.models import load_model\n",
    "from tensorflow.keras.optimizers import RMSprop, Adam\n",
    "from google.colab import files\n",
    "\n",
    "model_paths = {\n",
    "    'base_model':      '/content/results/simple_model.h5',\n",
    "    'cnn_model':       '/content/results/cnn_model_performans.h5',\n",
    "    'tuning_model':    '/content/results/tunnig_model.h5'\n",
    "}\n",
    "\n",
    "results = {}\n",
    "for name, path in model_paths.items():\n",
    "    m = load_model(path, compile=False)\n",
    "\n",
    "    if name == 'tuning_model':\n",
    "        lr = best_hps.get('learning_rate')  \n",
    "        m.compile(optimizer=RMSprop(learning_rate=lr),\n",
    "                  loss='categorical_crossentropy',\n",
    "                  metrics=['accuracy'])\n",
    "    else:\n",
    "        m.compile(optimizer=Adam(),\n",
    "                  loss='categorical_crossentropy',\n",
    "                  metrics=['accuracy'])\n",
    "\n",
    "    loss, acc = m.evaluate(test_generator, verbose=0)\n",
    "    print(f\"{name:13s} → Test set doğruluğu: {acc:.4f}\")\n",
    "    results[name] = acc\n",
    "\n",
    "best_name = max(results, key=results.get)\n",
    "print(f\"\\n En iyi model: {best_name}, doğruluk = {results[best_name]:.4f}\")\n",
    "\n",
    "\n"
   ]
  }
 ],
 "metadata": {
  "accelerator": "GPU",
  "colab": {
   "authorship_tag": "ABX9TyP3Qaify7+gYduZ0xCKmHNN",
   "gpuType": "L4",
   "machine_shape": "hm",
   "mount_file_id": "1raz6XXtbloLNqEaV5wQenv99nTgyg64w",
   "provenance": []
  },
  "kernelspec": {
   "display_name": "Python 3",
   "name": "python3"
  },
  "language_info": {
   "codemirror_mode": {
    "name": "ipython",
    "version": 3
   },
   "file_extension": ".py",
   "mimetype": "text/x-python",
   "name": "python",
   "nbconvert_exporter": "python",
   "pygments_lexer": "ipython3",
   "version": "3.12.5"
  }
 },
 "nbformat": 4,
 "nbformat_minor": 0
}
